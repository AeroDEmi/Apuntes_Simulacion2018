{
 "cells": [
  {
   "cell_type": "markdown",
   "metadata": {},
   "source": [
    "# 3.3 Máximos y mínimos con varias variables"
   ]
  },
  {
   "cell_type": "markdown",
   "metadata": {},
   "source": [
    "1.- Encuentre los puntos críticos de $f(x,y)$ y resolviendo el sistema de ecuaciones simultáneas.\n",
    "$$f_x(x,y)=0$$\n",
    "$$f_y(x,y)=0$$\n",
    "\n",
    "2.- La prueba de la segunda derivada será:\n",
    "$$D(x,y)=f_{xx}(x,y)f_{yy}(x,y)-f^2_{xy}(x,y)$$\n",
    "\n",
    "a. $D(a,b)>0$ y $f_{xx}(a,b)<0$ implica que $f(x,y)$ tiene un máximo relativo en el punto (a,b).\n",
    "\n",
    "b. $D(a,b)>0$ y $f_{xx}(a,b)<0$ implica que $f(x,y)$ tiene un mínimo relativo en el punto (a,b).\n",
    "\n",
    "c. $D(a,b)<0$ implica que $f(x,y)$ no tiene un máximo relativo ni iun mínimo relativo en el punto $(a,b)$. El punto $(a,b,f(a,b))$ se llama punto silla.\n",
    "\n",
    "d. $D(a,b)=0$ nos indica que la prueba es inconclusa\n"
   ]
  },
  {
   "cell_type": "markdown",
   "metadata": {},
   "source": [
    "# 3.4 Ejemplo: Encuentre y determine los extremos relativos de la función:"
   ]
  },
  {
   "cell_type": "markdown",
   "metadata": {},
   "source": [
    "$$f(x,y)=x^2+y^2$$"
   ]
  },
  {
   "cell_type": "code",
   "execution_count": 18,
   "metadata": {},
   "outputs": [
    {
     "data": {
      "image/png": "[encoded data removed]",
      "text/latex": [
       "$$\\left ( x, \\quad y\\right )$$"
      ],
      "text/plain": [
       "(x, y)"
      ]
     },
     "execution_count": 18,
     "metadata": {},
     "output_type": "execute_result"
    }
   ],
   "source": [
    "%matplotlib notebook\n",
    "from sympy import *\n",
    "import numpy as np\n",
    "import matplotlib.pyplot as plt\n",
    "init_printing()\n",
    "var(\"x y\")"
   ]
  },
  {
   "cell_type": "code",
   "execution_count": 2,
   "metadata": {},
   "outputs": [
    {
     "data": {
      "image/png": "[encoded data removed]",
      "text/latex": [
       "$$x^{2} + y^{2}$$"
      ],
      "text/plain": [
       " 2    2\n",
       "x  + y "
      ]
     },
     "execution_count": 2,
     "metadata": {},
     "output_type": "execute_result"
    }
   ],
   "source": [
    "f=x**2+y**2\n",
    "f"
   ]
  },
  {
   "cell_type": "code",
   "execution_count": 3,
   "metadata": {},
   "outputs": [
    {
     "data": {
      "image/png": "[encoded data removed]",
      "text/latex": [
       "$$\\left ( 2 x, \\quad 2 y, \\quad 2, \\quad 2\\right )$$"
      ],
      "text/plain": [
       "(2⋅x, 2⋅y, 2, 2)"
      ]
     },
     "execution_count": 3,
     "metadata": {},
     "output_type": "execute_result"
    }
   ],
   "source": [
    "dxf=f.diff(x)\n",
    "dxxf=dxf.diff(x)\n",
    "dyf=f.diff(y)\n",
    "dyyf=dyf.diff(y)\n",
    "dxyf=dxf.diff(y)\n",
    "dxf,dyf,dxxf,dyyf"
   ]
  },
  {
   "cell_type": "code",
   "execution_count": 4,
   "metadata": {},
   "outputs": [
    {
     "data": {
      "image/png": "[encoded data removed]",
      "text/latex": [
       "$$\\left \\{ x : 0, \\quad y : 0\\right \\}$$"
      ],
      "text/plain": [
       "{x: 0, y: 0}"
      ]
     },
     "execution_count": 4,
     "metadata": {},
     "output_type": "execute_result"
    }
   ],
   "source": [
    "p=solve([dxf,dyf],[x,y])\n",
    "p"
   ]
  },
  {
   "cell_type": "code",
   "execution_count": 5,
   "metadata": {
    "scrolled": true
   },
   "outputs": [
    {
     "data": {
      "image/png": "[encoded data removed]",
      "text/latex": [
       "$$4$$"
      ],
      "text/plain": [
       "4"
      ]
     },
     "execution_count": 5,
     "metadata": {},
     "output_type": "execute_result"
    }
   ],
   "source": [
    "D=dxxf.subs({x:p[x],y:p[y]})*dxxf.subs({x:p[x],y:p[y]})-dxyf.subs({x:p[x],y:p[y]})**2\n",
    "D"
   ]
  },
  {
   "cell_type": "markdown",
   "metadata": {},
   "source": [
    "#### La prueba de la segunda derivada codificada se vería de la siguiente manera:"
   ]
  },
  {
   "cell_type": "code",
   "execution_count": 27,
   "metadata": {},
   "outputs": [
    {
     "name": "stdout",
     "output_type": "stream",
     "text": [
      "Existe un mínimo relativo en el punto:\n",
      "x= 0 y= 0\n"
     ]
    }
   ],
   "source": [
    "if D >0 and dxxf.subs({x:p[x],y:p[y]})<0:\n",
    "    print(\"Existe un máximo relativo en el punto:\")\n",
    "    print(\"x=\",p[x],\"y=\",p[y])\n",
    "if D>0 and dxxf.subs({x:p[x],y:p[y]})>0:\n",
    "    print(\"Existe un mínimo relativo en el punto:\")\n",
    "    print(\"x=\",p[x],\"y=\",p[y])\n",
    "if D<0:\n",
    "    print(\"Existen un punto silla en la coordenada:\")\n",
    "    print(\"x=\",p[x],\"y=\",p[y])\n",
    "if D==0:\n",
    "    print(\"La prueba es inconclusa\")\n",
    "    "
   ]
  },
  {
   "cell_type": "markdown",
   "metadata": {},
   "source": [
    "## Matriz Hessiana"
   ]
  },
  {
   "cell_type": "code",
   "execution_count": 6,
   "metadata": {},
   "outputs": [
    {
     "data": {
      "text/latex": [
       "$$\\left[\\begin{matrix}2 & 0\\\\0 & 2\\end{matrix}\\right]$$"
      ],
      "text/plain": [
       "⎡2  0⎤\n",
       "⎢    ⎥\n",
       "⎣0  2⎦"
      ]
     },
     "execution_count": 6,
     "metadata": {},
     "output_type": "execute_result"
    }
   ],
   "source": [
    "H=hessian(f,[x,y])\n",
    "H"
   ]
  },
  {
   "cell_type": "code",
   "execution_count": 7,
   "metadata": {},
   "outputs": [
    {
     "data": {
      "image/png": "[encoded data removed]",
      "text/latex": [
       "$$\\left \\{ 2 : 2\\right \\}$$"
      ],
      "text/plain": [
       "{2: 2}"
      ]
     },
     "execution_count": 7,
     "metadata": {},
     "output_type": "execute_result"
    }
   ],
   "source": [
    "H.eigenvals()"
   ]
  },
  {
   "cell_type": "markdown",
   "metadata": {},
   "source": [
    "#### En este caso la key del diccionario es el eigenvalor y el valor se refiere a la multiplicidad"
   ]
  },
  {
   "cell_type": "markdown",
   "metadata": {},
   "source": [
    "Concluimos que la matriz es definida positiva porque plos dos valores propios son positivos y repetidos igual a 2, entonces tiene un mínimor relativo en el punto "
   ]
  },
  {
   "cell_type": "markdown",
   "metadata": {},
   "source": [
    "# 4.1 Condicion de suficiencia"
   ]
  },
  {
   "cell_type": "markdown",
   "metadata": {},
   "source": [
    "## 4.3 Ejemplo\n"
   ]
  },
  {
   "cell_type": "markdown",
   "metadata": {},
   "source": [
    "$f(x,y)=x^3+3y^3+3x^2+3y^2+24 $"
   ]
  },
  {
   "cell_type": "code",
   "execution_count": 91,
   "metadata": {},
   "outputs": [
    {
     "data": {
      "image/png": "[encoded data removed]",
      "text/latex": [
       "$$x^{3} + 3 x^{2} + 3 y^{3} + 3 y^{2} + 24$$"
      ],
      "text/plain": [
       " 3      2      3      2     \n",
       "x  + 3⋅x  + 3⋅y  + 3⋅y  + 24"
      ]
     },
     "execution_count": 91,
     "metadata": {},
     "output_type": "execute_result"
    }
   ],
   "source": [
    "f=x**3+3*y**3+3*x**2+3*y**2+24\n",
    "f"
   ]
  },
  {
   "cell_type": "code",
   "execution_count": 92,
   "metadata": {},
   "outputs": [
    {
     "data": {
      "image/png": "[encoded data removed]",
      "text/latex": [
       "$$\\left [ 3 x^{2} + 6 x, \\quad 9 y^{2} + 6 y\\right ]$$"
      ],
      "text/plain": [
       "⎡   2           2      ⎤\n",
       "⎣3⋅x  + 6⋅x, 9⋅y  + 6⋅y⎦"
      ]
     },
     "execution_count": 92,
     "metadata": {},
     "output_type": "execute_result"
    }
   ],
   "source": [
    "nablaf=[f.diff(var) for var in [x,y]]\n",
    "nablaf"
   ]
  },
  {
   "cell_type": "code",
   "execution_count": 93,
   "metadata": {},
   "outputs": [
    {
     "data": {
      "image/png": "[encoded data removed]",
      "text/latex": [
       "$$\\left [ \\left \\{ x : -2, \\quad y : - \\frac{2}{3}\\right \\}, \\quad \\left \\{ x : -2, \\quad y : 0\\right \\}, \\quad \\left \\{ x : 0, \\quad y : - \\frac{2}{3}\\right \\}, \\quad \\left \\{ x : 0, \\quad y : 0\\right \\}\\right ]$$"
      ],
      "text/plain": [
       "[{x: -2, y: -2/3}, {x: -2, y: 0}, {x: 0, y: -2/3}, {x: 0, y: 0}]"
      ]
     },
     "execution_count": 93,
     "metadata": {},
     "output_type": "execute_result"
    }
   ],
   "source": [
    "#puntos críticos\n",
    "pcs=solve(nablaf)\n",
    "pcs"
   ]
  },
  {
   "cell_type": "code",
   "execution_count": 94,
   "metadata": {},
   "outputs": [
    {
     "data": {
      "text/latex": [
       "$$\\left[\\begin{matrix}6 x + 6 & 0\\\\0 & 18 y + 6\\end{matrix}\\right]$$"
      ],
      "text/plain": [
       "⎡6⋅x + 6     0    ⎤\n",
       "⎢                 ⎥\n",
       "⎣   0     18⋅y + 6⎦"
      ]
     },
     "execution_count": 94,
     "metadata": {},
     "output_type": "execute_result"
    }
   ],
   "source": [
    "H=hessian(f,[x,y])\n",
    "H"
   ]
  },
  {
   "cell_type": "code",
   "execution_count": 46,
   "metadata": {},
   "outputs": [
    {
     "name": "stdout",
     "output_type": "stream",
     "text": [
      "Punto crítico:  {x: -2, y: -2/3} sus eigenvalores son:  {-6: 2}\n",
      "Punto crítico:  {x: -2, y: 0} sus eigenvalores son:  {-6: 1, 6: 1}\n",
      "Punto crítico:  {x: 0, y: -2/3} sus eigenvalores son:  {-6: 1, 6: 1}\n",
      "Punto crítico:  {x: 0, y: 0} sus eigenvalores son:  {6: 2}\n"
     ]
    }
   ],
   "source": [
    "for pc in pcs:\n",
    "    eig=H.subs(pc).eigenvals()\n",
    "    print(\"Punto crítico: \",pc,\"sus eigenvalores son: \",eig)"
   ]
  },
  {
   "cell_type": "markdown",
   "metadata": {},
   "source": [
    "## Graficar"
   ]
  },
  {
   "cell_type": "code",
   "execution_count": 90,
   "metadata": {},
   "outputs": [
    {
     "data": {
      "application/javascript": [
       "/* Put everything inside the global mpl namespace */\n",
       "window.mpl = {};\n",
       "\n",
       "\n",
       "mpl.get_websocket_type = function() {\n",
       "    if (typeof(WebSocket) !== 'undefined') {\n",
       "        return WebSocket;\n",
       "    } else if (typeof(MozWebSocket) !== 'undefined') {\n",
       "        return MozWebSocket;\n",
       "    } else {\n",
       "        alert('Your browser does not have WebSocket support.' +\n",
       "              'Please try Chrome, Safari or Firefox ≥ 6. ' +\n",
       "              'Firefox 4 and 5 are also supported but you ' +\n",
       "              'have to enable WebSockets in about:config.');\n",
       "    };\n",
       "}\n",
       "\n",
       "mpl.figure = function(figure_id, websocket, ondownload, parent_element) {\n",
       "    this.id = figure_id;\n",
       "\n",
       "    this.ws = websocket;\n",
       "\n",
       "    this.supports_binary = (this.ws.binaryType != undefined);\n",
       "\n",
       "    if (!this.supports_binary) {\n",
       "        var warnings = document.getElementById(\"mpl-warnings\");\n",
       "        if (warnings) {\n",
       "            warnings.style.display = 'block';\n",
       "            warnings.textContent = (\n",
       "                \"This browser does not support binary websocket messages. \" +\n",
       "                    \"Performance may be slow.\");\n",
       "        }\n",
       "    }\n",
       "\n",
       "    this.imageObj = new Image();\n",
       "\n",
       "    this.context = undefined;\n",
       "    this.message = undefined;\n",
       "    this.canvas = undefined;\n",
       "    this.rubberband_canvas = undefined;\n",
       "    this.rubberband_context = undefined;\n",
       "    this.format_dropdown = undefined;\n",
       "\n",
       "    this.image_mode = 'full';\n",
       "\n",
       "    this.root = $('<div/>');\n",
       "    this._root_extra_style(this.root)\n",
       "    this.root.attr('style', 'display: inline-block');\n",
       "\n",
       "    $(parent_element).append(this.root);\n",
       "\n",
       "    this._init_header(this);\n",
       "    this._init_canvas(this);\n",
       "    this._init_toolbar(this);\n",
       "\n",
       "    var fig = this;\n",
       "\n",
       "    this.waiting = false;\n",
       "\n",
       "    this.ws.onopen =  function () {\n",
       "            fig.send_message(\"supports_binary\", {value: fig.supports_binary});\n",
       "            fig.send_message(\"send_image_mode\", {});\n",
       "            if (mpl.ratio != 1) {\n",
       "                fig.send_message(\"set_dpi_ratio\", {'dpi_ratio': mpl.ratio});\n",
       "            }\n",
       "            fig.send_message(\"refresh\", {});\n",
       "        }\n",
       "\n",
       "    this.imageObj.onload = function() {\n",
       "            if (fig.image_mode == 'full') {\n",
       "                // Full images could contain transparency (where diff images\n",
       "                // almost always do), so we need to clear the canvas so that\n",
       "                // there is no ghosting.\n",
       "                fig.context.clearRect(0, 0, fig.canvas.width, fig.canvas.height);\n",
       "            }\n",
       "            fig.context.drawImage(fig.imageObj, 0, 0);\n",
       "        };\n",
       "\n",
       "    this.imageObj.onunload = function() {\n",
       "        this.ws.close();\n",
       "    }\n",
       "\n",
       "    this.ws.onmessage = this._make_on_message_function(this);\n",
       "\n",
       "    this.ondownload = ondownload;\n",
       "}\n",
       "\n",
       "mpl.figure.prototype._init_header = function() {\n",
       "    var titlebar = $(\n",
       "        '<div class=\"ui-dialog-titlebar ui-widget-header ui-corner-all ' +\n",
       "        'ui-helper-clearfix\"/>');\n",
       "    var titletext = $(\n",
       "        '<div class=\"ui-dialog-title\" style=\"width: 100%; ' +\n",
       "        'text-align: center; padding: 3px;\"/>');\n",
       "    titlebar.append(titletext)\n",
       "    this.root.append(titlebar);\n",
       "    this.header = titletext[0];\n",
       "}\n",
       "\n",
       "\n",
       "\n",
       "mpl.figure.prototype._canvas_extra_style = function(canvas_div) {\n",
       "\n",
       "}\n",
       "\n",
       "\n",
       "mpl.figure.prototype._root_extra_style = function(canvas_div) {\n",
       "\n",
       "}\n",
       "\n",
       "mpl.figure.prototype._init_canvas = function() {\n",
       "    var fig = this;\n",
       "\n",
       "    var canvas_div = $('<div/>');\n",
       "\n",
       "    canvas_div.attr('style', 'position: relative; clear: both; outline: 0');\n",
       "\n",
       "    function canvas_keyboard_event(event) {\n",
       "        return fig.key_event(event, event['data']);\n",
       "    }\n",
       "\n",
       "    canvas_div.keydown('key_press', canvas_keyboard_event);\n",
       "    canvas_div.keyup('key_release', canvas_keyboard_event);\n",
       "    this.canvas_div = canvas_div\n",
       "    this._canvas_extra_style(canvas_div)\n",
       "    this.root.append(canvas_div);\n",
       "\n",
       "    var canvas = $('<canvas/>');\n",
       "    canvas.addClass('mpl-canvas');\n",
       "    canvas.attr('style', \"left: 0; top: 0; z-index: 0; outline: 0\")\n",
       "\n",
       "    this.canvas = canvas[0];\n",
       "    this.context = canvas[0].getContext(\"2d\");\n",
       "\n",
       "    var backingStore = this.context.backingStorePixelRatio ||\n",
       "\tthis.context.webkitBackingStorePixelRatio ||\n",
       "\tthis.context.mozBackingStorePixelRatio ||\n",
       "\tthis.context.msBackingStorePixelRatio ||\n",
       "\tthis.context.oBackingStorePixelRatio ||\n",
       "\tthis.context.backingStorePixelRatio || 1;\n",
       "\n",
       "    mpl.ratio = (window.devicePixelRatio || 1) / backingStore;\n",
       "\n",
       "    var rubberband = $('<canvas/>');\n",
       "    rubberband.attr('style', \"position: absolute; left: 0; top: 0; z-index: 1;\")\n",
       "\n",
       "    var pass_mouse_events = true;\n",
       "\n",
       "    canvas_div.resizable({\n",
       "        start: function(event, ui) {\n",
       "            pass_mouse_events = false;\n",
       "        },\n",
       "        resize: function(event, ui) {\n",
       "            fig.request_resize(ui.size.width, ui.size.height);\n",
       "        },\n",
       "        stop: function(event, ui) {\n",
       "            pass_mouse_events = true;\n",
       "            fig.request_resize(ui.size.width, ui.size.height);\n",
       "        },\n",
       "    });\n",
       "\n",
       "    function mouse_event_fn(event) {\n",
       "        if (pass_mouse_events)\n",
       "            return fig.mouse_event(event, event['data']);\n",
       "    }\n",
       "\n",
       "    rubberband.mousedown('button_press', mouse_event_fn);\n",
       "    rubberband.mouseup('button_release', mouse_event_fn);\n",
       "    // Throttle sequential mouse events to 1 every 20ms.\n",
       "    rubberband.mousemove('motion_notify', mouse_event_fn);\n",
       "\n",
       "    rubberband.mouseenter('figure_enter', mouse_event_fn);\n",
       "    rubberband.mouseleave('figure_leave', mouse_event_fn);\n",
       "\n",
       "    canvas_div.on(\"wheel\", function (event) {\n",
       "        event = event.originalEvent;\n",
       "        event['data'] = 'scroll'\n",
       "        if (event.deltaY < 0) {\n",
       "            event.step = 1;\n",
       "        } else {\n",
       "            event.step = -1;\n",
       "        }\n",
       "        mouse_event_fn(event);\n",
       "    });\n",
       "\n",
       "    canvas_div.append(canvas);\n",
       "    canvas_div.append(rubberband);\n",
       "\n",
       "    this.rubberband = rubberband;\n",
       "    this.rubberband_canvas = rubberband[0];\n",
       "    this.rubberband_context = rubberband[0].getContext(\"2d\");\n",
       "    this.rubberband_context.strokeStyle = \"#000000\";\n",
       "\n",
       "    this._resize_canvas = function(width, height) {\n",
       "        // Keep the size of the canvas, canvas container, and rubber band\n",
       "        // canvas in synch.\n",
       "        canvas_div.css('width', width)\n",
       "        canvas_div.css('height', height)\n",
       "\n",
       "        canvas.attr('width', width * mpl.ratio);\n",
       "        canvas.attr('height', height * mpl.ratio);\n",
       "        canvas.attr('style', 'width: ' + width + 'px; height: ' + height + 'px;');\n",
       "\n",
       "        rubberband.attr('width', width);\n",
       "        rubberband.attr('height', height);\n",
       "    }\n",
       "\n",
       "    // Set the figure to an initial 600x600px, this will subsequently be updated\n",
       "    // upon first draw.\n",
       "    this._resize_canvas(600, 600);\n",
       "\n",
       "    // Disable right mouse context menu.\n",
       "    $(this.rubberband_canvas).bind(\"contextmenu\",function(e){\n",
       "        return false;\n",
       "    });\n",
       "\n",
       "    function set_focus () {\n",
       "        canvas.focus();\n",
       "        canvas_div.focus();\n",
       "    }\n",
       "\n",
       "    window.setTimeout(set_focus, 100);\n",
       "}\n",
       "\n",
       "mpl.figure.prototype._init_toolbar = function() {\n",
       "    var fig = this;\n",
       "\n",
       "    var nav_element = $('<div/>')\n",
       "    nav_element.attr('style', 'width: 100%');\n",
       "    this.root.append(nav_element);\n",
       "\n",
       "    // Define a callback function for later on.\n",
       "    function toolbar_event(event) {\n",
       "        return fig.toolbar_button_onclick(event['data']);\n",
       "    }\n",
       "    function toolbar_mouse_event(event) {\n",
       "        return fig.toolbar_button_onmouseover(event['data']);\n",
       "    }\n",
       "\n",
       "    for(var toolbar_ind in mpl.toolbar_items) {\n",
       "        var name = mpl.toolbar_items[toolbar_ind][0];\n",
       "        var tooltip = mpl.toolbar_items[toolbar_ind][1];\n",
       "        var image = mpl.toolbar_items[toolbar_ind][2];\n",
       "        var method_name = mpl.toolbar_items[toolbar_ind][3];\n",
       "\n",
       "        if (!name) {\n",
       "            // put a spacer in here.\n",
       "            continue;\n",
       "        }\n",
       "        var button = $('<button/>');\n",
       "        button.addClass('ui-button ui-widget ui-state-default ui-corner-all ' +\n",
       "                        'ui-button-icon-only');\n",
       "        button.attr('role', 'button');\n",
       "        button.attr('aria-disabled', 'false');\n",
       "        button.click(method_name, toolbar_event);\n",
       "        button.mouseover(tooltip, toolbar_mouse_event);\n",
       "\n",
       "        var icon_img = $('<span/>');\n",
       "        icon_img.addClass('ui-button-icon-primary ui-icon');\n",
       "        icon_img.addClass(image);\n",
       "        icon_img.addClass('ui-corner-all');\n",
       "\n",
       "        var tooltip_span = $('<span/>');\n",
       "        tooltip_span.addClass('ui-button-text');\n",
       "        tooltip_span.html(tooltip);\n",
       "\n",
       "        button.append(icon_img);\n",
       "        button.append(tooltip_span);\n",
       "\n",
       "        nav_element.append(button);\n",
       "    }\n",
       "\n",
       "    var fmt_picker_span = $('<span/>');\n",
       "\n",
       "    var fmt_picker = $('<select/>');\n",
       "    fmt_picker.addClass('mpl-toolbar-option ui-widget ui-widget-content');\n",
       "    fmt_picker_span.append(fmt_picker);\n",
       "    nav_element.append(fmt_picker_span);\n",
       "    this.format_dropdown = fmt_picker[0];\n",
       "\n",
       "    for (var ind in mpl.extensions) {\n",
       "        var fmt = mpl.extensions[ind];\n",
       "        var option = $(\n",
       "            '<option/>', {selected: fmt === mpl.default_extension}).html(fmt);\n",
       "        fmt_picker.append(option)\n",
       "    }\n",
       "\n",
       "    // Add hover states to the ui-buttons\n",
       "    $( \".ui-button\" ).hover(\n",
       "        function() { $(this).addClass(\"ui-state-hover\");},\n",
       "        function() { $(this).removeClass(\"ui-state-hover\");}\n",
       "    );\n",
       "\n",
       "    var status_bar = $('<span class=\"mpl-message\"/>');\n",
       "    nav_element.append(status_bar);\n",
       "    this.message = status_bar[0];\n",
       "}\n",
       "\n",
       "mpl.figure.prototype.request_resize = function(x_pixels, y_pixels) {\n",
       "    // Request matplotlib to resize the figure. Matplotlib will then trigger a resize in the client,\n",
       "    // which will in turn request a refresh of the image.\n",
       "    this.send_message('resize', {'width': x_pixels, 'height': y_pixels});\n",
       "}\n",
       "\n",
       "mpl.figure.prototype.send_message = function(type, properties) {\n",
       "    properties['type'] = type;\n",
       "    properties['figure_id'] = this.id;\n",
       "    this.ws.send(JSON.stringify(properties));\n",
       "}\n",
       "\n",
       "mpl.figure.prototype.send_draw_message = function() {\n",
       "    if (!this.waiting) {\n",
       "        this.waiting = true;\n",
       "        this.ws.send(JSON.stringify({type: \"draw\", figure_id: this.id}));\n",
       "    }\n",
       "}\n",
       "\n",
       "\n",
       "mpl.figure.prototype.handle_save = function(fig, msg) {\n",
       "    var format_dropdown = fig.format_dropdown;\n",
       "    var format = format_dropdown.options[format_dropdown.selectedIndex].value;\n",
       "    fig.ondownload(fig, format);\n",
       "}\n",
       "\n",
       "\n",
       "mpl.figure.prototype.handle_resize = function(fig, msg) {\n",
       "    var size = msg['size'];\n",
       "    if (size[0] != fig.canvas.width || size[1] != fig.canvas.height) {\n",
       "        fig._resize_canvas(size[0], size[1]);\n",
       "        fig.send_message(\"refresh\", {});\n",
       "    };\n",
       "}\n",
       "\n",
       "mpl.figure.prototype.handle_rubberband = function(fig, msg) {\n",
       "    var x0 = msg['x0'] / mpl.ratio;\n",
       "    var y0 = (fig.canvas.height - msg['y0']) / mpl.ratio;\n",
       "    var x1 = msg['x1'] / mpl.ratio;\n",
       "    var y1 = (fig.canvas.height - msg['y1']) / mpl.ratio;\n",
       "    x0 = Math.floor(x0) + 0.5;\n",
       "    y0 = Math.floor(y0) + 0.5;\n",
       "    x1 = Math.floor(x1) + 0.5;\n",
       "    y1 = Math.floor(y1) + 0.5;\n",
       "    var min_x = Math.min(x0, x1);\n",
       "    var min_y = Math.min(y0, y1);\n",
       "    var width = Math.abs(x1 - x0);\n",
       "    var height = Math.abs(y1 - y0);\n",
       "\n",
       "    fig.rubberband_context.clearRect(\n",
       "        0, 0, fig.canvas.width, fig.canvas.height);\n",
       "\n",
       "    fig.rubberband_context.strokeRect(min_x, min_y, width, height);\n",
       "}\n",
       "\n",
       "mpl.figure.prototype.handle_figure_label = function(fig, msg) {\n",
       "    // Updates the figure title.\n",
       "    fig.header.textContent = msg['label'];\n",
       "}\n",
       "\n",
       "mpl.figure.prototype.handle_cursor = function(fig, msg) {\n",
       "    var cursor = msg['cursor'];\n",
       "    switch(cursor)\n",
       "    {\n",
       "    case 0:\n",
       "        cursor = 'pointer';\n",
       "        break;\n",
       "    case 1:\n",
       "        cursor = 'default';\n",
       "        break;\n",
       "    case 2:\n",
       "        cursor = 'crosshair';\n",
       "        break;\n",
       "    case 3:\n",
       "        cursor = 'move';\n",
       "        break;\n",
       "    }\n",
       "    fig.rubberband_canvas.style.cursor = cursor;\n",
       "}\n",
       "\n",
       "mpl.figure.prototype.handle_message = function(fig, msg) {\n",
       "    fig.message.textContent = msg['message'];\n",
       "}\n",
       "\n",
       "mpl.figure.prototype.handle_draw = function(fig, msg) {\n",
       "    // Request the server to send over a new figure.\n",
       "    fig.send_draw_message();\n",
       "}\n",
       "\n",
       "mpl.figure.prototype.handle_image_mode = function(fig, msg) {\n",
       "    fig.image_mode = msg['mode'];\n",
       "}\n",
       "\n",
       "mpl.figure.prototype.updated_canvas_event = function() {\n",
       "    // Called whenever the canvas gets updated.\n",
       "    this.send_message(\"ack\", {});\n",
       "}\n",
       "\n",
       "// A function to construct a web socket function for onmessage handling.\n",
       "// Called in the figure constructor.\n",
       "mpl.figure.prototype._make_on_message_function = function(fig) {\n",
       "    return function socket_on_message(evt) {\n",
       "        if (evt.data instanceof Blob) {\n",
       "            /* FIXME: We get \"Resource interpreted as Image but\n",
       "             * transferred with MIME type text/plain:\" errors on\n",
       "             * Chrome.  But how to set the MIME type?  It doesn't seem\n",
       "             * to be part of the websocket stream */\n",
       "            evt.data.type = \"image/png\";\n",
       "\n",
       "            /* Free the memory for the previous frames */\n",
       "            if (fig.imageObj.src) {\n",
       "                (window.URL || window.webkitURL).revokeObjectURL(\n",
       "                    fig.imageObj.src);\n",
       "            }\n",
       "\n",
       "            fig.imageObj.src = (window.URL || window.webkitURL).createObjectURL(\n",
       "                evt.data);\n",
       "            fig.updated_canvas_event();\n",
       "            fig.waiting = false;\n",
       "            return;\n",
       "        }\n",
       "        else if (typeof evt.data === 'string' && evt.data.slice(0, 21) == \"data:image/png;base64\") {\n",
       "            fig.imageObj.src = evt.data;\n",
       "            fig.updated_canvas_event();\n",
       "            fig.waiting = false;\n",
       "            return;\n",
       "        }\n",
       "\n",
       "        var msg = JSON.parse(evt.data);\n",
       "        var msg_type = msg['type'];\n",
       "\n",
       "        // Call the  \"handle_{type}\" callback, which takes\n",
       "        // the figure and JSON message as its only arguments.\n",
       "        try {\n",
       "            var callback = fig[\"handle_\" + msg_type];\n",
       "        } catch (e) {\n",
       "            console.log(\"No handler for the '\" + msg_type + \"' message type: \", msg);\n",
       "            return;\n",
       "        }\n",
       "\n",
       "        if (callback) {\n",
       "            try {\n",
       "                // console.log(\"Handling '\" + msg_type + \"' message: \", msg);\n",
       "                callback(fig, msg);\n",
       "            } catch (e) {\n",
       "                console.log(\"Exception inside the 'handler_\" + msg_type + \"' callback:\", e, e.stack, msg);\n",
       "            }\n",
       "        }\n",
       "    };\n",
       "}\n",
       "\n",
       "// from http://stackoverflow.com/questions/1114465/getting-mouse-location-in-canvas\n",
       "mpl.findpos = function(e) {\n",
       "    //this section is from http://www.quirksmode.org/js/events_properties.html\n",
       "    var targ;\n",
       "    if (!e)\n",
       "        e = window.event;\n",
       "    if (e.target)\n",
       "        targ = e.target;\n",
       "    else if (e.srcElement)\n",
       "        targ = e.srcElement;\n",
       "    if (targ.nodeType == 3) // defeat Safari bug\n",
       "        targ = targ.parentNode;\n",
       "\n",
       "    // jQuery normalizes the pageX and pageY\n",
       "    // pageX,Y are the mouse positions relative to the document\n",
       "    // offset() returns the position of the element relative to the document\n",
       "    var x = e.pageX - $(targ).offset().left;\n",
       "    var y = e.pageY - $(targ).offset().top;\n",
       "\n",
       "    return {\"x\": x, \"y\": y};\n",
       "};\n",
       "\n",
       "/*\n",
       " * return a copy of an object with only non-object keys\n",
       " * we need this to avoid circular references\n",
       " * http://stackoverflow.com/a/24161582/3208463\n",
       " */\n",
       "function simpleKeys (original) {\n",
       "  return Object.keys(original).reduce(function (obj, key) {\n",
       "    if (typeof original[key] !== 'object')\n",
       "        obj[key] = original[key]\n",
       "    return obj;\n",
       "  }, {});\n",
       "}\n",
       "\n",
       "mpl.figure.prototype.mouse_event = function(event, name) {\n",
       "    var canvas_pos = mpl.findpos(event)\n",
       "\n",
       "    if (name === 'button_press')\n",
       "    {\n",
       "        this.canvas.focus();\n",
       "        this.canvas_div.focus();\n",
       "    }\n",
       "\n",
       "    var x = canvas_pos.x * mpl.ratio;\n",
       "    var y = canvas_pos.y * mpl.ratio;\n",
       "\n",
       "    this.send_message(name, {x: x, y: y, button: event.button,\n",
       "                             step: event.step,\n",
       "                             guiEvent: simpleKeys(event)});\n",
       "\n",
       "    /* This prevents the web browser from automatically changing to\n",
       "     * the text insertion cursor when the button is pressed.  We want\n",
       "     * to control all of the cursor setting manually through the\n",
       "     * 'cursor' event from matplotlib */\n",
       "    event.preventDefault();\n",
       "    return false;\n",
       "}\n",
       "\n",
       "mpl.figure.prototype._key_event_extra = function(event, name) {\n",
       "    // Handle any extra behaviour associated with a key event\n",
       "}\n",
       "\n",
       "mpl.figure.prototype.key_event = function(event, name) {\n",
       "\n",
       "    // Prevent repeat events\n",
       "    if (name == 'key_press')\n",
       "    {\n",
       "        if (event.which === this._key)\n",
       "            return;\n",
       "        else\n",
       "            this._key = event.which;\n",
       "    }\n",
       "    if (name == 'key_release')\n",
       "        this._key = null;\n",
       "\n",
       "    var value = '';\n",
       "    if (event.ctrlKey && event.which != 17)\n",
       "        value += \"ctrl+\";\n",
       "    if (event.altKey && event.which != 18)\n",
       "        value += \"alt+\";\n",
       "    if (event.shiftKey && event.which != 16)\n",
       "        value += \"shift+\";\n",
       "\n",
       "    value += 'k';\n",
       "    value += event.which.toString();\n",
       "\n",
       "    this._key_event_extra(event, name);\n",
       "\n",
       "    this.send_message(name, {key: value,\n",
       "                             guiEvent: simpleKeys(event)});\n",
       "    return false;\n",
       "}\n",
       "\n",
       "mpl.figure.prototype.toolbar_button_onclick = function(name) {\n",
       "    if (name == 'download') {\n",
       "        this.handle_save(this, null);\n",
       "    } else {\n",
       "        this.send_message(\"toolbar_button\", {name: name});\n",
       "    }\n",
       "};\n",
       "\n",
       "mpl.figure.prototype.toolbar_button_onmouseover = function(tooltip) {\n",
       "    this.message.textContent = tooltip;\n",
       "};\n",
       "mpl.toolbar_items = [[\"Home\", \"Reset original view\", \"fa fa-home icon-home\", \"home\"], [\"Back\", \"Back to  previous view\", \"fa fa-arrow-left icon-arrow-left\", \"back\"], [\"Forward\", \"Forward to next view\", \"fa fa-arrow-right icon-arrow-right\", \"forward\"], [\"\", \"\", \"\", \"\"], [\"Pan\", \"Pan axes with left mouse, zoom with right\", \"fa fa-arrows icon-move\", \"pan\"], [\"Zoom\", \"Zoom to rectangle\", \"fa fa-square-o icon-check-empty\", \"zoom\"], [\"\", \"\", \"\", \"\"], [\"Download\", \"Download plot\", \"fa fa-floppy-o icon-save\", \"download\"]];\n",
       "\n",
       "mpl.extensions = [\"eps\", \"jpeg\", \"pdf\", \"png\", \"ps\", \"raw\", \"svg\", \"tif\"];\n",
       "\n",
       "mpl.default_extension = \"png\";var comm_websocket_adapter = function(comm) {\n",
       "    // Create a \"websocket\"-like object which calls the given IPython comm\n",
       "    // object with the appropriate methods. Currently this is a non binary\n",
       "    // socket, so there is still some room for performance tuning.\n",
       "    var ws = {};\n",
       "\n",
       "    ws.close = function() {\n",
       "        comm.close()\n",
       "    };\n",
       "    ws.send = function(m) {\n",
       "        //console.log('sending', m);\n",
       "        comm.send(m);\n",
       "    };\n",
       "    // Register the callback with on_msg.\n",
       "    comm.on_msg(function(msg) {\n",
       "        //console.log('receiving', msg['content']['data'], msg);\n",
       "        // Pass the mpl event to the overriden (by mpl) onmessage function.\n",
       "        ws.onmessage(msg['content']['data'])\n",
       "    });\n",
       "    return ws;\n",
       "}\n",
       "\n",
       "mpl.mpl_figure_comm = function(comm, msg) {\n",
       "    // This is the function which gets called when the mpl process\n",
       "    // starts-up an IPython Comm through the \"matplotlib\" channel.\n",
       "\n",
       "    var id = msg.content.data.id;\n",
       "    // Get hold of the div created by the display call when the Comm\n",
       "    // socket was opened in Python.\n",
       "    var element = $(\"#\" + id);\n",
       "    var ws_proxy = comm_websocket_adapter(comm)\n",
       "\n",
       "    function ondownload(figure, format) {\n",
       "        window.open(figure.imageObj.src);\n",
       "    }\n",
       "\n",
       "    var fig = new mpl.figure(id, ws_proxy,\n",
       "                           ondownload,\n",
       "                           element.get(0));\n",
       "\n",
       "    // Call onopen now - mpl needs it, as it is assuming we've passed it a real\n",
       "    // web socket which is closed, not our websocket->open comm proxy.\n",
       "    ws_proxy.onopen();\n",
       "\n",
       "    fig.parent_element = element.get(0);\n",
       "    fig.cell_info = mpl.find_output_cell(\"<div id='\" + id + \"'></div>\");\n",
       "    if (!fig.cell_info) {\n",
       "        console.error(\"Failed to find cell for figure\", id, fig);\n",
       "        return;\n",
       "    }\n",
       "\n",
       "    var output_index = fig.cell_info[2]\n",
       "    var cell = fig.cell_info[0];\n",
       "\n",
       "};\n",
       "\n",
       "mpl.figure.prototype.handle_close = function(fig, msg) {\n",
       "    var width = fig.canvas.width/mpl.ratio\n",
       "    fig.root.unbind('remove')\n",
       "\n",
       "    // Update the output cell to use the data from the current canvas.\n",
       "    fig.push_to_output();\n",
       "    var dataURL = fig.canvas.toDataURL();\n",
       "    // Re-enable the keyboard manager in IPython - without this line, in FF,\n",
       "    // the notebook keyboard shortcuts fail.\n",
       "    IPython.keyboard_manager.enable()\n",
       "    $(fig.parent_element).html('<img src=\"' + dataURL + '\" width=\"' + width + '\">');\n",
       "    fig.close_ws(fig, msg);\n",
       "}\n",
       "\n",
       "mpl.figure.prototype.close_ws = function(fig, msg){\n",
       "    fig.send_message('closing', msg);\n",
       "    // fig.ws.close()\n",
       "}\n",
       "\n",
       "mpl.figure.prototype.push_to_output = function(remove_interactive) {\n",
       "    // Turn the data on the canvas into data in the output cell.\n",
       "    var width = this.canvas.width/mpl.ratio\n",
       "    var dataURL = this.canvas.toDataURL();\n",
       "    this.cell_info[1]['text/html'] = '<img src=\"' + dataURL + '\" width=\"' + width + '\">';\n",
       "}\n",
       "\n",
       "mpl.figure.prototype.updated_canvas_event = function() {\n",
       "    // Tell IPython that the notebook contents must change.\n",
       "    IPython.notebook.set_dirty(true);\n",
       "    this.send_message(\"ack\", {});\n",
       "    var fig = this;\n",
       "    // Wait a second, then push the new image to the DOM so\n",
       "    // that it is saved nicely (might be nice to debounce this).\n",
       "    setTimeout(function () { fig.push_to_output() }, 1000);\n",
       "}\n",
       "\n",
       "mpl.figure.prototype._init_toolbar = function() {\n",
       "    var fig = this;\n",
       "\n",
       "    var nav_element = $('<div/>')\n",
       "    nav_element.attr('style', 'width: 100%');\n",
       "    this.root.append(nav_element);\n",
       "\n",
       "    // Define a callback function for later on.\n",
       "    function toolbar_event(event) {\n",
       "        return fig.toolbar_button_onclick(event['data']);\n",
       "    }\n",
       "    function toolbar_mouse_event(event) {\n",
       "        return fig.toolbar_button_onmouseover(event['data']);\n",
       "    }\n",
       "\n",
       "    for(var toolbar_ind in mpl.toolbar_items){\n",
       "        var name = mpl.toolbar_items[toolbar_ind][0];\n",
       "        var tooltip = mpl.toolbar_items[toolbar_ind][1];\n",
       "        var image = mpl.toolbar_items[toolbar_ind][2];\n",
       "        var method_name = mpl.toolbar_items[toolbar_ind][3];\n",
       "\n",
       "        if (!name) { continue; };\n",
       "\n",
       "        var button = $('<button class=\"btn btn-default\" href=\"#\" title=\"' + name + '\"><i class=\"fa ' + image + ' fa-lg\"></i></button>');\n",
       "        button.click(method_name, toolbar_event);\n",
       "        button.mouseover(tooltip, toolbar_mouse_event);\n",
       "        nav_element.append(button);\n",
       "    }\n",
       "\n",
       "    // Add the status bar.\n",
       "    var status_bar = $('<span class=\"mpl-message\" style=\"text-align:right; float: right;\"/>');\n",
       "    nav_element.append(status_bar);\n",
       "    this.message = status_bar[0];\n",
       "\n",
       "    // Add the close button to the window.\n",
       "    var buttongrp = $('<div class=\"btn-group inline pull-right\"></div>');\n",
       "    var button = $('<button class=\"btn btn-mini btn-primary\" href=\"#\" title=\"Stop Interaction\"><i class=\"fa fa-power-off icon-remove icon-large\"></i></button>');\n",
       "    button.click(function (evt) { fig.handle_close(fig, {}); } );\n",
       "    button.mouseover('Stop Interaction', toolbar_mouse_event);\n",
       "    buttongrp.append(button);\n",
       "    var titlebar = this.root.find($('.ui-dialog-titlebar'));\n",
       "    titlebar.prepend(buttongrp);\n",
       "}\n",
       "\n",
       "mpl.figure.prototype._root_extra_style = function(el){\n",
       "    var fig = this\n",
       "    el.on(\"remove\", function(){\n",
       "\tfig.close_ws(fig, {});\n",
       "    });\n",
       "}\n",
       "\n",
       "mpl.figure.prototype._canvas_extra_style = function(el){\n",
       "    // this is important to make the div 'focusable\n",
       "    el.attr('tabindex', 0)\n",
       "    // reach out to IPython and tell the keyboard manager to turn it's self\n",
       "    // off when our div gets focus\n",
       "\n",
       "    // location in version 3\n",
       "    if (IPython.notebook.keyboard_manager) {\n",
       "        IPython.notebook.keyboard_manager.register_events(el);\n",
       "    }\n",
       "    else {\n",
       "        // location in version 2\n",
       "        IPython.keyboard_manager.register_events(el);\n",
       "    }\n",
       "\n",
       "}\n",
       "\n",
       "mpl.figure.prototype._key_event_extra = function(event, name) {\n",
       "    var manager = IPython.notebook.keyboard_manager;\n",
       "    if (!manager)\n",
       "        manager = IPython.keyboard_manager;\n",
       "\n",
       "    // Check for shift+enter\n",
       "    if (event.shiftKey && event.which == 13) {\n",
       "        this.canvas_div.blur();\n",
       "        // select the cell after this one\n",
       "        var index = IPython.notebook.find_cell_index(this.cell_info[0]);\n",
       "        IPython.notebook.select(index + 1);\n",
       "    }\n",
       "}\n",
       "\n",
       "mpl.figure.prototype.handle_save = function(fig, msg) {\n",
       "    fig.ondownload(fig, null);\n",
       "}\n",
       "\n",
       "\n",
       "mpl.find_output_cell = function(html_output) {\n",
       "    // Return the cell and output element which can be found *uniquely* in the notebook.\n",
       "    // Note - this is a bit hacky, but it is done because the \"notebook_saving.Notebook\"\n",
       "    // IPython event is triggered only after the cells have been serialised, which for\n",
       "    // our purposes (turning an active figure into a static one), is too late.\n",
       "    var cells = IPython.notebook.get_cells();\n",
       "    var ncells = cells.length;\n",
       "    for (var i=0; i<ncells; i++) {\n",
       "        var cell = cells[i];\n",
       "        if (cell.cell_type === 'code'){\n",
       "            for (var j=0; j<cell.output_area.outputs.length; j++) {\n",
       "                var data = cell.output_area.outputs[j];\n",
       "                if (data.data) {\n",
       "                    // IPython >= 3 moved mimebundle to data attribute of output\n",
       "                    data = data.data;\n",
       "                }\n",
       "                if (data['text/html'] == html_output) {\n",
       "                    return [cell, data, j];\n",
       "                }\n",
       "            }\n",
       "        }\n",
       "    }\n",
       "}\n",
       "\n",
       "// Register the function which deals with the matplotlib target/channel.\n",
       "// The kernel may be null if the page has been refreshed.\n",
       "if (IPython.notebook.kernel != null) {\n",
       "    IPython.notebook.kernel.comm_manager.register_target('matplotlib', mpl.mpl_figure_comm);\n",
       "}\n"
      ],
      "text/plain": [
       "<IPython.core.display.Javascript object>"
      ]
     },
     "metadata": {},
     "output_type": "display_data"
    },
    {
     "data": {
      "text/html": [
       "<img src=\"data:image/png;base64,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\" width=\"640\">"
      ],
      "text/plain": [
       "<IPython.core.display.HTML object>"
      ]
     },
     "metadata": {},
     "output_type": "display_data"
    }
   ],
   "source": [
    "from mpl_toolkits.mplot3d import Axes3D\n",
    "x_=np.arange(-3,3,.1)\n",
    "y_=np.arange(-3,3,.1)\n",
    "\n",
    "xx_, yy_=np.meshgrid(x_,y_)\n",
    "F= xx_**3 +3*yy_**3+3*xx_**2+3*yy_**2+24\n",
    "\n",
    "fig=plt.figure()\n",
    "ax = fig.gca(projection='3d')\n",
    "surf=ax.plot_surface(xx_,yy_,F)\n",
    "\n",
    "ax.set_xlabel('X Label')\n",
    "ax.set_ylabel('Y Label')\n",
    "ax.set_zlabel('Z Label')\n",
    "plt.show()"
   ]
  },
  {
   "cell_type": "markdown",
   "metadata": {},
   "source": [
    "## 4.4 Ejemplo  (tarea) "
   ]
  },
  {
   "cell_type": "markdown",
   "metadata": {},
   "source": [
    "El total de los ingresos semanales que obtienen una fábrica de vender sus sistemas de estantes con altavoces está dado por: \n",
    "$$R(x,y)=-\\frac{1}{4}x^2-\\frac{3}{8}y^2-\\frac{1}{4}xy+300x+240y$$\n",
    "* Donde x denota el número completo de unidades ensambladas\n",
    "* Y el número de kits fabricados y vendidos cada semana\n",
    "\n",
    "El total del costo semanal atribuible a la fabricación de esos altavoces es:\n",
    "\n",
    "$$C(x,y)=180x+140y+5000$$\n",
    "\n",
    "Determine cuántas unidades ensambladas y cuántos kits debería fabricar por semana para maximizar sus utilidades.\n",
    "\n",
    "**¿Cuál es la utilidad máxima?**\n"
   ]
  },
  {
   "cell_type": "code",
   "execution_count": 99,
   "metadata": {},
   "outputs": [
    {
     "data": {
      "image/png": "[encoded data removed]",
      "text/latex": [
       "$$- 0.25 x^{2} - 0.25 x y + 120 x - 0.375 y^{2} + 100 y - 5000$$"
      ],
      "text/plain": [
       "        2                             2               \n",
       "- 0.25⋅x  - 0.25⋅x⋅y + 120⋅x - 0.375⋅y  + 100⋅y - 5000"
      ]
     },
     "execution_count": 99,
     "metadata": {},
     "output_type": "execute_result"
    }
   ],
   "source": [
    "U=-(1/4)*x**2-(3/8)*y**2-(1/4)*x*y+300*x+240*y-180*x-140*y-5000\n",
    "U"
   ]
  },
  {
   "cell_type": "code",
   "execution_count": 100,
   "metadata": {},
   "outputs": [
    {
     "data": {
      "text/latex": [
       "$$\\left[\\begin{matrix}-0.5 & -0.25\\\\-0.25 & -0.75\\end{matrix}\\right]$$"
      ],
      "text/plain": [
       "⎡-0.5   -0.25⎤\n",
       "⎢            ⎥\n",
       "⎣-0.25  -0.75⎦"
      ]
     },
     "execution_count": 100,
     "metadata": {},
     "output_type": "execute_result"
    }
   ],
   "source": [
    "H=hessian(U,[x,y])\n",
    "H"
   ]
  },
  {
   "cell_type": "code",
   "execution_count": 101,
   "metadata": {},
   "outputs": [
    {
     "data": {
      "image/png": "[encoded data removed]",
      "text/latex": [
       "$$0.3125$$"
      ],
      "text/plain": [
       "0.312500000000000"
      ]
     },
     "execution_count": 101,
     "metadata": {},
     "output_type": "execute_result"
    }
   ],
   "source": [
    "D=H.det()\n",
    "D"
   ]
  },
  {
   "cell_type": "code",
   "execution_count": 102,
   "metadata": {},
   "outputs": [
    {
     "data": {
      "image/png": "[encoded data removed]",
      "text/latex": [
       "$$\\left [ - 0.5 x - 0.25 y + 120, \\quad - 0.25 x - 0.75 y + 100\\right ]$$"
      ],
      "text/plain": [
       "[-0.5⋅x - 0.25⋅y + 120, -0.25⋅x - 0.75⋅y + 100]"
      ]
     },
     "execution_count": 102,
     "metadata": {},
     "output_type": "execute_result"
    }
   ],
   "source": [
    "gradiente=[U.diff(var) for var in [x,y]]\n",
    "gradiente"
   ]
  },
  {
   "cell_type": "code",
   "execution_count": 103,
   "metadata": {},
   "outputs": [
    {
     "data": {
      "image/png": "[encoded data removed]",
      "text/latex": [
       "$$\\left \\{ x : 208.0, \\quad y : 64.0\\right \\}$$"
      ],
      "text/plain": [
       "{x: 208.0, y: 64.0}"
      ]
     },
     "execution_count": 103,
     "metadata": {},
     "output_type": "execute_result"
    }
   ],
   "source": [
    "pcs=solve(gradiente)\n",
    "pcs"
   ]
  },
  {
   "cell_type": "code",
   "execution_count": 104,
   "metadata": {},
   "outputs": [
    {
     "data": {
      "image/png": "[encoded data removed]",
      "text/latex": [
       "$$\\left [ \\left \\{ x : 208.0, \\quad y : 64.0\\right \\}\\right ]$$"
      ],
      "text/plain": [
       "[{x: 208.0, y: 64.0}]"
      ]
     },
     "execution_count": 104,
     "metadata": {},
     "output_type": "execute_result"
    }
   ],
   "source": [
    "if type(pcs)!= list:\n",
    "    pcs2=[pcs]\n",
    "else:\n",
    "    pcs2=pcs\n",
    "pcs2"
   ]
  },
  {
   "cell_type": "code",
   "execution_count": 105,
   "metadata": {},
   "outputs": [
    {
     "name": "stdout",
     "output_type": "stream",
     "text": [
      "Existe un máximo relativo en el punto:\n",
      "x= 208.000000000000 y= 64.0000000000000\n"
     ]
    }
   ],
   "source": [
    "for p in pcs2:\n",
    "    if D >0 and H[0,0].subs({x:p[x],y:p[y]})<0:\n",
    "        print(\"Existe un máximo relativo en el punto:\")\n",
    "        print(\"x=\",p[x],\"y=\",p[y])\n",
    "    if D>0 and H[0,0].subs({x:p[x],y:p[y]})>0:\n",
    "        print(\"Existe un mínimo relativo en el punto:\")\n",
    "        print(\"x=\",p[x],\"y=\",p[y])\n",
    "    if D<0:\n",
    "        print(\"Existen un punto silla en la coordenada:\")\n",
    "        print(\"x=\",p[x],\"y=\",p[y])\n",
    "    if D==0:\n",
    "        print(\"La prueba es inconclusa\")"
   ]
  },
  {
   "cell_type": "code",
   "execution_count": null,
   "metadata": {
    "collapsed": true
   },
   "outputs": [],
   "source": []
  }
 ],
 "metadata": {
  "anaconda-cloud": {},
  "kernelspec": {
   "display_name": "Python 3",
   "language": "python",
   "name": "python3"
  },
  "language_info": {
   "codemirror_mode": {
    "name": "ipython",
    "version": 3
   },
   "file_extension": ".py",
   "mimetype": "text/x-python",
   "name": "python",
   "nbconvert_exporter": "python",
   "pygments_lexer": "ipython3",
   "version": "3.6.5"
  }
 },
 "nbformat": 4,
 "nbformat_minor": 2
}
