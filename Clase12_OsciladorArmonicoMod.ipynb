{
 "cells": [
  {
   "cell_type": "markdown",
   "metadata": {},
   "source": [
    "#  ¿Cómo se mueve un péndulo? \n",
    "\n",
    "> Se dice que un sistema cualquiera, mecánico, eléctrico, neumático, etc., es un oscilador armónico si, cuando se deja en libertad fuera de su posición de equilibrio, vuelve hacia ella describiendo oscilaciones sinusoidales, o sinusoidales amortiguadas en torno a dicha posición estable.\n",
    "- https://es.wikipedia.org/wiki/Oscilador_armónico"
   ]
  },
  {
   "cell_type": "markdown",
   "metadata": {},
   "source": [
    "Referencias: \n",
    "   - http://matplotlib.org\n",
    "   - https://seaborn.pydata.org\n",
    "   - http://www.numpy.org\n",
    "   - http://ipywidgets.readthedocs.io/en/latest/index.html"
   ]
  },
  {
   "cell_type": "markdown",
   "metadata": {},
   "source": [
    "**En realidad esto es el estudio de oscilaciones. **\n",
    "___\n",
    " <div>\n",
    "<img style=\"float: left; margin: 0px 0px 15px 15px;\" src=\"http://images.iop.org/objects/ccr/cern/51/3/17/CCast2_03_11.jpg\" width=\"300px\" height=\"100px\" />\n",
    "\n",
    "\n",
    "<img style=\"float: left; margin: 0px 0px 15px 15px;\" src=\"https://upload.wikimedia.org/wikipedia/commons/thumb/d/d5/Animated-mass-spring-faster.gif/150px-Animated-mass-spring-faster.gif\" width=\"125px\" height=\"50px\" />\n",
    "\n",
    "<img style=\"float: right; margin: 0px 0px 15px 15px;\" src=\"https://upload.wikimedia.org/wikipedia/commons/7/74/Simple_harmonic_motion_animation.gif\" width=\"325px\" height=\"50px\" />\n",
    "\n",
    "\n",
    " </div>"
   ]
  },
  {
   "cell_type": "code",
   "execution_count": 28,
   "metadata": {},
   "outputs": [],
   "source": [
    "from IPython.display import YouTubeVideo\n",
    "YouTubeVideo('k5yTVHr6V14')"
   ]
  },
  {
   "cell_type": "markdown",
   "metadata": {},
   "source": [
    "Los sistemas mas sencillos a estudiar en oscilaciones son el sistema ` masa-resorte` y el `péndulo simple`. "
   ]
  },
  {
   "cell_type": "markdown",
   "metadata": {},
   "source": [
    "<div>\n",
    "<img style=\"float: left; margin: 0px 0px 15px 15px;\" src=\"https://upload.wikimedia.org/wikipedia/commons/7/76/Pendulum.jpg\" width=\"150px\" height=\"50px\" />\n",
    "<img style=\"float: right; margin: 15px 15px 15px 15px;\" src=\"https://upload.wikimedia.org/wikipedia/ko/9/9f/Mass_spring.png\" width=\"200px\" height=\"100px\" />\n",
    "</div>\n",
    "\n",
    "\\begin{align}\n",
    "\\frac{d^2 x}{dt^2} +  \\omega_{0}^2 x &= 0, \\quad \\omega_{0} = \\sqrt{\\frac{k}{m}}\\notag\\\\\n",
    "\\frac{d^2 \\theta}{dt^2} + \\omega_{0}^{2}\\, \\theta &= 0, \\quad\\mbox{donde}\\quad \\omega_{0}^2 = \\frac{g}{l} \n",
    "\\end{align} "
   ]
  },
  {
   "cell_type": "markdown",
   "metadata": {},
   "source": [
    "___\n",
    "## Sistema `masa-resorte`"
   ]
  },
  {
   "cell_type": "markdown",
   "metadata": {},
   "source": [
    "La solución a este sistema `masa-resorte` se explica en términos de la segunda ley de Newton. Para este caso, si la masa permanece constante y solo consideramos la dirección en $x$. Entonces,\n",
    "\\begin{equation}\n",
    "F = m \\frac{d^2x}{dt^2}.\n",
    "\\end{equation}\n",
    "\n",
    "¿Cuál es la fuerza? ** Ley de Hooke! **\n",
    "\\begin{equation}\n",
    "F = -k x, \\quad k > 0.\n",
    "\\end{equation}\n",
    "\n",
    "Vemos que la fuerza se opone al desplazamiento y su intensidad es proporcional al mismo.  Y $k$ es la constante elástica o recuperadora del resorte. \n",
    "\n",
    "Entonces, un modelo del sistema `masa-resorte` está descrito por la siguiente **ecuación diferencial**:\n",
    "\n",
    "\\begin{equation}\n",
    "\\frac{d^2x}{dt^2} + \\frac{k}{m}x = 0,\n",
    "\\end{equation}\n",
    "\n",
    "cuya solución se escribe como \n",
    "\\begin{equation}\n",
    "x(t) = A \\cos(\\omega_{o} t) + B \\sin(\\omega_{o} t)\n",
    "\\end{equation}\n",
    "Y su primera derivada (velocidad) sería \n",
    "\\begin{equation}\n",
    "\\frac{dx(t)}{dt} = \\omega_{0}[- A \\sin(\\omega_{0} t) + B\\cos(\\omega_{0}t)]\n",
    "\\end{equation}\n",
    "\n",
    "<font color=red> Ver en el tablero que significa solución de la ecuación diferencial.</font>"
   ]
  },
  {
   "cell_type": "markdown",
   "metadata": {},
   "source": [
    "### **¿Cómo se ven las gráficas de $x$ vs $t$ y $\\frac{dx}{dt}$ vs $t$?** "
   ]
  },
  {
   "cell_type": "code",
   "execution_count": 14,
   "metadata": {},
   "outputs": [],
   "source": [
    "%matplotlib inline\n",
    "import numpy as np\n",
    "from scipy.integrate import odeint\n",
    "import matplotlib.pyplot as plt\n",
    "import matplotlib.animation as animation\n",
    "import seaborn as sns\n",
    "from ipywidgets import interact_manual,interact\n",
    "sns.set()"
   ]
  },
  {
   "cell_type": "markdown",
   "metadata": {},
   "source": [
    "Codificando el vector y como [z, x]\n",
    "y considerando que:\n",
    "$$ z=\\dfrac{dx}{dt} $$\n",
    "Tenemos entonces que el vector derivadas será:\n",
    "$$ [-\\dfrac{k}{m}x,z]$$"
   ]
  },
  {
   "cell_type": "code",
   "execution_count": 2,
   "metadata": {},
   "outputs": [],
   "source": [
    "#Se define la función \n",
    "def derivadas(y,t,k,m):\n",
    "    return [-k/m*y[1],y[0]]"
   ]
  },
  {
   "cell_type": "code",
   "execution_count": 15,
   "metadata": {},
   "outputs": [
    {
     "data": {
      "application/vnd.jupyter.widget-view+json": {
       "model_id": "5c17729b31d1456d9f49f27e5686d73d",
       "version_major": 2,
       "version_minor": 0
      },
      "text/plain": [
       "interactive(children=(FloatSlider(value=5.05, description='k', max=10.0, min=0.1), FloatSlider(value=5.05, des…"
      ]
     },
     "metadata": {},
     "output_type": "display_data"
    },
    {
     "data": {
      "text/plain": [
       "<function __main__.problema(k, m, x0, z0)>"
      ]
     },
     "execution_count": 15,
     "metadata": {},
     "output_type": "execute_result"
    }
   ],
   "source": [
    "def problema(k,m,x0,z0):\n",
    "    t=np.linspace(0,20,200)\n",
    "    #Se resuelve la ecuación\n",
    "    sol=odeint(derivadas,[z0,x0],t,args=(k,m))\n",
    "    #Posición contra tiempo\n",
    "    plt.plot(t,sol[:, 1],label=\"Posición\")\n",
    "    #Velocidad contra tiempo\n",
    "    plt.plot(t,sol[:, 0],label=\"Velocidad\")\n",
    "    plt.legend()\n",
    "    plt.show()\n",
    "\n",
    "interact_manual(problema,k=(.1,10),m=(.1,10),x0=(.1,10),z0=(.1,10))"
   ]
  },
  {
   "cell_type": "markdown",
   "metadata": {},
   "source": [
    "# Animación"
   ]
  },
  {
   "cell_type": "code",
   "execution_count": 4,
   "metadata": {},
   "outputs": [],
   "source": [
    "%matplotlib notebook\n",
    "k,m,x0,z0=1.2,.5,.3,2\n",
    "t=np.linspace(0,20,200)\n",
    "sol=odeint(derivadas,[z0,x0],t,args=(k,m))"
   ]
  },
  {
   "cell_type": "code",
   "execution_count": 5,
   "metadata": {},
   "outputs": [],
   "source": [
    "z=np.linspace(0,.75,8)"
   ]
  },
  {
   "cell_type": "code",
   "execution_count": 11,
   "metadata": {
    "scrolled": false
   },
   "outputs": [
    {
     "data": {
      "application/javascript": [
       "/* Put everything inside the global mpl namespace */\n",
       "window.mpl = {};\n",
       "\n",
       "\n",
       "mpl.get_websocket_type = function() {\n",
       "    if (typeof(WebSocket) !== 'undefined') {\n",
       "        return WebSocket;\n",
       "    } else if (typeof(MozWebSocket) !== 'undefined') {\n",
       "        return MozWebSocket;\n",
       "    } else {\n",
       "        alert('Your browser does not have WebSocket support.' +\n",
       "              'Please try Chrome, Safari or Firefox ≥ 6. ' +\n",
       "              'Firefox 4 and 5 are also supported but you ' +\n",
       "              'have to enable WebSockets in about:config.');\n",
       "    };\n",
       "}\n",
       "\n",
       "mpl.figure = function(figure_id, websocket, ondownload, parent_element) {\n",
       "    this.id = figure_id;\n",
       "\n",
       "    this.ws = websocket;\n",
       "\n",
       "    this.supports_binary = (this.ws.binaryType != undefined);\n",
       "\n",
       "    if (!this.supports_binary) {\n",
       "        var warnings = document.getElementById(\"mpl-warnings\");\n",
       "        if (warnings) {\n",
       "            warnings.style.display = 'block';\n",
       "            warnings.textContent = (\n",
       "                \"This browser does not support binary websocket messages. \" +\n",
       "                    \"Performance may be slow.\");\n",
       "        }\n",
       "    }\n",
       "\n",
       "    this.imageObj = new Image();\n",
       "\n",
       "    this.context = undefined;\n",
       "    this.message = undefined;\n",
       "    this.canvas = undefined;\n",
       "    this.rubberband_canvas = undefined;\n",
       "    this.rubberband_context = undefined;\n",
       "    this.format_dropdown = undefined;\n",
       "\n",
       "    this.image_mode = 'full';\n",
       "\n",
       "    this.root = $('<div/>');\n",
       "    this._root_extra_style(this.root)\n",
       "    this.root.attr('style', 'display: inline-block');\n",
       "\n",
       "    $(parent_element).append(this.root);\n",
       "\n",
       "    this._init_header(this);\n",
       "    this._init_canvas(this);\n",
       "    this._init_toolbar(this);\n",
       "\n",
       "    var fig = this;\n",
       "\n",
       "    this.waiting = false;\n",
       "\n",
       "    this.ws.onopen =  function () {\n",
       "            fig.send_message(\"supports_binary\", {value: fig.supports_binary});\n",
       "            fig.send_message(\"send_image_mode\", {});\n",
       "            if (mpl.ratio != 1) {\n",
       "                fig.send_message(\"set_dpi_ratio\", {'dpi_ratio': mpl.ratio});\n",
       "            }\n",
       "            fig.send_message(\"refresh\", {});\n",
       "        }\n",
       "\n",
       "    this.imageObj.onload = function() {\n",
       "            if (fig.image_mode == 'full') {\n",
       "                // Full images could contain transparency (where diff images\n",
       "                // almost always do), so we need to clear the canvas so that\n",
       "                // there is no ghosting.\n",
       "                fig.context.clearRect(0, 0, fig.canvas.width, fig.canvas.height);\n",
       "            }\n",
       "            fig.context.drawImage(fig.imageObj, 0, 0);\n",
       "        };\n",
       "\n",
       "    this.imageObj.onunload = function() {\n",
       "        fig.ws.close();\n",
       "    }\n",
       "\n",
       "    this.ws.onmessage = this._make_on_message_function(this);\n",
       "\n",
       "    this.ondownload = ondownload;\n",
       "}\n",
       "\n",
       "mpl.figure.prototype._init_header = function() {\n",
       "    var titlebar = $(\n",
       "        '<div class=\"ui-dialog-titlebar ui-widget-header ui-corner-all ' +\n",
       "        'ui-helper-clearfix\"/>');\n",
       "    var titletext = $(\n",
       "        '<div class=\"ui-dialog-title\" style=\"width: 100%; ' +\n",
       "        'text-align: center; padding: 3px;\"/>');\n",
       "    titlebar.append(titletext)\n",
       "    this.root.append(titlebar);\n",
       "    this.header = titletext[0];\n",
       "}\n",
       "\n",
       "\n",
       "\n",
       "mpl.figure.prototype._canvas_extra_style = function(canvas_div) {\n",
       "\n",
       "}\n",
       "\n",
       "\n",
       "mpl.figure.prototype._root_extra_style = function(canvas_div) {\n",
       "\n",
       "}\n",
       "\n",
       "mpl.figure.prototype._init_canvas = function() {\n",
       "    var fig = this;\n",
       "\n",
       "    var canvas_div = $('<div/>');\n",
       "\n",
       "    canvas_div.attr('style', 'position: relative; clear: both; outline: 0');\n",
       "\n",
       "    function canvas_keyboard_event(event) {\n",
       "        return fig.key_event(event, event['data']);\n",
       "    }\n",
       "\n",
       "    canvas_div.keydown('key_press', canvas_keyboard_event);\n",
       "    canvas_div.keyup('key_release', canvas_keyboard_event);\n",
       "    this.canvas_div = canvas_div\n",
       "    this._canvas_extra_style(canvas_div)\n",
       "    this.root.append(canvas_div);\n",
       "\n",
       "    var canvas = $('<canvas/>');\n",
       "    canvas.addClass('mpl-canvas');\n",
       "    canvas.attr('style', \"left: 0; top: 0; z-index: 0; outline: 0\")\n",
       "\n",
       "    this.canvas = canvas[0];\n",
       "    this.context = canvas[0].getContext(\"2d\");\n",
       "\n",
       "    var backingStore = this.context.backingStorePixelRatio ||\n",
       "\tthis.context.webkitBackingStorePixelRatio ||\n",
       "\tthis.context.mozBackingStorePixelRatio ||\n",
       "\tthis.context.msBackingStorePixelRatio ||\n",
       "\tthis.context.oBackingStorePixelRatio ||\n",
       "\tthis.context.backingStorePixelRatio || 1;\n",
       "\n",
       "    mpl.ratio = (window.devicePixelRatio || 1) / backingStore;\n",
       "\n",
       "    var rubberband = $('<canvas/>');\n",
       "    rubberband.attr('style', \"position: absolute; left: 0; top: 0; z-index: 1;\")\n",
       "\n",
       "    var pass_mouse_events = true;\n",
       "\n",
       "    canvas_div.resizable({\n",
       "        start: function(event, ui) {\n",
       "            pass_mouse_events = false;\n",
       "        },\n",
       "        resize: function(event, ui) {\n",
       "            fig.request_resize(ui.size.width, ui.size.height);\n",
       "        },\n",
       "        stop: function(event, ui) {\n",
       "            pass_mouse_events = true;\n",
       "            fig.request_resize(ui.size.width, ui.size.height);\n",
       "        },\n",
       "    });\n",
       "\n",
       "    function mouse_event_fn(event) {\n",
       "        if (pass_mouse_events)\n",
       "            return fig.mouse_event(event, event['data']);\n",
       "    }\n",
       "\n",
       "    rubberband.mousedown('button_press', mouse_event_fn);\n",
       "    rubberband.mouseup('button_release', mouse_event_fn);\n",
       "    // Throttle sequential mouse events to 1 every 20ms.\n",
       "    rubberband.mousemove('motion_notify', mouse_event_fn);\n",
       "\n",
       "    rubberband.mouseenter('figure_enter', mouse_event_fn);\n",
       "    rubberband.mouseleave('figure_leave', mouse_event_fn);\n",
       "\n",
       "    canvas_div.on(\"wheel\", function (event) {\n",
       "        event = event.originalEvent;\n",
       "        event['data'] = 'scroll'\n",
       "        if (event.deltaY < 0) {\n",
       "            event.step = 1;\n",
       "        } else {\n",
       "            event.step = -1;\n",
       "        }\n",
       "        mouse_event_fn(event);\n",
       "    });\n",
       "\n",
       "    canvas_div.append(canvas);\n",
       "    canvas_div.append(rubberband);\n",
       "\n",
       "    this.rubberband = rubberband;\n",
       "    this.rubberband_canvas = rubberband[0];\n",
       "    this.rubberband_context = rubberband[0].getContext(\"2d\");\n",
       "    this.rubberband_context.strokeStyle = \"#000000\";\n",
       "\n",
       "    this._resize_canvas = function(width, height) {\n",
       "        // Keep the size of the canvas, canvas container, and rubber band\n",
       "        // canvas in synch.\n",
       "        canvas_div.css('width', width)\n",
       "        canvas_div.css('height', height)\n",
       "\n",
       "        canvas.attr('width', width * mpl.ratio);\n",
       "        canvas.attr('height', height * mpl.ratio);\n",
       "        canvas.attr('style', 'width: ' + width + 'px; height: ' + height + 'px;');\n",
       "\n",
       "        rubberband.attr('width', width);\n",
       "        rubberband.attr('height', height);\n",
       "    }\n",
       "\n",
       "    // Set the figure to an initial 600x600px, this will subsequently be updated\n",
       "    // upon first draw.\n",
       "    this._resize_canvas(600, 600);\n",
       "\n",
       "    // Disable right mouse context menu.\n",
       "    $(this.rubberband_canvas).bind(\"contextmenu\",function(e){\n",
       "        return false;\n",
       "    });\n",
       "\n",
       "    function set_focus () {\n",
       "        canvas.focus();\n",
       "        canvas_div.focus();\n",
       "    }\n",
       "\n",
       "    window.setTimeout(set_focus, 100);\n",
       "}\n",
       "\n",
       "mpl.figure.prototype._init_toolbar = function() {\n",
       "    var fig = this;\n",
       "\n",
       "    var nav_element = $('<div/>')\n",
       "    nav_element.attr('style', 'width: 100%');\n",
       "    this.root.append(nav_element);\n",
       "\n",
       "    // Define a callback function for later on.\n",
       "    function toolbar_event(event) {\n",
       "        return fig.toolbar_button_onclick(event['data']);\n",
       "    }\n",
       "    function toolbar_mouse_event(event) {\n",
       "        return fig.toolbar_button_onmouseover(event['data']);\n",
       "    }\n",
       "\n",
       "    for(var toolbar_ind in mpl.toolbar_items) {\n",
       "        var name = mpl.toolbar_items[toolbar_ind][0];\n",
       "        var tooltip = mpl.toolbar_items[toolbar_ind][1];\n",
       "        var image = mpl.toolbar_items[toolbar_ind][2];\n",
       "        var method_name = mpl.toolbar_items[toolbar_ind][3];\n",
       "\n",
       "        if (!name) {\n",
       "            // put a spacer in here.\n",
       "            continue;\n",
       "        }\n",
       "        var button = $('<button/>');\n",
       "        button.addClass('ui-button ui-widget ui-state-default ui-corner-all ' +\n",
       "                        'ui-button-icon-only');\n",
       "        button.attr('role', 'button');\n",
       "        button.attr('aria-disabled', 'false');\n",
       "        button.click(method_name, toolbar_event);\n",
       "        button.mouseover(tooltip, toolbar_mouse_event);\n",
       "\n",
       "        var icon_img = $('<span/>');\n",
       "        icon_img.addClass('ui-button-icon-primary ui-icon');\n",
       "        icon_img.addClass(image);\n",
       "        icon_img.addClass('ui-corner-all');\n",
       "\n",
       "        var tooltip_span = $('<span/>');\n",
       "        tooltip_span.addClass('ui-button-text');\n",
       "        tooltip_span.html(tooltip);\n",
       "\n",
       "        button.append(icon_img);\n",
       "        button.append(tooltip_span);\n",
       "\n",
       "        nav_element.append(button);\n",
       "    }\n",
       "\n",
       "    var fmt_picker_span = $('<span/>');\n",
       "\n",
       "    var fmt_picker = $('<select/>');\n",
       "    fmt_picker.addClass('mpl-toolbar-option ui-widget ui-widget-content');\n",
       "    fmt_picker_span.append(fmt_picker);\n",
       "    nav_element.append(fmt_picker_span);\n",
       "    this.format_dropdown = fmt_picker[0];\n",
       "\n",
       "    for (var ind in mpl.extensions) {\n",
       "        var fmt = mpl.extensions[ind];\n",
       "        var option = $(\n",
       "            '<option/>', {selected: fmt === mpl.default_extension}).html(fmt);\n",
       "        fmt_picker.append(option)\n",
       "    }\n",
       "\n",
       "    // Add hover states to the ui-buttons\n",
       "    $( \".ui-button\" ).hover(\n",
       "        function() { $(this).addClass(\"ui-state-hover\");},\n",
       "        function() { $(this).removeClass(\"ui-state-hover\");}\n",
       "    );\n",
       "\n",
       "    var status_bar = $('<span class=\"mpl-message\"/>');\n",
       "    nav_element.append(status_bar);\n",
       "    this.message = status_bar[0];\n",
       "}\n",
       "\n",
       "mpl.figure.prototype.request_resize = function(x_pixels, y_pixels) {\n",
       "    // Request matplotlib to resize the figure. Matplotlib will then trigger a resize in the client,\n",
       "    // which will in turn request a refresh of the image.\n",
       "    this.send_message('resize', {'width': x_pixels, 'height': y_pixels});\n",
       "}\n",
       "\n",
       "mpl.figure.prototype.send_message = function(type, properties) {\n",
       "    properties['type'] = type;\n",
       "    properties['figure_id'] = this.id;\n",
       "    this.ws.send(JSON.stringify(properties));\n",
       "}\n",
       "\n",
       "mpl.figure.prototype.send_draw_message = function() {\n",
       "    if (!this.waiting) {\n",
       "        this.waiting = true;\n",
       "        this.ws.send(JSON.stringify({type: \"draw\", figure_id: this.id}));\n",
       "    }\n",
       "}\n",
       "\n",
       "\n",
       "mpl.figure.prototype.handle_save = function(fig, msg) {\n",
       "    var format_dropdown = fig.format_dropdown;\n",
       "    var format = format_dropdown.options[format_dropdown.selectedIndex].value;\n",
       "    fig.ondownload(fig, format);\n",
       "}\n",
       "\n",
       "\n",
       "mpl.figure.prototype.handle_resize = function(fig, msg) {\n",
       "    var size = msg['size'];\n",
       "    if (size[0] != fig.canvas.width || size[1] != fig.canvas.height) {\n",
       "        fig._resize_canvas(size[0], size[1]);\n",
       "        fig.send_message(\"refresh\", {});\n",
       "    };\n",
       "}\n",
       "\n",
       "mpl.figure.prototype.handle_rubberband = function(fig, msg) {\n",
       "    var x0 = msg['x0'] / mpl.ratio;\n",
       "    var y0 = (fig.canvas.height - msg['y0']) / mpl.ratio;\n",
       "    var x1 = msg['x1'] / mpl.ratio;\n",
       "    var y1 = (fig.canvas.height - msg['y1']) / mpl.ratio;\n",
       "    x0 = Math.floor(x0) + 0.5;\n",
       "    y0 = Math.floor(y0) + 0.5;\n",
       "    x1 = Math.floor(x1) + 0.5;\n",
       "    y1 = Math.floor(y1) + 0.5;\n",
       "    var min_x = Math.min(x0, x1);\n",
       "    var min_y = Math.min(y0, y1);\n",
       "    var width = Math.abs(x1 - x0);\n",
       "    var height = Math.abs(y1 - y0);\n",
       "\n",
       "    fig.rubberband_context.clearRect(\n",
       "        0, 0, fig.canvas.width, fig.canvas.height);\n",
       "\n",
       "    fig.rubberband_context.strokeRect(min_x, min_y, width, height);\n",
       "}\n",
       "\n",
       "mpl.figure.prototype.handle_figure_label = function(fig, msg) {\n",
       "    // Updates the figure title.\n",
       "    fig.header.textContent = msg['label'];\n",
       "}\n",
       "\n",
       "mpl.figure.prototype.handle_cursor = function(fig, msg) {\n",
       "    var cursor = msg['cursor'];\n",
       "    switch(cursor)\n",
       "    {\n",
       "    case 0:\n",
       "        cursor = 'pointer';\n",
       "        break;\n",
       "    case 1:\n",
       "        cursor = 'default';\n",
       "        break;\n",
       "    case 2:\n",
       "        cursor = 'crosshair';\n",
       "        break;\n",
       "    case 3:\n",
       "        cursor = 'move';\n",
       "        break;\n",
       "    }\n",
       "    fig.rubberband_canvas.style.cursor = cursor;\n",
       "}\n",
       "\n",
       "mpl.figure.prototype.handle_message = function(fig, msg) {\n",
       "    fig.message.textContent = msg['message'];\n",
       "}\n",
       "\n",
       "mpl.figure.prototype.handle_draw = function(fig, msg) {\n",
       "    // Request the server to send over a new figure.\n",
       "    fig.send_draw_message();\n",
       "}\n",
       "\n",
       "mpl.figure.prototype.handle_image_mode = function(fig, msg) {\n",
       "    fig.image_mode = msg['mode'];\n",
       "}\n",
       "\n",
       "mpl.figure.prototype.updated_canvas_event = function() {\n",
       "    // Called whenever the canvas gets updated.\n",
       "    this.send_message(\"ack\", {});\n",
       "}\n",
       "\n",
       "// A function to construct a web socket function for onmessage handling.\n",
       "// Called in the figure constructor.\n",
       "mpl.figure.prototype._make_on_message_function = function(fig) {\n",
       "    return function socket_on_message(evt) {\n",
       "        if (evt.data instanceof Blob) {\n",
       "            /* FIXME: We get \"Resource interpreted as Image but\n",
       "             * transferred with MIME type text/plain:\" errors on\n",
       "             * Chrome.  But how to set the MIME type?  It doesn't seem\n",
       "             * to be part of the websocket stream */\n",
       "            evt.data.type = \"image/png\";\n",
       "\n",
       "            /* Free the memory for the previous frames */\n",
       "            if (fig.imageObj.src) {\n",
       "                (window.URL || window.webkitURL).revokeObjectURL(\n",
       "                    fig.imageObj.src);\n",
       "            }\n",
       "\n",
       "            fig.imageObj.src = (window.URL || window.webkitURL).createObjectURL(\n",
       "                evt.data);\n",
       "            fig.updated_canvas_event();\n",
       "            fig.waiting = false;\n",
       "            return;\n",
       "        }\n",
       "        else if (typeof evt.data === 'string' && evt.data.slice(0, 21) == \"data:image/png;base64\") {\n",
       "            fig.imageObj.src = evt.data;\n",
       "            fig.updated_canvas_event();\n",
       "            fig.waiting = false;\n",
       "            return;\n",
       "        }\n",
       "\n",
       "        var msg = JSON.parse(evt.data);\n",
       "        var msg_type = msg['type'];\n",
       "\n",
       "        // Call the  \"handle_{type}\" callback, which takes\n",
       "        // the figure and JSON message as its only arguments.\n",
       "        try {\n",
       "            var callback = fig[\"handle_\" + msg_type];\n",
       "        } catch (e) {\n",
       "            console.log(\"No handler for the '\" + msg_type + \"' message type: \", msg);\n",
       "            return;\n",
       "        }\n",
       "\n",
       "        if (callback) {\n",
       "            try {\n",
       "                // console.log(\"Handling '\" + msg_type + \"' message: \", msg);\n",
       "                callback(fig, msg);\n",
       "            } catch (e) {\n",
       "                console.log(\"Exception inside the 'handler_\" + msg_type + \"' callback:\", e, e.stack, msg);\n",
       "            }\n",
       "        }\n",
       "    };\n",
       "}\n",
       "\n",
       "// from http://stackoverflow.com/questions/1114465/getting-mouse-location-in-canvas\n",
       "mpl.findpos = function(e) {\n",
       "    //this section is from http://www.quirksmode.org/js/events_properties.html\n",
       "    var targ;\n",
       "    if (!e)\n",
       "        e = window.event;\n",
       "    if (e.target)\n",
       "        targ = e.target;\n",
       "    else if (e.srcElement)\n",
       "        targ = e.srcElement;\n",
       "    if (targ.nodeType == 3) // defeat Safari bug\n",
       "        targ = targ.parentNode;\n",
       "\n",
       "    // jQuery normalizes the pageX and pageY\n",
       "    // pageX,Y are the mouse positions relative to the document\n",
       "    // offset() returns the position of the element relative to the document\n",
       "    var x = e.pageX - $(targ).offset().left;\n",
       "    var y = e.pageY - $(targ).offset().top;\n",
       "\n",
       "    return {\"x\": x, \"y\": y};\n",
       "};\n",
       "\n",
       "/*\n",
       " * return a copy of an object with only non-object keys\n",
       " * we need this to avoid circular references\n",
       " * http://stackoverflow.com/a/24161582/3208463\n",
       " */\n",
       "function simpleKeys (original) {\n",
       "  return Object.keys(original).reduce(function (obj, key) {\n",
       "    if (typeof original[key] !== 'object')\n",
       "        obj[key] = original[key]\n",
       "    return obj;\n",
       "  }, {});\n",
       "}\n",
       "\n",
       "mpl.figure.prototype.mouse_event = function(event, name) {\n",
       "    var canvas_pos = mpl.findpos(event)\n",
       "\n",
       "    if (name === 'button_press')\n",
       "    {\n",
       "        this.canvas.focus();\n",
       "        this.canvas_div.focus();\n",
       "    }\n",
       "\n",
       "    var x = canvas_pos.x * mpl.ratio;\n",
       "    var y = canvas_pos.y * mpl.ratio;\n",
       "\n",
       "    this.send_message(name, {x: x, y: y, button: event.button,\n",
       "                             step: event.step,\n",
       "                             guiEvent: simpleKeys(event)});\n",
       "\n",
       "    /* This prevents the web browser from automatically changing to\n",
       "     * the text insertion cursor when the button is pressed.  We want\n",
       "     * to control all of the cursor setting manually through the\n",
       "     * 'cursor' event from matplotlib */\n",
       "    event.preventDefault();\n",
       "    return false;\n",
       "}\n",
       "\n",
       "mpl.figure.prototype._key_event_extra = function(event, name) {\n",
       "    // Handle any extra behaviour associated with a key event\n",
       "}\n",
       "\n",
       "mpl.figure.prototype.key_event = function(event, name) {\n",
       "\n",
       "    // Prevent repeat events\n",
       "    if (name == 'key_press')\n",
       "    {\n",
       "        if (event.which === this._key)\n",
       "            return;\n",
       "        else\n",
       "            this._key = event.which;\n",
       "    }\n",
       "    if (name == 'key_release')\n",
       "        this._key = null;\n",
       "\n",
       "    var value = '';\n",
       "    if (event.ctrlKey && event.which != 17)\n",
       "        value += \"ctrl+\";\n",
       "    if (event.altKey && event.which != 18)\n",
       "        value += \"alt+\";\n",
       "    if (event.shiftKey && event.which != 16)\n",
       "        value += \"shift+\";\n",
       "\n",
       "    value += 'k';\n",
       "    value += event.which.toString();\n",
       "\n",
       "    this._key_event_extra(event, name);\n",
       "\n",
       "    this.send_message(name, {key: value,\n",
       "                             guiEvent: simpleKeys(event)});\n",
       "    return false;\n",
       "}\n",
       "\n",
       "mpl.figure.prototype.toolbar_button_onclick = function(name) {\n",
       "    if (name == 'download') {\n",
       "        this.handle_save(this, null);\n",
       "    } else {\n",
       "        this.send_message(\"toolbar_button\", {name: name});\n",
       "    }\n",
       "};\n",
       "\n",
       "mpl.figure.prototype.toolbar_button_onmouseover = function(tooltip) {\n",
       "    this.message.textContent = tooltip;\n",
       "};\n",
       "mpl.toolbar_items = [[\"Home\", \"Reset original view\", \"fa fa-home icon-home\", \"home\"], [\"Back\", \"Back to  previous view\", \"fa fa-arrow-left icon-arrow-left\", \"back\"], [\"Forward\", \"Forward to next view\", \"fa fa-arrow-right icon-arrow-right\", \"forward\"], [\"\", \"\", \"\", \"\"], [\"Pan\", \"Pan axes with left mouse, zoom with right\", \"fa fa-arrows icon-move\", \"pan\"], [\"Zoom\", \"Zoom to rectangle\", \"fa fa-square-o icon-check-empty\", \"zoom\"], [\"\", \"\", \"\", \"\"], [\"Download\", \"Download plot\", \"fa fa-floppy-o icon-save\", \"download\"]];\n",
       "\n",
       "mpl.extensions = [\"eps\", \"pdf\", \"png\", \"ps\", \"raw\", \"svg\"];\n",
       "\n",
       "mpl.default_extension = \"png\";var comm_websocket_adapter = function(comm) {\n",
       "    // Create a \"websocket\"-like object which calls the given IPython comm\n",
       "    // object with the appropriate methods. Currently this is a non binary\n",
       "    // socket, so there is still some room for performance tuning.\n",
       "    var ws = {};\n",
       "\n",
       "    ws.close = function() {\n",
       "        comm.close()\n",
       "    };\n",
       "    ws.send = function(m) {\n",
       "        //console.log('sending', m);\n",
       "        comm.send(m);\n",
       "    };\n",
       "    // Register the callback with on_msg.\n",
       "    comm.on_msg(function(msg) {\n",
       "        //console.log('receiving', msg['content']['data'], msg);\n",
       "        // Pass the mpl event to the overridden (by mpl) onmessage function.\n",
       "        ws.onmessage(msg['content']['data'])\n",
       "    });\n",
       "    return ws;\n",
       "}\n",
       "\n",
       "mpl.mpl_figure_comm = function(comm, msg) {\n",
       "    // This is the function which gets called when the mpl process\n",
       "    // starts-up an IPython Comm through the \"matplotlib\" channel.\n",
       "\n",
       "    var id = msg.content.data.id;\n",
       "    // Get hold of the div created by the display call when the Comm\n",
       "    // socket was opened in Python.\n",
       "    var element = $(\"#\" + id);\n",
       "    var ws_proxy = comm_websocket_adapter(comm)\n",
       "\n",
       "    function ondownload(figure, format) {\n",
       "        window.open(figure.imageObj.src);\n",
       "    }\n",
       "\n",
       "    var fig = new mpl.figure(id, ws_proxy,\n",
       "                           ondownload,\n",
       "                           element.get(0));\n",
       "\n",
       "    // Call onopen now - mpl needs it, as it is assuming we've passed it a real\n",
       "    // web socket which is closed, not our websocket->open comm proxy.\n",
       "    ws_proxy.onopen();\n",
       "\n",
       "    fig.parent_element = element.get(0);\n",
       "    fig.cell_info = mpl.find_output_cell(\"<div id='\" + id + \"'></div>\");\n",
       "    if (!fig.cell_info) {\n",
       "        console.error(\"Failed to find cell for figure\", id, fig);\n",
       "        return;\n",
       "    }\n",
       "\n",
       "    var output_index = fig.cell_info[2]\n",
       "    var cell = fig.cell_info[0];\n",
       "\n",
       "};\n",
       "\n",
       "mpl.figure.prototype.handle_close = function(fig, msg) {\n",
       "    var width = fig.canvas.width/mpl.ratio\n",
       "    fig.root.unbind('remove')\n",
       "\n",
       "    // Update the output cell to use the data from the current canvas.\n",
       "    fig.push_to_output();\n",
       "    var dataURL = fig.canvas.toDataURL();\n",
       "    // Re-enable the keyboard manager in IPython - without this line, in FF,\n",
       "    // the notebook keyboard shortcuts fail.\n",
       "    IPython.keyboard_manager.enable()\n",
       "    $(fig.parent_element).html('<img src=\"' + dataURL + '\" width=\"' + width + '\">');\n",
       "    fig.close_ws(fig, msg);\n",
       "}\n",
       "\n",
       "mpl.figure.prototype.close_ws = function(fig, msg){\n",
       "    fig.send_message('closing', msg);\n",
       "    // fig.ws.close()\n",
       "}\n",
       "\n",
       "mpl.figure.prototype.push_to_output = function(remove_interactive) {\n",
       "    // Turn the data on the canvas into data in the output cell.\n",
       "    var width = this.canvas.width/mpl.ratio\n",
       "    var dataURL = this.canvas.toDataURL();\n",
       "    this.cell_info[1]['text/html'] = '<img src=\"' + dataURL + '\" width=\"' + width + '\">';\n",
       "}\n",
       "\n",
       "mpl.figure.prototype.updated_canvas_event = function() {\n",
       "    // Tell IPython that the notebook contents must change.\n",
       "    IPython.notebook.set_dirty(true);\n",
       "    this.send_message(\"ack\", {});\n",
       "    var fig = this;\n",
       "    // Wait a second, then push the new image to the DOM so\n",
       "    // that it is saved nicely (might be nice to debounce this).\n",
       "    setTimeout(function () { fig.push_to_output() }, 1000);\n",
       "}\n",
       "\n",
       "mpl.figure.prototype._init_toolbar = function() {\n",
       "    var fig = this;\n",
       "\n",
       "    var nav_element = $('<div/>')\n",
       "    nav_element.attr('style', 'width: 100%');\n",
       "    this.root.append(nav_element);\n",
       "\n",
       "    // Define a callback function for later on.\n",
       "    function toolbar_event(event) {\n",
       "        return fig.toolbar_button_onclick(event['data']);\n",
       "    }\n",
       "    function toolbar_mouse_event(event) {\n",
       "        return fig.toolbar_button_onmouseover(event['data']);\n",
       "    }\n",
       "\n",
       "    for(var toolbar_ind in mpl.toolbar_items){\n",
       "        var name = mpl.toolbar_items[toolbar_ind][0];\n",
       "        var tooltip = mpl.toolbar_items[toolbar_ind][1];\n",
       "        var image = mpl.toolbar_items[toolbar_ind][2];\n",
       "        var method_name = mpl.toolbar_items[toolbar_ind][3];\n",
       "\n",
       "        if (!name) { continue; };\n",
       "\n",
       "        var button = $('<button class=\"btn btn-default\" href=\"#\" title=\"' + name + '\"><i class=\"fa ' + image + ' fa-lg\"></i></button>');\n",
       "        button.click(method_name, toolbar_event);\n",
       "        button.mouseover(tooltip, toolbar_mouse_event);\n",
       "        nav_element.append(button);\n",
       "    }\n",
       "\n",
       "    // Add the status bar.\n",
       "    var status_bar = $('<span class=\"mpl-message\" style=\"text-align:right; float: right;\"/>');\n",
       "    nav_element.append(status_bar);\n",
       "    this.message = status_bar[0];\n",
       "\n",
       "    // Add the close button to the window.\n",
       "    var buttongrp = $('<div class=\"btn-group inline pull-right\"></div>');\n",
       "    var button = $('<button class=\"btn btn-mini btn-primary\" href=\"#\" title=\"Stop Interaction\"><i class=\"fa fa-power-off icon-remove icon-large\"></i></button>');\n",
       "    button.click(function (evt) { fig.handle_close(fig, {}); } );\n",
       "    button.mouseover('Stop Interaction', toolbar_mouse_event);\n",
       "    buttongrp.append(button);\n",
       "    var titlebar = this.root.find($('.ui-dialog-titlebar'));\n",
       "    titlebar.prepend(buttongrp);\n",
       "}\n",
       "\n",
       "mpl.figure.prototype._root_extra_style = function(el){\n",
       "    var fig = this\n",
       "    el.on(\"remove\", function(){\n",
       "\tfig.close_ws(fig, {});\n",
       "    });\n",
       "}\n",
       "\n",
       "mpl.figure.prototype._canvas_extra_style = function(el){\n",
       "    // this is important to make the div 'focusable\n",
       "    el.attr('tabindex', 0)\n",
       "    // reach out to IPython and tell the keyboard manager to turn it's self\n",
       "    // off when our div gets focus\n",
       "\n",
       "    // location in version 3\n",
       "    if (IPython.notebook.keyboard_manager) {\n",
       "        IPython.notebook.keyboard_manager.register_events(el);\n",
       "    }\n",
       "    else {\n",
       "        // location in version 2\n",
       "        IPython.keyboard_manager.register_events(el);\n",
       "    }\n",
       "\n",
       "}\n",
       "\n",
       "mpl.figure.prototype._key_event_extra = function(event, name) {\n",
       "    var manager = IPython.notebook.keyboard_manager;\n",
       "    if (!manager)\n",
       "        manager = IPython.keyboard_manager;\n",
       "\n",
       "    // Check for shift+enter\n",
       "    if (event.shiftKey && event.which == 13) {\n",
       "        this.canvas_div.blur();\n",
       "        event.shiftKey = false;\n",
       "        // Send a \"J\" for go to next cell\n",
       "        event.which = 74;\n",
       "        event.keyCode = 74;\n",
       "        manager.command_mode();\n",
       "        manager.handle_keydown(event);\n",
       "    }\n",
       "}\n",
       "\n",
       "mpl.figure.prototype.handle_save = function(fig, msg) {\n",
       "    fig.ondownload(fig, null);\n",
       "}\n",
       "\n",
       "\n",
       "mpl.find_output_cell = function(html_output) {\n",
       "    // Return the cell and output element which can be found *uniquely* in the notebook.\n",
       "    // Note - this is a bit hacky, but it is done because the \"notebook_saving.Notebook\"\n",
       "    // IPython event is triggered only after the cells have been serialised, which for\n",
       "    // our purposes (turning an active figure into a static one), is too late.\n",
       "    var cells = IPython.notebook.get_cells();\n",
       "    var ncells = cells.length;\n",
       "    for (var i=0; i<ncells; i++) {\n",
       "        var cell = cells[i];\n",
       "        if (cell.cell_type === 'code'){\n",
       "            for (var j=0; j<cell.output_area.outputs.length; j++) {\n",
       "                var data = cell.output_area.outputs[j];\n",
       "                if (data.data) {\n",
       "                    // IPython >= 3 moved mimebundle to data attribute of output\n",
       "                    data = data.data;\n",
       "                }\n",
       "                if (data['text/html'] == html_output) {\n",
       "                    return [cell, data, j];\n",
       "                }\n",
       "            }\n",
       "        }\n",
       "    }\n",
       "}\n",
       "\n",
       "// Register the function which deals with the matplotlib target/channel.\n",
       "// The kernel may be null if the page has been refreshed.\n",
       "if (IPython.notebook.kernel != null) {\n",
       "    IPython.notebook.kernel.comm_manager.register_target('matplotlib', mpl.mpl_figure_comm);\n",
       "}\n"
      ],
      "text/plain": [
       "<IPython.core.display.Javascript object>"
      ]
     },
     "metadata": {},
     "output_type": "display_data"
    },
    {
     "data": {
      "text/html": [
       "<img src=\"data:image/png;base64,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\" width=\"432\">"
      ],
      "text/plain": [
       "<IPython.core.display.HTML object>"
      ]
     },
     "metadata": {},
     "output_type": "display_data"
    }
   ],
   "source": [
    "fig, ax = plt.subplots()\n",
    "ax = plt.axes(xlim=(-.2,.75), ylim=(min(sol[:,1])-2, max(sol[:,1])+2))\n",
    "ax.plot((-1,1),(3,3))\n",
    "funcion, =ax.plot(z,sol[0:8,1])\n",
    "resorte, =ax.plot([0,-.15,.15,-.15,.15,0,0],[3-i*(3-sol[0,1])/6 for i in range(7)])\n",
    "pesa, = ax.plot(0,sol[0,1],'o',markersize=12)\n",
    "def animate(i):\n",
    "    pesa.set_data(0,sol[i,1])\n",
    "    return pesa,\n",
    "def animate2(i):\n",
    "    a=[3-j*(3-sol[i,1])/6 for j in range(6)]\n",
    "    a.append(sol[i,1])\n",
    "    resorte.set_data([0,-.15,.15,-.15,.15,0,0],a)\n",
    "    return resorte,\n",
    "def animate3(i):\n",
    "    b=sol[i:8+i,1]\n",
    "    funcion.set_data(z,b)\n",
    "    return funcion,\n",
    "\n",
    "anim = animation.FuncAnimation(fig,animate,150,interval=100)\n",
    "anim2 = animation.FuncAnimation(fig,animate2,150,interval=100) \n",
    "anim3 = animation.FuncAnimation(fig,animate3,150,interval=100)   \n",
    "plt.show()"
   ]
  },
  {
   "cell_type": "markdown",
   "metadata": {},
   "source": [
    "___\n",
    "## Péndulo simple\n",
    "Ahora, si fijamos nuestra atención al movimiento de un péndulo simple _(oscilaciones pequeñas)_, la ecuación diferencial a resolver tiene la misma forma:\n",
    "\n",
    "\\begin{equation}\n",
    "\\frac{d^2 \\theta}{dt^2} + \\omega_{0}^{2}\\, \\theta = 0, \\quad\\mbox{donde}\\quad \\omega_{0}^2 = \\frac{g}{l}.\n",
    "\\end{equation}\n",
    "\n",
    "La diferencia más evidente es como hemos definido a $\\omega_{0}$. Esto quiere decir que, \n",
    "\n",
    "\\begin{equation}\n",
    "\\theta(t) = A\\cos(\\omega_{0} t) + B\\sin(\\omega_{0}t)\n",
    "\\end{equation}\n",
    "\n",
    "Si graficamos la ecuación de arriba vamos a encontrar un comportamiento muy similar al ya discutido anteriormente. Es por ello que ahora veremos el movimiento en el plano $xy$. Es decir, \n",
    "\n",
    "\\begin{align}\n",
    "x &= l \\sin(\\theta), \\quad\n",
    "y = l \\cos(\\theta) \n",
    "\\end{align}"
   ]
  },
  {
   "cell_type": "markdown",
   "metadata": {},
   "source": [
    "### Condiciones iniciales "
   ]
  },
  {
   "cell_type": "markdown",
   "metadata": {},
   "source": [
    "> **Actividad.** Modificar el programa anterior para incorporar las condiciones iniciales. "
   ]
  },
  {
   "cell_type": "markdown",
   "metadata": {},
   "source": [
    "### Plano fase  $(x, \\frac{dx}{dt})$"
   ]
  },
  {
   "cell_type": "markdown",
   "metadata": {},
   "source": [
    "La posición y velocidad para el sistema `masa-resorte` se escriben como: "
   ]
  },
  {
   "cell_type": "markdown",
   "metadata": {},
   "source": [
    "\\begin{align}\n",
    "x(t) &= x(0) \\cos(\\omega_{o} t) + \\frac{\\dot{x}(0)}{\\omega_{0}} \\sin(\\omega_{o} t)\\\\\n",
    "\\dot{x}(t) &= -\\omega_{0}x(0) \\sin(\\omega_{0} t) + \\dot{x}(0)\\cos(\\omega_{0}t)]\n",
    "\\end{align}"
   ]
  },
  {
   "cell_type": "code",
   "execution_count": 19,
   "metadata": {},
   "outputs": [],
   "source": [
    "g=9.81\n",
    "l=1\n",
    "theta=np.pi/2\n",
    "omega=2\n",
    "def pendulo(y,t):\n",
    "    return [y[1],-(g/l)*y[0]]"
   ]
  },
  {
   "cell_type": "code",
   "execution_count": 20,
   "metadata": {},
   "outputs": [],
   "source": [
    "%matplotlib notebook"
   ]
  },
  {
   "cell_type": "code",
   "execution_count": 21,
   "metadata": {},
   "outputs": [
    {
     "data": {
      "application/javascript": [
       "/* Put everything inside the global mpl namespace */\n",
       "window.mpl = {};\n",
       "\n",
       "\n",
       "mpl.get_websocket_type = function() {\n",
       "    if (typeof(WebSocket) !== 'undefined') {\n",
       "        return WebSocket;\n",
       "    } else if (typeof(MozWebSocket) !== 'undefined') {\n",
       "        return MozWebSocket;\n",
       "    } else {\n",
       "        alert('Your browser does not have WebSocket support.' +\n",
       "              'Please try Chrome, Safari or Firefox ≥ 6. ' +\n",
       "              'Firefox 4 and 5 are also supported but you ' +\n",
       "              'have to enable WebSockets in about:config.');\n",
       "    };\n",
       "}\n",
       "\n",
       "mpl.figure = function(figure_id, websocket, ondownload, parent_element) {\n",
       "    this.id = figure_id;\n",
       "\n",
       "    this.ws = websocket;\n",
       "\n",
       "    this.supports_binary = (this.ws.binaryType != undefined);\n",
       "\n",
       "    if (!this.supports_binary) {\n",
       "        var warnings = document.getElementById(\"mpl-warnings\");\n",
       "        if (warnings) {\n",
       "            warnings.style.display = 'block';\n",
       "            warnings.textContent = (\n",
       "                \"This browser does not support binary websocket messages. \" +\n",
       "                    \"Performance may be slow.\");\n",
       "        }\n",
       "    }\n",
       "\n",
       "    this.imageObj = new Image();\n",
       "\n",
       "    this.context = undefined;\n",
       "    this.message = undefined;\n",
       "    this.canvas = undefined;\n",
       "    this.rubberband_canvas = undefined;\n",
       "    this.rubberband_context = undefined;\n",
       "    this.format_dropdown = undefined;\n",
       "\n",
       "    this.image_mode = 'full';\n",
       "\n",
       "    this.root = $('<div/>');\n",
       "    this._root_extra_style(this.root)\n",
       "    this.root.attr('style', 'display: inline-block');\n",
       "\n",
       "    $(parent_element).append(this.root);\n",
       "\n",
       "    this._init_header(this);\n",
       "    this._init_canvas(this);\n",
       "    this._init_toolbar(this);\n",
       "\n",
       "    var fig = this;\n",
       "\n",
       "    this.waiting = false;\n",
       "\n",
       "    this.ws.onopen =  function () {\n",
       "            fig.send_message(\"supports_binary\", {value: fig.supports_binary});\n",
       "            fig.send_message(\"send_image_mode\", {});\n",
       "            if (mpl.ratio != 1) {\n",
       "                fig.send_message(\"set_dpi_ratio\", {'dpi_ratio': mpl.ratio});\n",
       "            }\n",
       "            fig.send_message(\"refresh\", {});\n",
       "        }\n",
       "\n",
       "    this.imageObj.onload = function() {\n",
       "            if (fig.image_mode == 'full') {\n",
       "                // Full images could contain transparency (where diff images\n",
       "                // almost always do), so we need to clear the canvas so that\n",
       "                // there is no ghosting.\n",
       "                fig.context.clearRect(0, 0, fig.canvas.width, fig.canvas.height);\n",
       "            }\n",
       "            fig.context.drawImage(fig.imageObj, 0, 0);\n",
       "        };\n",
       "\n",
       "    this.imageObj.onunload = function() {\n",
       "        fig.ws.close();\n",
       "    }\n",
       "\n",
       "    this.ws.onmessage = this._make_on_message_function(this);\n",
       "\n",
       "    this.ondownload = ondownload;\n",
       "}\n",
       "\n",
       "mpl.figure.prototype._init_header = function() {\n",
       "    var titlebar = $(\n",
       "        '<div class=\"ui-dialog-titlebar ui-widget-header ui-corner-all ' +\n",
       "        'ui-helper-clearfix\"/>');\n",
       "    var titletext = $(\n",
       "        '<div class=\"ui-dialog-title\" style=\"width: 100%; ' +\n",
       "        'text-align: center; padding: 3px;\"/>');\n",
       "    titlebar.append(titletext)\n",
       "    this.root.append(titlebar);\n",
       "    this.header = titletext[0];\n",
       "}\n",
       "\n",
       "\n",
       "\n",
       "mpl.figure.prototype._canvas_extra_style = function(canvas_div) {\n",
       "\n",
       "}\n",
       "\n",
       "\n",
       "mpl.figure.prototype._root_extra_style = function(canvas_div) {\n",
       "\n",
       "}\n",
       "\n",
       "mpl.figure.prototype._init_canvas = function() {\n",
       "    var fig = this;\n",
       "\n",
       "    var canvas_div = $('<div/>');\n",
       "\n",
       "    canvas_div.attr('style', 'position: relative; clear: both; outline: 0');\n",
       "\n",
       "    function canvas_keyboard_event(event) {\n",
       "        return fig.key_event(event, event['data']);\n",
       "    }\n",
       "\n",
       "    canvas_div.keydown('key_press', canvas_keyboard_event);\n",
       "    canvas_div.keyup('key_release', canvas_keyboard_event);\n",
       "    this.canvas_div = canvas_div\n",
       "    this._canvas_extra_style(canvas_div)\n",
       "    this.root.append(canvas_div);\n",
       "\n",
       "    var canvas = $('<canvas/>');\n",
       "    canvas.addClass('mpl-canvas');\n",
       "    canvas.attr('style', \"left: 0; top: 0; z-index: 0; outline: 0\")\n",
       "\n",
       "    this.canvas = canvas[0];\n",
       "    this.context = canvas[0].getContext(\"2d\");\n",
       "\n",
       "    var backingStore = this.context.backingStorePixelRatio ||\n",
       "\tthis.context.webkitBackingStorePixelRatio ||\n",
       "\tthis.context.mozBackingStorePixelRatio ||\n",
       "\tthis.context.msBackingStorePixelRatio ||\n",
       "\tthis.context.oBackingStorePixelRatio ||\n",
       "\tthis.context.backingStorePixelRatio || 1;\n",
       "\n",
       "    mpl.ratio = (window.devicePixelRatio || 1) / backingStore;\n",
       "\n",
       "    var rubberband = $('<canvas/>');\n",
       "    rubberband.attr('style', \"position: absolute; left: 0; top: 0; z-index: 1;\")\n",
       "\n",
       "    var pass_mouse_events = true;\n",
       "\n",
       "    canvas_div.resizable({\n",
       "        start: function(event, ui) {\n",
       "            pass_mouse_events = false;\n",
       "        },\n",
       "        resize: function(event, ui) {\n",
       "            fig.request_resize(ui.size.width, ui.size.height);\n",
       "        },\n",
       "        stop: function(event, ui) {\n",
       "            pass_mouse_events = true;\n",
       "            fig.request_resize(ui.size.width, ui.size.height);\n",
       "        },\n",
       "    });\n",
       "\n",
       "    function mouse_event_fn(event) {\n",
       "        if (pass_mouse_events)\n",
       "            return fig.mouse_event(event, event['data']);\n",
       "    }\n",
       "\n",
       "    rubberband.mousedown('button_press', mouse_event_fn);\n",
       "    rubberband.mouseup('button_release', mouse_event_fn);\n",
       "    // Throttle sequential mouse events to 1 every 20ms.\n",
       "    rubberband.mousemove('motion_notify', mouse_event_fn);\n",
       "\n",
       "    rubberband.mouseenter('figure_enter', mouse_event_fn);\n",
       "    rubberband.mouseleave('figure_leave', mouse_event_fn);\n",
       "\n",
       "    canvas_div.on(\"wheel\", function (event) {\n",
       "        event = event.originalEvent;\n",
       "        event['data'] = 'scroll'\n",
       "        if (event.deltaY < 0) {\n",
       "            event.step = 1;\n",
       "        } else {\n",
       "            event.step = -1;\n",
       "        }\n",
       "        mouse_event_fn(event);\n",
       "    });\n",
       "\n",
       "    canvas_div.append(canvas);\n",
       "    canvas_div.append(rubberband);\n",
       "\n",
       "    this.rubberband = rubberband;\n",
       "    this.rubberband_canvas = rubberband[0];\n",
       "    this.rubberband_context = rubberband[0].getContext(\"2d\");\n",
       "    this.rubberband_context.strokeStyle = \"#000000\";\n",
       "\n",
       "    this._resize_canvas = function(width, height) {\n",
       "        // Keep the size of the canvas, canvas container, and rubber band\n",
       "        // canvas in synch.\n",
       "        canvas_div.css('width', width)\n",
       "        canvas_div.css('height', height)\n",
       "\n",
       "        canvas.attr('width', width * mpl.ratio);\n",
       "        canvas.attr('height', height * mpl.ratio);\n",
       "        canvas.attr('style', 'width: ' + width + 'px; height: ' + height + 'px;');\n",
       "\n",
       "        rubberband.attr('width', width);\n",
       "        rubberband.attr('height', height);\n",
       "    }\n",
       "\n",
       "    // Set the figure to an initial 600x600px, this will subsequently be updated\n",
       "    // upon first draw.\n",
       "    this._resize_canvas(600, 600);\n",
       "\n",
       "    // Disable right mouse context menu.\n",
       "    $(this.rubberband_canvas).bind(\"contextmenu\",function(e){\n",
       "        return false;\n",
       "    });\n",
       "\n",
       "    function set_focus () {\n",
       "        canvas.focus();\n",
       "        canvas_div.focus();\n",
       "    }\n",
       "\n",
       "    window.setTimeout(set_focus, 100);\n",
       "}\n",
       "\n",
       "mpl.figure.prototype._init_toolbar = function() {\n",
       "    var fig = this;\n",
       "\n",
       "    var nav_element = $('<div/>')\n",
       "    nav_element.attr('style', 'width: 100%');\n",
       "    this.root.append(nav_element);\n",
       "\n",
       "    // Define a callback function for later on.\n",
       "    function toolbar_event(event) {\n",
       "        return fig.toolbar_button_onclick(event['data']);\n",
       "    }\n",
       "    function toolbar_mouse_event(event) {\n",
       "        return fig.toolbar_button_onmouseover(event['data']);\n",
       "    }\n",
       "\n",
       "    for(var toolbar_ind in mpl.toolbar_items) {\n",
       "        var name = mpl.toolbar_items[toolbar_ind][0];\n",
       "        var tooltip = mpl.toolbar_items[toolbar_ind][1];\n",
       "        var image = mpl.toolbar_items[toolbar_ind][2];\n",
       "        var method_name = mpl.toolbar_items[toolbar_ind][3];\n",
       "\n",
       "        if (!name) {\n",
       "            // put a spacer in here.\n",
       "            continue;\n",
       "        }\n",
       "        var button = $('<button/>');\n",
       "        button.addClass('ui-button ui-widget ui-state-default ui-corner-all ' +\n",
       "                        'ui-button-icon-only');\n",
       "        button.attr('role', 'button');\n",
       "        button.attr('aria-disabled', 'false');\n",
       "        button.click(method_name, toolbar_event);\n",
       "        button.mouseover(tooltip, toolbar_mouse_event);\n",
       "\n",
       "        var icon_img = $('<span/>');\n",
       "        icon_img.addClass('ui-button-icon-primary ui-icon');\n",
       "        icon_img.addClass(image);\n",
       "        icon_img.addClass('ui-corner-all');\n",
       "\n",
       "        var tooltip_span = $('<span/>');\n",
       "        tooltip_span.addClass('ui-button-text');\n",
       "        tooltip_span.html(tooltip);\n",
       "\n",
       "        button.append(icon_img);\n",
       "        button.append(tooltip_span);\n",
       "\n",
       "        nav_element.append(button);\n",
       "    }\n",
       "\n",
       "    var fmt_picker_span = $('<span/>');\n",
       "\n",
       "    var fmt_picker = $('<select/>');\n",
       "    fmt_picker.addClass('mpl-toolbar-option ui-widget ui-widget-content');\n",
       "    fmt_picker_span.append(fmt_picker);\n",
       "    nav_element.append(fmt_picker_span);\n",
       "    this.format_dropdown = fmt_picker[0];\n",
       "\n",
       "    for (var ind in mpl.extensions) {\n",
       "        var fmt = mpl.extensions[ind];\n",
       "        var option = $(\n",
       "            '<option/>', {selected: fmt === mpl.default_extension}).html(fmt);\n",
       "        fmt_picker.append(option)\n",
       "    }\n",
       "\n",
       "    // Add hover states to the ui-buttons\n",
       "    $( \".ui-button\" ).hover(\n",
       "        function() { $(this).addClass(\"ui-state-hover\");},\n",
       "        function() { $(this).removeClass(\"ui-state-hover\");}\n",
       "    );\n",
       "\n",
       "    var status_bar = $('<span class=\"mpl-message\"/>');\n",
       "    nav_element.append(status_bar);\n",
       "    this.message = status_bar[0];\n",
       "}\n",
       "\n",
       "mpl.figure.prototype.request_resize = function(x_pixels, y_pixels) {\n",
       "    // Request matplotlib to resize the figure. Matplotlib will then trigger a resize in the client,\n",
       "    // which will in turn request a refresh of the image.\n",
       "    this.send_message('resize', {'width': x_pixels, 'height': y_pixels});\n",
       "}\n",
       "\n",
       "mpl.figure.prototype.send_message = function(type, properties) {\n",
       "    properties['type'] = type;\n",
       "    properties['figure_id'] = this.id;\n",
       "    this.ws.send(JSON.stringify(properties));\n",
       "}\n",
       "\n",
       "mpl.figure.prototype.send_draw_message = function() {\n",
       "    if (!this.waiting) {\n",
       "        this.waiting = true;\n",
       "        this.ws.send(JSON.stringify({type: \"draw\", figure_id: this.id}));\n",
       "    }\n",
       "}\n",
       "\n",
       "\n",
       "mpl.figure.prototype.handle_save = function(fig, msg) {\n",
       "    var format_dropdown = fig.format_dropdown;\n",
       "    var format = format_dropdown.options[format_dropdown.selectedIndex].value;\n",
       "    fig.ondownload(fig, format);\n",
       "}\n",
       "\n",
       "\n",
       "mpl.figure.prototype.handle_resize = function(fig, msg) {\n",
       "    var size = msg['size'];\n",
       "    if (size[0] != fig.canvas.width || size[1] != fig.canvas.height) {\n",
       "        fig._resize_canvas(size[0], size[1]);\n",
       "        fig.send_message(\"refresh\", {});\n",
       "    };\n",
       "}\n",
       "\n",
       "mpl.figure.prototype.handle_rubberband = function(fig, msg) {\n",
       "    var x0 = msg['x0'] / mpl.ratio;\n",
       "    var y0 = (fig.canvas.height - msg['y0']) / mpl.ratio;\n",
       "    var x1 = msg['x1'] / mpl.ratio;\n",
       "    var y1 = (fig.canvas.height - msg['y1']) / mpl.ratio;\n",
       "    x0 = Math.floor(x0) + 0.5;\n",
       "    y0 = Math.floor(y0) + 0.5;\n",
       "    x1 = Math.floor(x1) + 0.5;\n",
       "    y1 = Math.floor(y1) + 0.5;\n",
       "    var min_x = Math.min(x0, x1);\n",
       "    var min_y = Math.min(y0, y1);\n",
       "    var width = Math.abs(x1 - x0);\n",
       "    var height = Math.abs(y1 - y0);\n",
       "\n",
       "    fig.rubberband_context.clearRect(\n",
       "        0, 0, fig.canvas.width, fig.canvas.height);\n",
       "\n",
       "    fig.rubberband_context.strokeRect(min_x, min_y, width, height);\n",
       "}\n",
       "\n",
       "mpl.figure.prototype.handle_figure_label = function(fig, msg) {\n",
       "    // Updates the figure title.\n",
       "    fig.header.textContent = msg['label'];\n",
       "}\n",
       "\n",
       "mpl.figure.prototype.handle_cursor = function(fig, msg) {\n",
       "    var cursor = msg['cursor'];\n",
       "    switch(cursor)\n",
       "    {\n",
       "    case 0:\n",
       "        cursor = 'pointer';\n",
       "        break;\n",
       "    case 1:\n",
       "        cursor = 'default';\n",
       "        break;\n",
       "    case 2:\n",
       "        cursor = 'crosshair';\n",
       "        break;\n",
       "    case 3:\n",
       "        cursor = 'move';\n",
       "        break;\n",
       "    }\n",
       "    fig.rubberband_canvas.style.cursor = cursor;\n",
       "}\n",
       "\n",
       "mpl.figure.prototype.handle_message = function(fig, msg) {\n",
       "    fig.message.textContent = msg['message'];\n",
       "}\n",
       "\n",
       "mpl.figure.prototype.handle_draw = function(fig, msg) {\n",
       "    // Request the server to send over a new figure.\n",
       "    fig.send_draw_message();\n",
       "}\n",
       "\n",
       "mpl.figure.prototype.handle_image_mode = function(fig, msg) {\n",
       "    fig.image_mode = msg['mode'];\n",
       "}\n",
       "\n",
       "mpl.figure.prototype.updated_canvas_event = function() {\n",
       "    // Called whenever the canvas gets updated.\n",
       "    this.send_message(\"ack\", {});\n",
       "}\n",
       "\n",
       "// A function to construct a web socket function for onmessage handling.\n",
       "// Called in the figure constructor.\n",
       "mpl.figure.prototype._make_on_message_function = function(fig) {\n",
       "    return function socket_on_message(evt) {\n",
       "        if (evt.data instanceof Blob) {\n",
       "            /* FIXME: We get \"Resource interpreted as Image but\n",
       "             * transferred with MIME type text/plain:\" errors on\n",
       "             * Chrome.  But how to set the MIME type?  It doesn't seem\n",
       "             * to be part of the websocket stream */\n",
       "            evt.data.type = \"image/png\";\n",
       "\n",
       "            /* Free the memory for the previous frames */\n",
       "            if (fig.imageObj.src) {\n",
       "                (window.URL || window.webkitURL).revokeObjectURL(\n",
       "                    fig.imageObj.src);\n",
       "            }\n",
       "\n",
       "            fig.imageObj.src = (window.URL || window.webkitURL).createObjectURL(\n",
       "                evt.data);\n",
       "            fig.updated_canvas_event();\n",
       "            fig.waiting = false;\n",
       "            return;\n",
       "        }\n",
       "        else if (typeof evt.data === 'string' && evt.data.slice(0, 21) == \"data:image/png;base64\") {\n",
       "            fig.imageObj.src = evt.data;\n",
       "            fig.updated_canvas_event();\n",
       "            fig.waiting = false;\n",
       "            return;\n",
       "        }\n",
       "\n",
       "        var msg = JSON.parse(evt.data);\n",
       "        var msg_type = msg['type'];\n",
       "\n",
       "        // Call the  \"handle_{type}\" callback, which takes\n",
       "        // the figure and JSON message as its only arguments.\n",
       "        try {\n",
       "            var callback = fig[\"handle_\" + msg_type];\n",
       "        } catch (e) {\n",
       "            console.log(\"No handler for the '\" + msg_type + \"' message type: \", msg);\n",
       "            return;\n",
       "        }\n",
       "\n",
       "        if (callback) {\n",
       "            try {\n",
       "                // console.log(\"Handling '\" + msg_type + \"' message: \", msg);\n",
       "                callback(fig, msg);\n",
       "            } catch (e) {\n",
       "                console.log(\"Exception inside the 'handler_\" + msg_type + \"' callback:\", e, e.stack, msg);\n",
       "            }\n",
       "        }\n",
       "    };\n",
       "}\n",
       "\n",
       "// from http://stackoverflow.com/questions/1114465/getting-mouse-location-in-canvas\n",
       "mpl.findpos = function(e) {\n",
       "    //this section is from http://www.quirksmode.org/js/events_properties.html\n",
       "    var targ;\n",
       "    if (!e)\n",
       "        e = window.event;\n",
       "    if (e.target)\n",
       "        targ = e.target;\n",
       "    else if (e.srcElement)\n",
       "        targ = e.srcElement;\n",
       "    if (targ.nodeType == 3) // defeat Safari bug\n",
       "        targ = targ.parentNode;\n",
       "\n",
       "    // jQuery normalizes the pageX and pageY\n",
       "    // pageX,Y are the mouse positions relative to the document\n",
       "    // offset() returns the position of the element relative to the document\n",
       "    var x = e.pageX - $(targ).offset().left;\n",
       "    var y = e.pageY - $(targ).offset().top;\n",
       "\n",
       "    return {\"x\": x, \"y\": y};\n",
       "};\n",
       "\n",
       "/*\n",
       " * return a copy of an object with only non-object keys\n",
       " * we need this to avoid circular references\n",
       " * http://stackoverflow.com/a/24161582/3208463\n",
       " */\n",
       "function simpleKeys (original) {\n",
       "  return Object.keys(original).reduce(function (obj, key) {\n",
       "    if (typeof original[key] !== 'object')\n",
       "        obj[key] = original[key]\n",
       "    return obj;\n",
       "  }, {});\n",
       "}\n",
       "\n",
       "mpl.figure.prototype.mouse_event = function(event, name) {\n",
       "    var canvas_pos = mpl.findpos(event)\n",
       "\n",
       "    if (name === 'button_press')\n",
       "    {\n",
       "        this.canvas.focus();\n",
       "        this.canvas_div.focus();\n",
       "    }\n",
       "\n",
       "    var x = canvas_pos.x * mpl.ratio;\n",
       "    var y = canvas_pos.y * mpl.ratio;\n",
       "\n",
       "    this.send_message(name, {x: x, y: y, button: event.button,\n",
       "                             step: event.step,\n",
       "                             guiEvent: simpleKeys(event)});\n",
       "\n",
       "    /* This prevents the web browser from automatically changing to\n",
       "     * the text insertion cursor when the button is pressed.  We want\n",
       "     * to control all of the cursor setting manually through the\n",
       "     * 'cursor' event from matplotlib */\n",
       "    event.preventDefault();\n",
       "    return false;\n",
       "}\n",
       "\n",
       "mpl.figure.prototype._key_event_extra = function(event, name) {\n",
       "    // Handle any extra behaviour associated with a key event\n",
       "}\n",
       "\n",
       "mpl.figure.prototype.key_event = function(event, name) {\n",
       "\n",
       "    // Prevent repeat events\n",
       "    if (name == 'key_press')\n",
       "    {\n",
       "        if (event.which === this._key)\n",
       "            return;\n",
       "        else\n",
       "            this._key = event.which;\n",
       "    }\n",
       "    if (name == 'key_release')\n",
       "        this._key = null;\n",
       "\n",
       "    var value = '';\n",
       "    if (event.ctrlKey && event.which != 17)\n",
       "        value += \"ctrl+\";\n",
       "    if (event.altKey && event.which != 18)\n",
       "        value += \"alt+\";\n",
       "    if (event.shiftKey && event.which != 16)\n",
       "        value += \"shift+\";\n",
       "\n",
       "    value += 'k';\n",
       "    value += event.which.toString();\n",
       "\n",
       "    this._key_event_extra(event, name);\n",
       "\n",
       "    this.send_message(name, {key: value,\n",
       "                             guiEvent: simpleKeys(event)});\n",
       "    return false;\n",
       "}\n",
       "\n",
       "mpl.figure.prototype.toolbar_button_onclick = function(name) {\n",
       "    if (name == 'download') {\n",
       "        this.handle_save(this, null);\n",
       "    } else {\n",
       "        this.send_message(\"toolbar_button\", {name: name});\n",
       "    }\n",
       "};\n",
       "\n",
       "mpl.figure.prototype.toolbar_button_onmouseover = function(tooltip) {\n",
       "    this.message.textContent = tooltip;\n",
       "};\n",
       "mpl.toolbar_items = [[\"Home\", \"Reset original view\", \"fa fa-home icon-home\", \"home\"], [\"Back\", \"Back to  previous view\", \"fa fa-arrow-left icon-arrow-left\", \"back\"], [\"Forward\", \"Forward to next view\", \"fa fa-arrow-right icon-arrow-right\", \"forward\"], [\"\", \"\", \"\", \"\"], [\"Pan\", \"Pan axes with left mouse, zoom with right\", \"fa fa-arrows icon-move\", \"pan\"], [\"Zoom\", \"Zoom to rectangle\", \"fa fa-square-o icon-check-empty\", \"zoom\"], [\"\", \"\", \"\", \"\"], [\"Download\", \"Download plot\", \"fa fa-floppy-o icon-save\", \"download\"]];\n",
       "\n",
       "mpl.extensions = [\"eps\", \"pdf\", \"png\", \"ps\", \"raw\", \"svg\"];\n",
       "\n",
       "mpl.default_extension = \"png\";var comm_websocket_adapter = function(comm) {\n",
       "    // Create a \"websocket\"-like object which calls the given IPython comm\n",
       "    // object with the appropriate methods. Currently this is a non binary\n",
       "    // socket, so there is still some room for performance tuning.\n",
       "    var ws = {};\n",
       "\n",
       "    ws.close = function() {\n",
       "        comm.close()\n",
       "    };\n",
       "    ws.send = function(m) {\n",
       "        //console.log('sending', m);\n",
       "        comm.send(m);\n",
       "    };\n",
       "    // Register the callback with on_msg.\n",
       "    comm.on_msg(function(msg) {\n",
       "        //console.log('receiving', msg['content']['data'], msg);\n",
       "        // Pass the mpl event to the overridden (by mpl) onmessage function.\n",
       "        ws.onmessage(msg['content']['data'])\n",
       "    });\n",
       "    return ws;\n",
       "}\n",
       "\n",
       "mpl.mpl_figure_comm = function(comm, msg) {\n",
       "    // This is the function which gets called when the mpl process\n",
       "    // starts-up an IPython Comm through the \"matplotlib\" channel.\n",
       "\n",
       "    var id = msg.content.data.id;\n",
       "    // Get hold of the div created by the display call when the Comm\n",
       "    // socket was opened in Python.\n",
       "    var element = $(\"#\" + id);\n",
       "    var ws_proxy = comm_websocket_adapter(comm)\n",
       "\n",
       "    function ondownload(figure, format) {\n",
       "        window.open(figure.imageObj.src);\n",
       "    }\n",
       "\n",
       "    var fig = new mpl.figure(id, ws_proxy,\n",
       "                           ondownload,\n",
       "                           element.get(0));\n",
       "\n",
       "    // Call onopen now - mpl needs it, as it is assuming we've passed it a real\n",
       "    // web socket which is closed, not our websocket->open comm proxy.\n",
       "    ws_proxy.onopen();\n",
       "\n",
       "    fig.parent_element = element.get(0);\n",
       "    fig.cell_info = mpl.find_output_cell(\"<div id='\" + id + \"'></div>\");\n",
       "    if (!fig.cell_info) {\n",
       "        console.error(\"Failed to find cell for figure\", id, fig);\n",
       "        return;\n",
       "    }\n",
       "\n",
       "    var output_index = fig.cell_info[2]\n",
       "    var cell = fig.cell_info[0];\n",
       "\n",
       "};\n",
       "\n",
       "mpl.figure.prototype.handle_close = function(fig, msg) {\n",
       "    var width = fig.canvas.width/mpl.ratio\n",
       "    fig.root.unbind('remove')\n",
       "\n",
       "    // Update the output cell to use the data from the current canvas.\n",
       "    fig.push_to_output();\n",
       "    var dataURL = fig.canvas.toDataURL();\n",
       "    // Re-enable the keyboard manager in IPython - without this line, in FF,\n",
       "    // the notebook keyboard shortcuts fail.\n",
       "    IPython.keyboard_manager.enable()\n",
       "    $(fig.parent_element).html('<img src=\"' + dataURL + '\" width=\"' + width + '\">');\n",
       "    fig.close_ws(fig, msg);\n",
       "}\n",
       "\n",
       "mpl.figure.prototype.close_ws = function(fig, msg){\n",
       "    fig.send_message('closing', msg);\n",
       "    // fig.ws.close()\n",
       "}\n",
       "\n",
       "mpl.figure.prototype.push_to_output = function(remove_interactive) {\n",
       "    // Turn the data on the canvas into data in the output cell.\n",
       "    var width = this.canvas.width/mpl.ratio\n",
       "    var dataURL = this.canvas.toDataURL();\n",
       "    this.cell_info[1]['text/html'] = '<img src=\"' + dataURL + '\" width=\"' + width + '\">';\n",
       "}\n",
       "\n",
       "mpl.figure.prototype.updated_canvas_event = function() {\n",
       "    // Tell IPython that the notebook contents must change.\n",
       "    IPython.notebook.set_dirty(true);\n",
       "    this.send_message(\"ack\", {});\n",
       "    var fig = this;\n",
       "    // Wait a second, then push the new image to the DOM so\n",
       "    // that it is saved nicely (might be nice to debounce this).\n",
       "    setTimeout(function () { fig.push_to_output() }, 1000);\n",
       "}\n",
       "\n",
       "mpl.figure.prototype._init_toolbar = function() {\n",
       "    var fig = this;\n",
       "\n",
       "    var nav_element = $('<div/>')\n",
       "    nav_element.attr('style', 'width: 100%');\n",
       "    this.root.append(nav_element);\n",
       "\n",
       "    // Define a callback function for later on.\n",
       "    function toolbar_event(event) {\n",
       "        return fig.toolbar_button_onclick(event['data']);\n",
       "    }\n",
       "    function toolbar_mouse_event(event) {\n",
       "        return fig.toolbar_button_onmouseover(event['data']);\n",
       "    }\n",
       "\n",
       "    for(var toolbar_ind in mpl.toolbar_items){\n",
       "        var name = mpl.toolbar_items[toolbar_ind][0];\n",
       "        var tooltip = mpl.toolbar_items[toolbar_ind][1];\n",
       "        var image = mpl.toolbar_items[toolbar_ind][2];\n",
       "        var method_name = mpl.toolbar_items[toolbar_ind][3];\n",
       "\n",
       "        if (!name) { continue; };\n",
       "\n",
       "        var button = $('<button class=\"btn btn-default\" href=\"#\" title=\"' + name + '\"><i class=\"fa ' + image + ' fa-lg\"></i></button>');\n",
       "        button.click(method_name, toolbar_event);\n",
       "        button.mouseover(tooltip, toolbar_mouse_event);\n",
       "        nav_element.append(button);\n",
       "    }\n",
       "\n",
       "    // Add the status bar.\n",
       "    var status_bar = $('<span class=\"mpl-message\" style=\"text-align:right; float: right;\"/>');\n",
       "    nav_element.append(status_bar);\n",
       "    this.message = status_bar[0];\n",
       "\n",
       "    // Add the close button to the window.\n",
       "    var buttongrp = $('<div class=\"btn-group inline pull-right\"></div>');\n",
       "    var button = $('<button class=\"btn btn-mini btn-primary\" href=\"#\" title=\"Stop Interaction\"><i class=\"fa fa-power-off icon-remove icon-large\"></i></button>');\n",
       "    button.click(function (evt) { fig.handle_close(fig, {}); } );\n",
       "    button.mouseover('Stop Interaction', toolbar_mouse_event);\n",
       "    buttongrp.append(button);\n",
       "    var titlebar = this.root.find($('.ui-dialog-titlebar'));\n",
       "    titlebar.prepend(buttongrp);\n",
       "}\n",
       "\n",
       "mpl.figure.prototype._root_extra_style = function(el){\n",
       "    var fig = this\n",
       "    el.on(\"remove\", function(){\n",
       "\tfig.close_ws(fig, {});\n",
       "    });\n",
       "}\n",
       "\n",
       "mpl.figure.prototype._canvas_extra_style = function(el){\n",
       "    // this is important to make the div 'focusable\n",
       "    el.attr('tabindex', 0)\n",
       "    // reach out to IPython and tell the keyboard manager to turn it's self\n",
       "    // off when our div gets focus\n",
       "\n",
       "    // location in version 3\n",
       "    if (IPython.notebook.keyboard_manager) {\n",
       "        IPython.notebook.keyboard_manager.register_events(el);\n",
       "    }\n",
       "    else {\n",
       "        // location in version 2\n",
       "        IPython.keyboard_manager.register_events(el);\n",
       "    }\n",
       "\n",
       "}\n",
       "\n",
       "mpl.figure.prototype._key_event_extra = function(event, name) {\n",
       "    var manager = IPython.notebook.keyboard_manager;\n",
       "    if (!manager)\n",
       "        manager = IPython.keyboard_manager;\n",
       "\n",
       "    // Check for shift+enter\n",
       "    if (event.shiftKey && event.which == 13) {\n",
       "        this.canvas_div.blur();\n",
       "        event.shiftKey = false;\n",
       "        // Send a \"J\" for go to next cell\n",
       "        event.which = 74;\n",
       "        event.keyCode = 74;\n",
       "        manager.command_mode();\n",
       "        manager.handle_keydown(event);\n",
       "    }\n",
       "}\n",
       "\n",
       "mpl.figure.prototype.handle_save = function(fig, msg) {\n",
       "    fig.ondownload(fig, null);\n",
       "}\n",
       "\n",
       "\n",
       "mpl.find_output_cell = function(html_output) {\n",
       "    // Return the cell and output element which can be found *uniquely* in the notebook.\n",
       "    // Note - this is a bit hacky, but it is done because the \"notebook_saving.Notebook\"\n",
       "    // IPython event is triggered only after the cells have been serialised, which for\n",
       "    // our purposes (turning an active figure into a static one), is too late.\n",
       "    var cells = IPython.notebook.get_cells();\n",
       "    var ncells = cells.length;\n",
       "    for (var i=0; i<ncells; i++) {\n",
       "        var cell = cells[i];\n",
       "        if (cell.cell_type === 'code'){\n",
       "            for (var j=0; j<cell.output_area.outputs.length; j++) {\n",
       "                var data = cell.output_area.outputs[j];\n",
       "                if (data.data) {\n",
       "                    // IPython >= 3 moved mimebundle to data attribute of output\n",
       "                    data = data.data;\n",
       "                }\n",
       "                if (data['text/html'] == html_output) {\n",
       "                    return [cell, data, j];\n",
       "                }\n",
       "            }\n",
       "        }\n",
       "    }\n",
       "}\n",
       "\n",
       "// Register the function which deals with the matplotlib target/channel.\n",
       "// The kernel may be null if the page has been refreshed.\n",
       "if (IPython.notebook.kernel != null) {\n",
       "    IPython.notebook.kernel.comm_manager.register_target('matplotlib', mpl.mpl_figure_comm);\n",
       "}\n"
      ],
      "text/plain": [
       "<IPython.core.display.Javascript object>"
      ]
     },
     "metadata": {},
     "output_type": "display_data"
    },
    {
     "data": {
      "text/html": [
       "<img src=\"data:image/png;base64,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\" width=\"432\">"
      ],
      "text/plain": [
       "<IPython.core.display.HTML object>"
      ]
     },
     "metadata": {},
     "output_type": "display_data"
    }
   ],
   "source": [
    "t=np.linspace(0,20,200)\n",
    "#Se resuelve la ecuación\n",
    "sol2=odeint(pendulo,[theta,omega],t)\n",
    "#Posición contra velocidad\n",
    "plt.scatter(sol2[:,0],sol2[:,1],c=sol2[:,1],cmap= 'viridis')\n",
    "plt.show()"
   ]
  },
  {
   "cell_type": "code",
   "execution_count": 44,
   "metadata": {},
   "outputs": [
    {
     "data": {
      "application/javascript": [
       "/* Put everything inside the global mpl namespace */\n",
       "window.mpl = {};\n",
       "\n",
       "\n",
       "mpl.get_websocket_type = function() {\n",
       "    if (typeof(WebSocket) !== 'undefined') {\n",
       "        return WebSocket;\n",
       "    } else if (typeof(MozWebSocket) !== 'undefined') {\n",
       "        return MozWebSocket;\n",
       "    } else {\n",
       "        alert('Your browser does not have WebSocket support.' +\n",
       "              'Please try Chrome, Safari or Firefox ≥ 6. ' +\n",
       "              'Firefox 4 and 5 are also supported but you ' +\n",
       "              'have to enable WebSockets in about:config.');\n",
       "    };\n",
       "}\n",
       "\n",
       "mpl.figure = function(figure_id, websocket, ondownload, parent_element) {\n",
       "    this.id = figure_id;\n",
       "\n",
       "    this.ws = websocket;\n",
       "\n",
       "    this.supports_binary = (this.ws.binaryType != undefined);\n",
       "\n",
       "    if (!this.supports_binary) {\n",
       "        var warnings = document.getElementById(\"mpl-warnings\");\n",
       "        if (warnings) {\n",
       "            warnings.style.display = 'block';\n",
       "            warnings.textContent = (\n",
       "                \"This browser does not support binary websocket messages. \" +\n",
       "                    \"Performance may be slow.\");\n",
       "        }\n",
       "    }\n",
       "\n",
       "    this.imageObj = new Image();\n",
       "\n",
       "    this.context = undefined;\n",
       "    this.message = undefined;\n",
       "    this.canvas = undefined;\n",
       "    this.rubberband_canvas = undefined;\n",
       "    this.rubberband_context = undefined;\n",
       "    this.format_dropdown = undefined;\n",
       "\n",
       "    this.image_mode = 'full';\n",
       "\n",
       "    this.root = $('<div/>');\n",
       "    this._root_extra_style(this.root)\n",
       "    this.root.attr('style', 'display: inline-block');\n",
       "\n",
       "    $(parent_element).append(this.root);\n",
       "\n",
       "    this._init_header(this);\n",
       "    this._init_canvas(this);\n",
       "    this._init_toolbar(this);\n",
       "\n",
       "    var fig = this;\n",
       "\n",
       "    this.waiting = false;\n",
       "\n",
       "    this.ws.onopen =  function () {\n",
       "            fig.send_message(\"supports_binary\", {value: fig.supports_binary});\n",
       "            fig.send_message(\"send_image_mode\", {});\n",
       "            if (mpl.ratio != 1) {\n",
       "                fig.send_message(\"set_dpi_ratio\", {'dpi_ratio': mpl.ratio});\n",
       "            }\n",
       "            fig.send_message(\"refresh\", {});\n",
       "        }\n",
       "\n",
       "    this.imageObj.onload = function() {\n",
       "            if (fig.image_mode == 'full') {\n",
       "                // Full images could contain transparency (where diff images\n",
       "                // almost always do), so we need to clear the canvas so that\n",
       "                // there is no ghosting.\n",
       "                fig.context.clearRect(0, 0, fig.canvas.width, fig.canvas.height);\n",
       "            }\n",
       "            fig.context.drawImage(fig.imageObj, 0, 0);\n",
       "        };\n",
       "\n",
       "    this.imageObj.onunload = function() {\n",
       "        fig.ws.close();\n",
       "    }\n",
       "\n",
       "    this.ws.onmessage = this._make_on_message_function(this);\n",
       "\n",
       "    this.ondownload = ondownload;\n",
       "}\n",
       "\n",
       "mpl.figure.prototype._init_header = function() {\n",
       "    var titlebar = $(\n",
       "        '<div class=\"ui-dialog-titlebar ui-widget-header ui-corner-all ' +\n",
       "        'ui-helper-clearfix\"/>');\n",
       "    var titletext = $(\n",
       "        '<div class=\"ui-dialog-title\" style=\"width: 100%; ' +\n",
       "        'text-align: center; padding: 3px;\"/>');\n",
       "    titlebar.append(titletext)\n",
       "    this.root.append(titlebar);\n",
       "    this.header = titletext[0];\n",
       "}\n",
       "\n",
       "\n",
       "\n",
       "mpl.figure.prototype._canvas_extra_style = function(canvas_div) {\n",
       "\n",
       "}\n",
       "\n",
       "\n",
       "mpl.figure.prototype._root_extra_style = function(canvas_div) {\n",
       "\n",
       "}\n",
       "\n",
       "mpl.figure.prototype._init_canvas = function() {\n",
       "    var fig = this;\n",
       "\n",
       "    var canvas_div = $('<div/>');\n",
       "\n",
       "    canvas_div.attr('style', 'position: relative; clear: both; outline: 0');\n",
       "\n",
       "    function canvas_keyboard_event(event) {\n",
       "        return fig.key_event(event, event['data']);\n",
       "    }\n",
       "\n",
       "    canvas_div.keydown('key_press', canvas_keyboard_event);\n",
       "    canvas_div.keyup('key_release', canvas_keyboard_event);\n",
       "    this.canvas_div = canvas_div\n",
       "    this._canvas_extra_style(canvas_div)\n",
       "    this.root.append(canvas_div);\n",
       "\n",
       "    var canvas = $('<canvas/>');\n",
       "    canvas.addClass('mpl-canvas');\n",
       "    canvas.attr('style', \"left: 0; top: 0; z-index: 0; outline: 0\")\n",
       "\n",
       "    this.canvas = canvas[0];\n",
       "    this.context = canvas[0].getContext(\"2d\");\n",
       "\n",
       "    var backingStore = this.context.backingStorePixelRatio ||\n",
       "\tthis.context.webkitBackingStorePixelRatio ||\n",
       "\tthis.context.mozBackingStorePixelRatio ||\n",
       "\tthis.context.msBackingStorePixelRatio ||\n",
       "\tthis.context.oBackingStorePixelRatio ||\n",
       "\tthis.context.backingStorePixelRatio || 1;\n",
       "\n",
       "    mpl.ratio = (window.devicePixelRatio || 1) / backingStore;\n",
       "\n",
       "    var rubberband = $('<canvas/>');\n",
       "    rubberband.attr('style', \"position: absolute; left: 0; top: 0; z-index: 1;\")\n",
       "\n",
       "    var pass_mouse_events = true;\n",
       "\n",
       "    canvas_div.resizable({\n",
       "        start: function(event, ui) {\n",
       "            pass_mouse_events = false;\n",
       "        },\n",
       "        resize: function(event, ui) {\n",
       "            fig.request_resize(ui.size.width, ui.size.height);\n",
       "        },\n",
       "        stop: function(event, ui) {\n",
       "            pass_mouse_events = true;\n",
       "            fig.request_resize(ui.size.width, ui.size.height);\n",
       "        },\n",
       "    });\n",
       "\n",
       "    function mouse_event_fn(event) {\n",
       "        if (pass_mouse_events)\n",
       "            return fig.mouse_event(event, event['data']);\n",
       "    }\n",
       "\n",
       "    rubberband.mousedown('button_press', mouse_event_fn);\n",
       "    rubberband.mouseup('button_release', mouse_event_fn);\n",
       "    // Throttle sequential mouse events to 1 every 20ms.\n",
       "    rubberband.mousemove('motion_notify', mouse_event_fn);\n",
       "\n",
       "    rubberband.mouseenter('figure_enter', mouse_event_fn);\n",
       "    rubberband.mouseleave('figure_leave', mouse_event_fn);\n",
       "\n",
       "    canvas_div.on(\"wheel\", function (event) {\n",
       "        event = event.originalEvent;\n",
       "        event['data'] = 'scroll'\n",
       "        if (event.deltaY < 0) {\n",
       "            event.step = 1;\n",
       "        } else {\n",
       "            event.step = -1;\n",
       "        }\n",
       "        mouse_event_fn(event);\n",
       "    });\n",
       "\n",
       "    canvas_div.append(canvas);\n",
       "    canvas_div.append(rubberband);\n",
       "\n",
       "    this.rubberband = rubberband;\n",
       "    this.rubberband_canvas = rubberband[0];\n",
       "    this.rubberband_context = rubberband[0].getContext(\"2d\");\n",
       "    this.rubberband_context.strokeStyle = \"#000000\";\n",
       "\n",
       "    this._resize_canvas = function(width, height) {\n",
       "        // Keep the size of the canvas, canvas container, and rubber band\n",
       "        // canvas in synch.\n",
       "        canvas_div.css('width', width)\n",
       "        canvas_div.css('height', height)\n",
       "\n",
       "        canvas.attr('width', width * mpl.ratio);\n",
       "        canvas.attr('height', height * mpl.ratio);\n",
       "        canvas.attr('style', 'width: ' + width + 'px; height: ' + height + 'px;');\n",
       "\n",
       "        rubberband.attr('width', width);\n",
       "        rubberband.attr('height', height);\n",
       "    }\n",
       "\n",
       "    // Set the figure to an initial 600x600px, this will subsequently be updated\n",
       "    // upon first draw.\n",
       "    this._resize_canvas(600, 600);\n",
       "\n",
       "    // Disable right mouse context menu.\n",
       "    $(this.rubberband_canvas).bind(\"contextmenu\",function(e){\n",
       "        return false;\n",
       "    });\n",
       "\n",
       "    function set_focus () {\n",
       "        canvas.focus();\n",
       "        canvas_div.focus();\n",
       "    }\n",
       "\n",
       "    window.setTimeout(set_focus, 100);\n",
       "}\n",
       "\n",
       "mpl.figure.prototype._init_toolbar = function() {\n",
       "    var fig = this;\n",
       "\n",
       "    var nav_element = $('<div/>')\n",
       "    nav_element.attr('style', 'width: 100%');\n",
       "    this.root.append(nav_element);\n",
       "\n",
       "    // Define a callback function for later on.\n",
       "    function toolbar_event(event) {\n",
       "        return fig.toolbar_button_onclick(event['data']);\n",
       "    }\n",
       "    function toolbar_mouse_event(event) {\n",
       "        return fig.toolbar_button_onmouseover(event['data']);\n",
       "    }\n",
       "\n",
       "    for(var toolbar_ind in mpl.toolbar_items) {\n",
       "        var name = mpl.toolbar_items[toolbar_ind][0];\n",
       "        var tooltip = mpl.toolbar_items[toolbar_ind][1];\n",
       "        var image = mpl.toolbar_items[toolbar_ind][2];\n",
       "        var method_name = mpl.toolbar_items[toolbar_ind][3];\n",
       "\n",
       "        if (!name) {\n",
       "            // put a spacer in here.\n",
       "            continue;\n",
       "        }\n",
       "        var button = $('<button/>');\n",
       "        button.addClass('ui-button ui-widget ui-state-default ui-corner-all ' +\n",
       "                        'ui-button-icon-only');\n",
       "        button.attr('role', 'button');\n",
       "        button.attr('aria-disabled', 'false');\n",
       "        button.click(method_name, toolbar_event);\n",
       "        button.mouseover(tooltip, toolbar_mouse_event);\n",
       "\n",
       "        var icon_img = $('<span/>');\n",
       "        icon_img.addClass('ui-button-icon-primary ui-icon');\n",
       "        icon_img.addClass(image);\n",
       "        icon_img.addClass('ui-corner-all');\n",
       "\n",
       "        var tooltip_span = $('<span/>');\n",
       "        tooltip_span.addClass('ui-button-text');\n",
       "        tooltip_span.html(tooltip);\n",
       "\n",
       "        button.append(icon_img);\n",
       "        button.append(tooltip_span);\n",
       "\n",
       "        nav_element.append(button);\n",
       "    }\n",
       "\n",
       "    var fmt_picker_span = $('<span/>');\n",
       "\n",
       "    var fmt_picker = $('<select/>');\n",
       "    fmt_picker.addClass('mpl-toolbar-option ui-widget ui-widget-content');\n",
       "    fmt_picker_span.append(fmt_picker);\n",
       "    nav_element.append(fmt_picker_span);\n",
       "    this.format_dropdown = fmt_picker[0];\n",
       "\n",
       "    for (var ind in mpl.extensions) {\n",
       "        var fmt = mpl.extensions[ind];\n",
       "        var option = $(\n",
       "            '<option/>', {selected: fmt === mpl.default_extension}).html(fmt);\n",
       "        fmt_picker.append(option)\n",
       "    }\n",
       "\n",
       "    // Add hover states to the ui-buttons\n",
       "    $( \".ui-button\" ).hover(\n",
       "        function() { $(this).addClass(\"ui-state-hover\");},\n",
       "        function() { $(this).removeClass(\"ui-state-hover\");}\n",
       "    );\n",
       "\n",
       "    var status_bar = $('<span class=\"mpl-message\"/>');\n",
       "    nav_element.append(status_bar);\n",
       "    this.message = status_bar[0];\n",
       "}\n",
       "\n",
       "mpl.figure.prototype.request_resize = function(x_pixels, y_pixels) {\n",
       "    // Request matplotlib to resize the figure. Matplotlib will then trigger a resize in the client,\n",
       "    // which will in turn request a refresh of the image.\n",
       "    this.send_message('resize', {'width': x_pixels, 'height': y_pixels});\n",
       "}\n",
       "\n",
       "mpl.figure.prototype.send_message = function(type, properties) {\n",
       "    properties['type'] = type;\n",
       "    properties['figure_id'] = this.id;\n",
       "    this.ws.send(JSON.stringify(properties));\n",
       "}\n",
       "\n",
       "mpl.figure.prototype.send_draw_message = function() {\n",
       "    if (!this.waiting) {\n",
       "        this.waiting = true;\n",
       "        this.ws.send(JSON.stringify({type: \"draw\", figure_id: this.id}));\n",
       "    }\n",
       "}\n",
       "\n",
       "\n",
       "mpl.figure.prototype.handle_save = function(fig, msg) {\n",
       "    var format_dropdown = fig.format_dropdown;\n",
       "    var format = format_dropdown.options[format_dropdown.selectedIndex].value;\n",
       "    fig.ondownload(fig, format);\n",
       "}\n",
       "\n",
       "\n",
       "mpl.figure.prototype.handle_resize = function(fig, msg) {\n",
       "    var size = msg['size'];\n",
       "    if (size[0] != fig.canvas.width || size[1] != fig.canvas.height) {\n",
       "        fig._resize_canvas(size[0], size[1]);\n",
       "        fig.send_message(\"refresh\", {});\n",
       "    };\n",
       "}\n",
       "\n",
       "mpl.figure.prototype.handle_rubberband = function(fig, msg) {\n",
       "    var x0 = msg['x0'] / mpl.ratio;\n",
       "    var y0 = (fig.canvas.height - msg['y0']) / mpl.ratio;\n",
       "    var x1 = msg['x1'] / mpl.ratio;\n",
       "    var y1 = (fig.canvas.height - msg['y1']) / mpl.ratio;\n",
       "    x0 = Math.floor(x0) + 0.5;\n",
       "    y0 = Math.floor(y0) + 0.5;\n",
       "    x1 = Math.floor(x1) + 0.5;\n",
       "    y1 = Math.floor(y1) + 0.5;\n",
       "    var min_x = Math.min(x0, x1);\n",
       "    var min_y = Math.min(y0, y1);\n",
       "    var width = Math.abs(x1 - x0);\n",
       "    var height = Math.abs(y1 - y0);\n",
       "\n",
       "    fig.rubberband_context.clearRect(\n",
       "        0, 0, fig.canvas.width, fig.canvas.height);\n",
       "\n",
       "    fig.rubberband_context.strokeRect(min_x, min_y, width, height);\n",
       "}\n",
       "\n",
       "mpl.figure.prototype.handle_figure_label = function(fig, msg) {\n",
       "    // Updates the figure title.\n",
       "    fig.header.textContent = msg['label'];\n",
       "}\n",
       "\n",
       "mpl.figure.prototype.handle_cursor = function(fig, msg) {\n",
       "    var cursor = msg['cursor'];\n",
       "    switch(cursor)\n",
       "    {\n",
       "    case 0:\n",
       "        cursor = 'pointer';\n",
       "        break;\n",
       "    case 1:\n",
       "        cursor = 'default';\n",
       "        break;\n",
       "    case 2:\n",
       "        cursor = 'crosshair';\n",
       "        break;\n",
       "    case 3:\n",
       "        cursor = 'move';\n",
       "        break;\n",
       "    }\n",
       "    fig.rubberband_canvas.style.cursor = cursor;\n",
       "}\n",
       "\n",
       "mpl.figure.prototype.handle_message = function(fig, msg) {\n",
       "    fig.message.textContent = msg['message'];\n",
       "}\n",
       "\n",
       "mpl.figure.prototype.handle_draw = function(fig, msg) {\n",
       "    // Request the server to send over a new figure.\n",
       "    fig.send_draw_message();\n",
       "}\n",
       "\n",
       "mpl.figure.prototype.handle_image_mode = function(fig, msg) {\n",
       "    fig.image_mode = msg['mode'];\n",
       "}\n",
       "\n",
       "mpl.figure.prototype.updated_canvas_event = function() {\n",
       "    // Called whenever the canvas gets updated.\n",
       "    this.send_message(\"ack\", {});\n",
       "}\n",
       "\n",
       "// A function to construct a web socket function for onmessage handling.\n",
       "// Called in the figure constructor.\n",
       "mpl.figure.prototype._make_on_message_function = function(fig) {\n",
       "    return function socket_on_message(evt) {\n",
       "        if (evt.data instanceof Blob) {\n",
       "            /* FIXME: We get \"Resource interpreted as Image but\n",
       "             * transferred with MIME type text/plain:\" errors on\n",
       "             * Chrome.  But how to set the MIME type?  It doesn't seem\n",
       "             * to be part of the websocket stream */\n",
       "            evt.data.type = \"image/png\";\n",
       "\n",
       "            /* Free the memory for the previous frames */\n",
       "            if (fig.imageObj.src) {\n",
       "                (window.URL || window.webkitURL).revokeObjectURL(\n",
       "                    fig.imageObj.src);\n",
       "            }\n",
       "\n",
       "            fig.imageObj.src = (window.URL || window.webkitURL).createObjectURL(\n",
       "                evt.data);\n",
       "            fig.updated_canvas_event();\n",
       "            fig.waiting = false;\n",
       "            return;\n",
       "        }\n",
       "        else if (typeof evt.data === 'string' && evt.data.slice(0, 21) == \"data:image/png;base64\") {\n",
       "            fig.imageObj.src = evt.data;\n",
       "            fig.updated_canvas_event();\n",
       "            fig.waiting = false;\n",
       "            return;\n",
       "        }\n",
       "\n",
       "        var msg = JSON.parse(evt.data);\n",
       "        var msg_type = msg['type'];\n",
       "\n",
       "        // Call the  \"handle_{type}\" callback, which takes\n",
       "        // the figure and JSON message as its only arguments.\n",
       "        try {\n",
       "            var callback = fig[\"handle_\" + msg_type];\n",
       "        } catch (e) {\n",
       "            console.log(\"No handler for the '\" + msg_type + \"' message type: \", msg);\n",
       "            return;\n",
       "        }\n",
       "\n",
       "        if (callback) {\n",
       "            try {\n",
       "                // console.log(\"Handling '\" + msg_type + \"' message: \", msg);\n",
       "                callback(fig, msg);\n",
       "            } catch (e) {\n",
       "                console.log(\"Exception inside the 'handler_\" + msg_type + \"' callback:\", e, e.stack, msg);\n",
       "            }\n",
       "        }\n",
       "    };\n",
       "}\n",
       "\n",
       "// from http://stackoverflow.com/questions/1114465/getting-mouse-location-in-canvas\n",
       "mpl.findpos = function(e) {\n",
       "    //this section is from http://www.quirksmode.org/js/events_properties.html\n",
       "    var targ;\n",
       "    if (!e)\n",
       "        e = window.event;\n",
       "    if (e.target)\n",
       "        targ = e.target;\n",
       "    else if (e.srcElement)\n",
       "        targ = e.srcElement;\n",
       "    if (targ.nodeType == 3) // defeat Safari bug\n",
       "        targ = targ.parentNode;\n",
       "\n",
       "    // jQuery normalizes the pageX and pageY\n",
       "    // pageX,Y are the mouse positions relative to the document\n",
       "    // offset() returns the position of the element relative to the document\n",
       "    var x = e.pageX - $(targ).offset().left;\n",
       "    var y = e.pageY - $(targ).offset().top;\n",
       "\n",
       "    return {\"x\": x, \"y\": y};\n",
       "};\n",
       "\n",
       "/*\n",
       " * return a copy of an object with only non-object keys\n",
       " * we need this to avoid circular references\n",
       " * http://stackoverflow.com/a/24161582/3208463\n",
       " */\n",
       "function simpleKeys (original) {\n",
       "  return Object.keys(original).reduce(function (obj, key) {\n",
       "    if (typeof original[key] !== 'object')\n",
       "        obj[key] = original[key]\n",
       "    return obj;\n",
       "  }, {});\n",
       "}\n",
       "\n",
       "mpl.figure.prototype.mouse_event = function(event, name) {\n",
       "    var canvas_pos = mpl.findpos(event)\n",
       "\n",
       "    if (name === 'button_press')\n",
       "    {\n",
       "        this.canvas.focus();\n",
       "        this.canvas_div.focus();\n",
       "    }\n",
       "\n",
       "    var x = canvas_pos.x * mpl.ratio;\n",
       "    var y = canvas_pos.y * mpl.ratio;\n",
       "\n",
       "    this.send_message(name, {x: x, y: y, button: event.button,\n",
       "                             step: event.step,\n",
       "                             guiEvent: simpleKeys(event)});\n",
       "\n",
       "    /* This prevents the web browser from automatically changing to\n",
       "     * the text insertion cursor when the button is pressed.  We want\n",
       "     * to control all of the cursor setting manually through the\n",
       "     * 'cursor' event from matplotlib */\n",
       "    event.preventDefault();\n",
       "    return false;\n",
       "}\n",
       "\n",
       "mpl.figure.prototype._key_event_extra = function(event, name) {\n",
       "    // Handle any extra behaviour associated with a key event\n",
       "}\n",
       "\n",
       "mpl.figure.prototype.key_event = function(event, name) {\n",
       "\n",
       "    // Prevent repeat events\n",
       "    if (name == 'key_press')\n",
       "    {\n",
       "        if (event.which === this._key)\n",
       "            return;\n",
       "        else\n",
       "            this._key = event.which;\n",
       "    }\n",
       "    if (name == 'key_release')\n",
       "        this._key = null;\n",
       "\n",
       "    var value = '';\n",
       "    if (event.ctrlKey && event.which != 17)\n",
       "        value += \"ctrl+\";\n",
       "    if (event.altKey && event.which != 18)\n",
       "        value += \"alt+\";\n",
       "    if (event.shiftKey && event.which != 16)\n",
       "        value += \"shift+\";\n",
       "\n",
       "    value += 'k';\n",
       "    value += event.which.toString();\n",
       "\n",
       "    this._key_event_extra(event, name);\n",
       "\n",
       "    this.send_message(name, {key: value,\n",
       "                             guiEvent: simpleKeys(event)});\n",
       "    return false;\n",
       "}\n",
       "\n",
       "mpl.figure.prototype.toolbar_button_onclick = function(name) {\n",
       "    if (name == 'download') {\n",
       "        this.handle_save(this, null);\n",
       "    } else {\n",
       "        this.send_message(\"toolbar_button\", {name: name});\n",
       "    }\n",
       "};\n",
       "\n",
       "mpl.figure.prototype.toolbar_button_onmouseover = function(tooltip) {\n",
       "    this.message.textContent = tooltip;\n",
       "};\n",
       "mpl.toolbar_items = [[\"Home\", \"Reset original view\", \"fa fa-home icon-home\", \"home\"], [\"Back\", \"Back to  previous view\", \"fa fa-arrow-left icon-arrow-left\", \"back\"], [\"Forward\", \"Forward to next view\", \"fa fa-arrow-right icon-arrow-right\", \"forward\"], [\"\", \"\", \"\", \"\"], [\"Pan\", \"Pan axes with left mouse, zoom with right\", \"fa fa-arrows icon-move\", \"pan\"], [\"Zoom\", \"Zoom to rectangle\", \"fa fa-square-o icon-check-empty\", \"zoom\"], [\"\", \"\", \"\", \"\"], [\"Download\", \"Download plot\", \"fa fa-floppy-o icon-save\", \"download\"]];\n",
       "\n",
       "mpl.extensions = [\"eps\", \"pdf\", \"png\", \"ps\", \"raw\", \"svg\"];\n",
       "\n",
       "mpl.default_extension = \"png\";var comm_websocket_adapter = function(comm) {\n",
       "    // Create a \"websocket\"-like object which calls the given IPython comm\n",
       "    // object with the appropriate methods. Currently this is a non binary\n",
       "    // socket, so there is still some room for performance tuning.\n",
       "    var ws = {};\n",
       "\n",
       "    ws.close = function() {\n",
       "        comm.close()\n",
       "    };\n",
       "    ws.send = function(m) {\n",
       "        //console.log('sending', m);\n",
       "        comm.send(m);\n",
       "    };\n",
       "    // Register the callback with on_msg.\n",
       "    comm.on_msg(function(msg) {\n",
       "        //console.log('receiving', msg['content']['data'], msg);\n",
       "        // Pass the mpl event to the overridden (by mpl) onmessage function.\n",
       "        ws.onmessage(msg['content']['data'])\n",
       "    });\n",
       "    return ws;\n",
       "}\n",
       "\n",
       "mpl.mpl_figure_comm = function(comm, msg) {\n",
       "    // This is the function which gets called when the mpl process\n",
       "    // starts-up an IPython Comm through the \"matplotlib\" channel.\n",
       "\n",
       "    var id = msg.content.data.id;\n",
       "    // Get hold of the div created by the display call when the Comm\n",
       "    // socket was opened in Python.\n",
       "    var element = $(\"#\" + id);\n",
       "    var ws_proxy = comm_websocket_adapter(comm)\n",
       "\n",
       "    function ondownload(figure, format) {\n",
       "        window.open(figure.imageObj.src);\n",
       "    }\n",
       "\n",
       "    var fig = new mpl.figure(id, ws_proxy,\n",
       "                           ondownload,\n",
       "                           element.get(0));\n",
       "\n",
       "    // Call onopen now - mpl needs it, as it is assuming we've passed it a real\n",
       "    // web socket which is closed, not our websocket->open comm proxy.\n",
       "    ws_proxy.onopen();\n",
       "\n",
       "    fig.parent_element = element.get(0);\n",
       "    fig.cell_info = mpl.find_output_cell(\"<div id='\" + id + \"'></div>\");\n",
       "    if (!fig.cell_info) {\n",
       "        console.error(\"Failed to find cell for figure\", id, fig);\n",
       "        return;\n",
       "    }\n",
       "\n",
       "    var output_index = fig.cell_info[2]\n",
       "    var cell = fig.cell_info[0];\n",
       "\n",
       "};\n",
       "\n",
       "mpl.figure.prototype.handle_close = function(fig, msg) {\n",
       "    var width = fig.canvas.width/mpl.ratio\n",
       "    fig.root.unbind('remove')\n",
       "\n",
       "    // Update the output cell to use the data from the current canvas.\n",
       "    fig.push_to_output();\n",
       "    var dataURL = fig.canvas.toDataURL();\n",
       "    // Re-enable the keyboard manager in IPython - without this line, in FF,\n",
       "    // the notebook keyboard shortcuts fail.\n",
       "    IPython.keyboard_manager.enable()\n",
       "    $(fig.parent_element).html('<img src=\"' + dataURL + '\" width=\"' + width + '\">');\n",
       "    fig.close_ws(fig, msg);\n",
       "}\n",
       "\n",
       "mpl.figure.prototype.close_ws = function(fig, msg){\n",
       "    fig.send_message('closing', msg);\n",
       "    // fig.ws.close()\n",
       "}\n",
       "\n",
       "mpl.figure.prototype.push_to_output = function(remove_interactive) {\n",
       "    // Turn the data on the canvas into data in the output cell.\n",
       "    var width = this.canvas.width/mpl.ratio\n",
       "    var dataURL = this.canvas.toDataURL();\n",
       "    this.cell_info[1]['text/html'] = '<img src=\"' + dataURL + '\" width=\"' + width + '\">';\n",
       "}\n",
       "\n",
       "mpl.figure.prototype.updated_canvas_event = function() {\n",
       "    // Tell IPython that the notebook contents must change.\n",
       "    IPython.notebook.set_dirty(true);\n",
       "    this.send_message(\"ack\", {});\n",
       "    var fig = this;\n",
       "    // Wait a second, then push the new image to the DOM so\n",
       "    // that it is saved nicely (might be nice to debounce this).\n",
       "    setTimeout(function () { fig.push_to_output() }, 1000);\n",
       "}\n",
       "\n",
       "mpl.figure.prototype._init_toolbar = function() {\n",
       "    var fig = this;\n",
       "\n",
       "    var nav_element = $('<div/>')\n",
       "    nav_element.attr('style', 'width: 100%');\n",
       "    this.root.append(nav_element);\n",
       "\n",
       "    // Define a callback function for later on.\n",
       "    function toolbar_event(event) {\n",
       "        return fig.toolbar_button_onclick(event['data']);\n",
       "    }\n",
       "    function toolbar_mouse_event(event) {\n",
       "        return fig.toolbar_button_onmouseover(event['data']);\n",
       "    }\n",
       "\n",
       "    for(var toolbar_ind in mpl.toolbar_items){\n",
       "        var name = mpl.toolbar_items[toolbar_ind][0];\n",
       "        var tooltip = mpl.toolbar_items[toolbar_ind][1];\n",
       "        var image = mpl.toolbar_items[toolbar_ind][2];\n",
       "        var method_name = mpl.toolbar_items[toolbar_ind][3];\n",
       "\n",
       "        if (!name) { continue; };\n",
       "\n",
       "        var button = $('<button class=\"btn btn-default\" href=\"#\" title=\"' + name + '\"><i class=\"fa ' + image + ' fa-lg\"></i></button>');\n",
       "        button.click(method_name, toolbar_event);\n",
       "        button.mouseover(tooltip, toolbar_mouse_event);\n",
       "        nav_element.append(button);\n",
       "    }\n",
       "\n",
       "    // Add the status bar.\n",
       "    var status_bar = $('<span class=\"mpl-message\" style=\"text-align:right; float: right;\"/>');\n",
       "    nav_element.append(status_bar);\n",
       "    this.message = status_bar[0];\n",
       "\n",
       "    // Add the close button to the window.\n",
       "    var buttongrp = $('<div class=\"btn-group inline pull-right\"></div>');\n",
       "    var button = $('<button class=\"btn btn-mini btn-primary\" href=\"#\" title=\"Stop Interaction\"><i class=\"fa fa-power-off icon-remove icon-large\"></i></button>');\n",
       "    button.click(function (evt) { fig.handle_close(fig, {}); } );\n",
       "    button.mouseover('Stop Interaction', toolbar_mouse_event);\n",
       "    buttongrp.append(button);\n",
       "    var titlebar = this.root.find($('.ui-dialog-titlebar'));\n",
       "    titlebar.prepend(buttongrp);\n",
       "}\n",
       "\n",
       "mpl.figure.prototype._root_extra_style = function(el){\n",
       "    var fig = this\n",
       "    el.on(\"remove\", function(){\n",
       "\tfig.close_ws(fig, {});\n",
       "    });\n",
       "}\n",
       "\n",
       "mpl.figure.prototype._canvas_extra_style = function(el){\n",
       "    // this is important to make the div 'focusable\n",
       "    el.attr('tabindex', 0)\n",
       "    // reach out to IPython and tell the keyboard manager to turn it's self\n",
       "    // off when our div gets focus\n",
       "\n",
       "    // location in version 3\n",
       "    if (IPython.notebook.keyboard_manager) {\n",
       "        IPython.notebook.keyboard_manager.register_events(el);\n",
       "    }\n",
       "    else {\n",
       "        // location in version 2\n",
       "        IPython.keyboard_manager.register_events(el);\n",
       "    }\n",
       "\n",
       "}\n",
       "\n",
       "mpl.figure.prototype._key_event_extra = function(event, name) {\n",
       "    var manager = IPython.notebook.keyboard_manager;\n",
       "    if (!manager)\n",
       "        manager = IPython.keyboard_manager;\n",
       "\n",
       "    // Check for shift+enter\n",
       "    if (event.shiftKey && event.which == 13) {\n",
       "        this.canvas_div.blur();\n",
       "        event.shiftKey = false;\n",
       "        // Send a \"J\" for go to next cell\n",
       "        event.which = 74;\n",
       "        event.keyCode = 74;\n",
       "        manager.command_mode();\n",
       "        manager.handle_keydown(event);\n",
       "    }\n",
       "}\n",
       "\n",
       "mpl.figure.prototype.handle_save = function(fig, msg) {\n",
       "    fig.ondownload(fig, null);\n",
       "}\n",
       "\n",
       "\n",
       "mpl.find_output_cell = function(html_output) {\n",
       "    // Return the cell and output element which can be found *uniquely* in the notebook.\n",
       "    // Note - this is a bit hacky, but it is done because the \"notebook_saving.Notebook\"\n",
       "    // IPython event is triggered only after the cells have been serialised, which for\n",
       "    // our purposes (turning an active figure into a static one), is too late.\n",
       "    var cells = IPython.notebook.get_cells();\n",
       "    var ncells = cells.length;\n",
       "    for (var i=0; i<ncells; i++) {\n",
       "        var cell = cells[i];\n",
       "        if (cell.cell_type === 'code'){\n",
       "            for (var j=0; j<cell.output_area.outputs.length; j++) {\n",
       "                var data = cell.output_area.outputs[j];\n",
       "                if (data.data) {\n",
       "                    // IPython >= 3 moved mimebundle to data attribute of output\n",
       "                    data = data.data;\n",
       "                }\n",
       "                if (data['text/html'] == html_output) {\n",
       "                    return [cell, data, j];\n",
       "                }\n",
       "            }\n",
       "        }\n",
       "    }\n",
       "}\n",
       "\n",
       "// Register the function which deals with the matplotlib target/channel.\n",
       "// The kernel may be null if the page has been refreshed.\n",
       "if (IPython.notebook.kernel != null) {\n",
       "    IPython.notebook.kernel.comm_manager.register_target('matplotlib', mpl.mpl_figure_comm);\n",
       "}\n"
      ],
      "text/plain": [
       "<IPython.core.display.Javascript object>"
      ]
     },
     "metadata": {},
     "output_type": "display_data"
    },
    {
     "data": {
      "text/html": [
       "<img src=\"data:image/png;base64,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\" width=\"432\">"
      ],
      "text/plain": [
       "<IPython.core.display.HTML object>"
      ]
     },
     "metadata": {},
     "output_type": "display_data"
    }
   ],
   "source": [
    "sol2=np.array(sol2)\n",
    "fig, ax = plt.subplots()\n",
    "ax = plt.axes(xlim=(-1.5,1.5), ylim=(-2,1))\n",
    "ax.plot((-1.5,1.5),(0,0))\n",
    "linea, =ax.plot([0,l*np.sin(sol2[0,0])],[0,-l*np.cos(sol2[0,0])])\n",
    "pendulo,=ax.plot([l*np.sin(sol2[0,0])],[-l*np.cos(sol2[0,0])],'o',markersize=12)\n",
    "def animate4(i):\n",
    "    pendulo.set_data([0,l*np.sin(sol2[i,0])],[0,-l*np.cos(sol2[i,0])])\n",
    "    return pendulo,\n",
    "def animate5(i):\n",
    "    linea.set_data([0,l*np.sin(sol2[i,0])],[0,-l*np.cos(sol2[i,0])])\n",
    "    return linea,\n",
    "\n",
    "anim = animation.FuncAnimation(fig,animate4,200,interval=100)\n",
    "anim2= animation.FuncAnimation(fig,animate5,200,interval=100)\n",
    "plt.show()"
   ]
  },
  {
   "cell_type": "markdown",
   "metadata": {},
   "source": [
    "# Con plotly"
   ]
  },
  {
   "cell_type": "code",
   "execution_count": 25,
   "metadata": {},
   "outputs": [
    {
     "data": {
      "text/html": [
       "<script>requirejs.config({paths: { 'plotly': ['https://cdn.plot.ly/plotly-latest.min']},});if(!window.Plotly) {{require(['plotly'],function(plotly) {window.Plotly=plotly;});}}</script>"
      ],
      "text/vnd.plotly.v1+html": [
       "<script>requirejs.config({paths: { 'plotly': ['https://cdn.plot.ly/plotly-latest.min']},});if(!window.Plotly) {{require(['plotly'],function(plotly) {window.Plotly=plotly;});}}</script>"
      ]
     },
     "metadata": {},
     "output_type": "display_data"
    }
   ],
   "source": [
    "import plotly as py\n",
    "import plotly.graph_objs as go\n",
    "\n",
    "py.offline.init_notebook_mode(connected=True)"
   ]
  },
  {
   "cell_type": "code",
   "execution_count": 50,
   "metadata": {},
   "outputs": [
    {
     "data": {
      "application/vnd.plotly.v1+json": {
       "data": [
        {
         "mode": "lines+markers",
         "type": "scatter",
         "uid": "ffb7525c-c918-11e8-83a9-e839354c1137",
         "x": [
          0,
          1
         ],
         "y": [
          0,
          -6.123233995736766e-17
         ]
        }
       ],
       "frames": [
        {
         "data": [
          {
           "mode": "lines+markers",
           "type": "scatter",
           "x": [
            0,
            1
           ],
           "y": [
            0,
            -6.123233995736766e-17
           ]
          }
         ]
        },
        {
         "data": [
          {
           "mode": "lines+markers",
           "type": "scatter",
           "x": [
            0,
            0.9927464277625779
           ],
           "y": [
            0,
            0.12022699432590278
           ]
          }
         ]
        },
        {
         "data": [
          {
           "mode": "lines+markers",
           "type": "scatter",
           "x": [
            0,
            0.997201792327956
           ],
           "y": [
            0,
            0.07475684167962254
           ]
          }
         ]
        },
        {
         "data": [
          {
           "mode": "lines+markers",
           "type": "scatter",
           "x": [
            0,
            0.9912234293365576
           ],
           "y": [
            0,
            -0.13219725085747602
           ]
          }
         ]
        },
        {
         "data": [
          {
           "mode": "lines+markers",
           "type": "scatter",
           "x": [
            0,
            0.8863778821086113
           ],
           "y": [
            0,
            -0.46296247159856563
           ]
          }
         ]
        },
        {
         "data": [
          {
           "mode": "lines+markers",
           "type": "scatter",
           "x": [
            0,
            0.592088592321732
           ],
           "y": [
            0,
            -0.8058728800762995
           ]
          }
         ]
        },
        {
         "data": [
          {
           "mode": "lines+markers",
           "type": "scatter",
           "x": [
            0,
            0.11530689162019225
           ],
           "y": [
            0,
            -0.9933299153578781
           ]
          }
         ]
        },
        {
         "data": [
          {
           "mode": "lines+markers",
           "type": "scatter",
           "x": [
            0,
            -0.4021620143850649
           ],
           "y": [
            0,
            -0.9155685196563645
           ]
          }
         ]
        },
        {
         "data": [
          {
           "mode": "lines+markers",
           "type": "scatter",
           "x": [
            0,
            -0.7849683765667995
           ],
           "y": [
            0,
            -0.6195358325311646
           ]
          }
         ]
        },
        {
         "data": [
          {
           "mode": "lines+markers",
           "type": "scatter",
           "x": [
            0,
            -0.9642789336857033
           ],
           "y": [
            0,
            -0.2648889164347257
           ]
          }
         ]
        },
        {
         "data": [
          {
           "mode": "lines+markers",
           "type": "scatter",
           "x": [
            0,
            -0.999992187082936
           ],
           "y": [
            0,
            0.003952944862537561
           ]
          }
         ]
        },
        {
         "data": [
          {
           "mode": "lines+markers",
           "type": "scatter",
           "x": [
            0,
            -0.9926594944396734
           ],
           "y": [
            0,
            0.1209426645099736
           ]
          }
         ]
        },
        {
         "data": [
          {
           "mode": "lines+markers",
           "type": "scatter",
           "x": [
            0,
            -0.9973914854036097
           ],
           "y": [
            0,
            0.07218188723205415
           ]
          }
         ]
        },
        {
         "data": [
          {
           "mode": "lines+markers",
           "type": "scatter",
           "x": [
            0,
            -0.9904633055345208
           ],
           "y": [
            0,
            -0.1377767773960131
           ]
          }
         ]
        },
        {
         "data": [
          {
           "mode": "lines+markers",
           "type": "scatter",
           "x": [
            0,
            -0.8825862295507594
           ],
           "y": [
            0,
            -0.4701505582336092
           ]
          }
         ]
        },
        {
         "data": [
          {
           "mode": "lines+markers",
           "type": "scatter",
           "x": [
            0,
            -0.584143284605627
           ],
           "y": [
            0,
            -0.8116505547648873
           ]
          }
         ]
        },
        {
         "data": [
          {
           "mode": "lines+markers",
           "type": "scatter",
           "x": [
            0,
            -0.10481542633562599
           ],
           "y": [
            0,
            -0.9944916924751463
           ]
          }
         ]
        },
        {
         "data": [
          {
           "mode": "lines+markers",
           "type": "scatter",
           "x": [
            0,
            0.411525277393837
           ],
           "y": [
            0,
            -0.9113983465345576
           ]
          }
         ]
        },
        {
         "data": [
          {
           "mode": "lines+markers",
           "type": "scatter",
           "x": [
            0,
            0.7904737751962372
           ],
           "y": [
            0,
            -0.6124958862939479
           ]
          }
         ]
        },
        {
         "data": [
          {
           "mode": "lines+markers",
           "type": "scatter",
           "x": [
            0,
            0.966043878430522
           ],
           "y": [
            0,
            -0.2583780659168169
           ]
          }
         ]
        },
        {
         "data": [
          {
           "mode": "lines+markers",
           "type": "scatter",
           "x": [
            0,
            0.9999692308340923
           ],
           "y": [
            0,
            0.007844576793805222
           ]
          }
         ]
        },
        {
         "data": [
          {
           "mode": "lines+markers",
           "type": "scatter",
           "x": [
            0,
            0.9925800493299343
           ],
           "y": [
            0,
            0.12159295075038393
           ]
          }
         ]
        },
        {
         "data": [
          {
           "mode": "lines+markers",
           "type": "scatter",
           "x": [
            0,
            0.9975789755952533
           ],
           "y": [
            0,
            0.06954270235132547
           ]
          }
         ]
        },
        {
         "data": [
          {
           "mode": "lines+markers",
           "type": "scatter",
           "x": [
            0,
            0.9896637881562361
           ],
           "y": [
            0,
            -0.14340706541955503
           ]
          }
         ]
        },
        {
         "data": [
          {
           "mode": "lines+markers",
           "type": "scatter",
           "x": [
            0,
            0.8787162282596045
           ],
           "y": [
            0,
            -0.47734451939161787
           ]
          }
         ]
        },
        {
         "data": [
          {
           "mode": "lines+markers",
           "type": "scatter",
           "x": [
            0,
            0.5761217949774194
           ],
           "y": [
            0,
            -0.8173638586039856
           ]
          }
         ]
        },
        {
         "data": [
          {
           "mode": "lines+markers",
           "type": "scatter",
           "x": [
            0,
            0.09430822809803999
           ],
           "y": [
            0,
            -0.9955430468407722
           ]
          }
         ]
        },
        {
         "data": [
          {
           "mode": "lines+markers",
           "type": "scatter",
           "x": [
            0,
            -0.42083038025498953
           ],
           "y": [
            0,
            -0.9071393448938486
           ]
          }
         ]
        },
        {
         "data": [
          {
           "mode": "lines+markers",
           "type": "scatter",
           "x": [
            0,
            -0.7958945856639296
           ],
           "y": [
            0,
            -0.6054352223903412
           ]
          }
         ]
        },
        {
         "data": [
          {
           "mode": "lines+markers",
           "type": "scatter",
           "x": [
            0,
            -0.9677520367522854
           ],
           "y": [
            0,
            -0.2519047346950892
           ]
          }
         ]
        },
        {
         "data": [
          {
           "mode": "lines+markers",
           "type": "scatter",
           "x": [
            0,
            -0.9999318483403393
           ],
           "y": [
            0,
            0.011674702337644827
           ]
          }
         ]
        },
        {
         "data": [
          {
           "mode": "lines+markers",
           "type": "scatter",
           "x": [
            0,
            -0.9925082250213328
           ],
           "y": [
            0,
            0.12217783458959902
           ]
          }
         ]
        },
        {
         "data": [
          {
           "mode": "lines+markers",
           "type": "scatter",
           "x": [
            0,
            -0.9977637506564293
           ],
           "y": [
            0,
            0.06683934377307112
           ]
          }
         ]
        },
        {
         "data": [
          {
           "mode": "lines+markers",
           "type": "scatter",
           "x": [
            0,
            -0.98882398481936
           ],
           "y": [
            0,
            -0.14908764887126694
           ]
          }
         ]
        },
        {
         "data": [
          {
           "mode": "lines+markers",
           "type": "scatter",
           "x": [
            0,
            -0.8747673288606623
           ],
           "y": [
            0,
            -0.4845432079371063
           ]
          }
         ]
        },
        {
         "data": [
          {
           "mode": "lines+markers",
           "type": "scatter",
           "x": [
            0,
            -0.5680247304848739
           ],
           "y": [
            0,
            -0.8230114856778041
           ]
          }
         ]
        },
        {
         "data": [
          {
           "mode": "lines+markers",
           "type": "scatter",
           "x": [
            0,
            -0.08378683482708868
           ],
           "y": [
            0,
            -0.9964837009754139
           ]
          }
         ]
        },
        {
         "data": [
          {
           "mode": "lines+markers",
           "type": "scatter",
           "x": [
            0,
            0.43007613754871066
           ],
           "y": [
            0,
            -0.9027926206561407
           ]
          }
         ]
        },
        {
         "data": [
          {
           "mode": "lines+markers",
           "type": "scatter",
           "x": [
            0,
            0.8012308908531605
           ],
           "y": [
            0,
            -0.5983552954078796
           ]
          }
         ]
        },
        {
         "data": [
          {
           "mode": "lines+markers",
           "type": "scatter",
           "x": [
            0,
            0.9694042438374456
           ],
           "y": [
            0,
            -0.24546977824153884
           ]
          }
         ]
        },
        {
         "data": [
          {
           "mode": "lines+markers",
           "type": "scatter",
           "x": [
            0,
            0.9998807489317988
           ],
           "y": [
            0,
            0.015443053959146896
           ]
          }
         ]
        },
        {
         "data": [
          {
           "mode": "lines+markers",
           "type": "scatter",
           "x": [
            0,
            0.992444147808153
           ],
           "y": [
            0,
            0.12269724316931063
           ]
          }
         ]
        },
        {
         "data": [
          {
           "mode": "lines+markers",
           "type": "scatter",
           "x": [
            0,
            0.9979452880546741
           ],
           "y": [
            0,
            0.06407185067932437
           ]
          }
         ]
        },
        {
         "data": [
          {
           "mode": "lines+markers",
           "type": "scatter",
           "x": [
            0,
            0.9879430102570617
           ],
           "y": [
            0,
            -0.15481798501535696
           ]
          }
         ]
        },
        {
         "data": [
          {
           "mode": "lines+markers",
           "type": "scatter",
           "x": [
            0,
            0.8707390611093384
           ],
           "y": [
            0,
            -0.49174534818178794
           ]
          }
         ]
        },
        {
         "data": [
          {
           "mode": "lines+markers",
           "type": "scatter",
           "x": [
            0,
            0.55985280717589
           ],
           "y": [
            0,
            -0.828592079552584
           ]
          }
         ]
        },
        {
         "data": [
          {
           "mode": "lines+markers",
           "type": "scatter",
           "x": [
            0,
            0.07325282706631497
           ],
           "y": [
            0,
            -0.9973134027610341
           ]
          }
         ]
        },
        {
         "data": [
          {
           "mode": "lines+markers",
           "type": "scatter",
           "x": [
            0,
            -0.43926143275817614
           ],
           "y": [
            0,
            -0.8983592787360936
           ]
          }
         ]
        },
        {
         "data": [
          {
           "mode": "lines+markers",
           "type": "scatter",
           "x": [
            0,
            -0.8064828057028837
           ],
           "y": [
            0,
            -0.591257544650049
           ]
          }
         ]
        },
        {
         "data": [
          {
           "mode": "lines+markers",
           "type": "scatter",
           "x": [
            0,
            -0.9710013412298196
           ],
           "y": [
            0,
            -0.2390740373396729
           ]
          }
         ]
        },
        {
         "data": [
          {
           "mode": "lines+markers",
           "type": "scatter",
           "x": [
            0,
            -0.9998166334454158
           ],
           "y": [
            0,
            0.019149399099582767
           ]
          }
         ]
        },
        {
         "data": [
          {
           "mode": "lines+markers",
           "type": "scatter",
           "x": [
            0,
            -0.9923879248315555
           ],
           "y": [
            0,
            0.1231511536629646
           ]
          }
         ]
        },
        {
         "data": [
          {
           "mode": "lines+markers",
           "type": "scatter",
           "x": [
            0,
            -0.9981230489727275
           ],
           "y": [
            0,
            0.06124033890652614
           ]
          }
         ]
        },
        {
         "data": [
          {
           "mode": "lines+markers",
           "type": "scatter",
           "x": [
            0,
            -0.987019984874955
           ],
           "y": [
            0,
            -0.1605974764977447
           ]
          }
         ]
        },
        {
         "data": [
          {
           "mode": "lines+markers",
           "type": "scatter",
           "x": [
            0,
            -0.8666310113509512
           ],
           "y": [
            0,
            -0.49894958679693024
           ]
          }
         ]
        },
        {
         "data": [
          {
           "mode": "lines+markers",
           "type": "scatter",
           "x": [
            0,
            -0.5516068183071935
           ],
           "y": [
            0,
            -0.834104260867318
           ]
          }
         ]
        },
        {
         "data": [
          {
           "mode": "lines+markers",
           "type": "scatter",
           "x": [
            0,
            -0.06270782078519128
           ],
           "y": [
            0,
            -0.9980319279523939
           ]
          }
         ]
        },
        {
         "data": [
          {
           "mode": "lines+markers",
           "type": "scatter",
           "x": [
            0,
            0.448385215188035
           ],
           "y": [
            0,
            -0.8938404213285387
           ]
          }
         ]
        },
        {
         "data": [
          {
           "mode": "lines+markers",
           "type": "scatter",
           "x": [
            0,
            0.8116505147384345
           ],
           "y": [
            0,
            -0.5841433402212459
           ]
          }
         ]
        },
        {
         "data": [
          {
           "mode": "lines+markers",
           "type": "scatter",
           "x": [
            0,
            0.9725442114087683
           ],
           "y": [
            0,
            -0.23271819193027649
           ]
          }
         ]
        },
        {
         "data": [
          {
           "mode": "lines+markers",
           "type": "scatter",
           "x": [
            0,
            0.9997401904077238
           ],
           "y": [
            0,
            0.022793676393425943
           ]
          }
         ]
        },
        {
         "data": [
          {
           "mode": "lines+markers",
           "type": "scatter",
           "x": [
            0,
            0.9923396353842614
           ],
           "y": [
            0,
            0.12353966183145813
           ]
          }
         ]
        },
        {
         "data": [
          {
           "mode": "lines+markers",
           "type": "scatter",
           "x": [
            0,
            0.9982964816194628
           ],
           "y": [
            0,
            0.05834496367469533
           ]
          }
         ]
        },
        {
         "data": [
          {
           "mode": "lines+markers",
           "type": "scatter",
           "x": [
            0,
            0.9860540242315139
           ],
           "y": [
            0,
            -0.16642554280168986
           ]
          }
         ]
        },
        {
         "data": [
          {
           "mode": "lines+markers",
           "type": "scatter",
           "x": [
            0,
            0.8624426989353551
           ],
           "y": [
            0,
            -0.506154710590646
           ]
          }
         ]
        },
        {
         "data": [
          {
           "mode": "lines+markers",
           "type": "scatter",
           "x": [
            0,
            0.5432874691412057
           ],
           "y": [
            0,
            -0.8395467383500119
           ]
          }
         ]
        },
        {
         "data": [
          {
           "mode": "lines+markers",
           "type": "scatter",
           "x": [
            0,
            0.052153374464248704
           ],
           "y": [
            0,
            -0.9986390867235229
           ]
          }
         ]
        },
        {
         "data": [
          {
           "mode": "lines+markers",
           "type": "scatter",
           "x": [
            0,
            -0.4574464474840151
           ],
           "y": [
            0,
            -0.8892371717850386
           ]
          }
         ]
        },
        {
         "data": [
          {
           "mode": "lines+markers",
           "type": "scatter",
           "x": [
            0,
            -0.8167342448549259
           ],
           "y": [
            0,
            -0.5770140148048867
           ]
          }
         ]
        },
        {
         "data": [
          {
           "mode": "lines+markers",
           "type": "scatter",
           "x": [
            0,
            -0.9740337158250056
           ],
           "y": [
            0,
            -0.2264030044768225
           ]
          }
         ]
        },
        {
         "data": [
          {
           "mode": "lines+markers",
           "type": "scatter",
           "x": [
            0,
            -0.9996521018939566
           ],
           "y": [
            0,
            0.026375655043895507
           ]
          }
         ]
        },
        {
         "data": [
          {
           "mode": "lines+markers",
           "type": "scatter",
           "x": [
            0,
            -0.9922993667879558
           ],
           "y": [
            0,
            0.12386269281838579
           ]
          }
         ]
        },
        {
         "data": [
          {
           "mode": "lines+markers",
           "type": "scatter",
           "x": [
            0,
            -0.9984650300416464
           ],
           "y": [
            0,
            0.055385772396293984
           ]
          }
         ]
        },
        {
         "data": [
          {
           "mode": "lines+markers",
           "type": "scatter",
           "x": [
            0,
            -0.9850442364099247
           ],
           "y": [
            0,
            -0.17230163178446242
           ]
          }
         ]
        },
        {
         "data": [
          {
           "mode": "lines+markers",
           "type": "scatter",
           "x": [
            0,
            -0.8581736846482634
           ],
           "y": [
            0,
            -0.5133594520189757
           ]
          }
         ]
        },
        {
         "data": [
          {
           "mode": "lines+markers",
           "type": "scatter",
           "x": [
            0,
            -0.5348954853274864
           ],
           "y": [
            0,
            -0.8449182325978489
           ]
          }
         ]
        },
        {
         "data": [
          {
           "mode": "lines+markers",
           "type": "scatter",
           "x": [
            0,
            -0.0415910347336466
           ],
           "y": [
            0,
            -0.9991347185589061
           ]
          }
         ]
        },
        {
         "data": [
          {
           "mode": "lines+markers",
           "type": "scatter",
           "x": [
            0,
            0.46644405545890877
           ],
           "y": [
            0,
            -0.8845507012755381
           ]
          }
         ]
        },
        {
         "data": [
          {
           "mode": "lines+markers",
           "type": "scatter",
           "x": [
            0,
            0.8217341229280158
           ],
           "y": [
            0,
            -0.5698710654312293
           ]
          }
         ]
        },
        {
         "data": [
          {
           "mode": "lines+markers",
           "type": "scatter",
           "x": [
            0,
            0.975470701387337
           ],
           "y": [
            0,
            -0.22012930458005084
           ]
          }
         ]
        },
        {
         "data": [
          {
           "mode": "lines+markers",
           "type": "scatter",
           "x": [
            0,
            0.9995530413684821
           ],
           "y": [
            0,
            0.029895108145270036
           ]
          }
         ]
        },
        {
         "data": [
          {
           "mode": "lines+markers",
           "type": "scatter",
           "x": [
            0,
            0.9922671880653818
           ],
           "y": [
            0,
            0.12412021386067659
           ]
          }
         ]
        },
        {
         "data": [
          {
           "mode": "lines+markers",
           "type": "scatter",
           "x": [
            0,
            0.9986281239475908
           ],
           "y": [
            0,
            0.05236286910507549
           ]
          }
         ]
        },
        {
         "data": [
          {
           "mode": "lines+markers",
           "type": "scatter",
           "x": [
            0,
            0.9839897399113614
           ],
           "y": [
            0,
            -0.1782251153714628
           ]
          }
         ]
        },
        {
         "data": [
          {
           "mode": "lines+markers",
           "type": "scatter",
           "x": [
            0,
            0.8538236062906747
           ],
           "y": [
            0,
            -0.520562435583655
           ]
          }
         ]
        },
        {
         "data": [
          {
           "mode": "lines+markers",
           "type": "scatter",
           "x": [
            0,
            0.5264317882784103
           ],
           "y": [
            0,
            -0.8502173676713474
           ]
          }
         ]
        },
        {
         "data": [
          {
           "mode": "lines+markers",
           "type": "scatter",
           "x": [
            0,
            0.031022447970923628
           ],
           "y": [
            0,
            -0.9995186880303396
           ]
          }
         ]
        },
        {
         "data": [
          {
           "mode": "lines+markers",
           "type": "scatter",
           "x": [
            0,
            -0.4753770680211623
           ],
           "y": [
            0,
            -0.8797821566726636
           ]
          }
         ]
        },
        {
         "data": [
          {
           "mode": "lines+markers",
           "type": "scatter",
           "x": [
            0,
            -0.8266504445444837
           ],
           "y": [
            0,
            -0.5627157742008015
           ]
          }
         ]
        },
        {
         "data": [
          {
           "mode": "lines+markers",
           "type": "scatter",
           "x": [
            0,
            -0.9768560664836747
           ],
           "y": [
            0,
            -0.21389769838416306
           ]
          }
         ]
        },
        {
         "data": [
          {
           "mode": "lines+markers",
           "type": "scatter",
           "x": [
            0,
            -0.9994436666918703
           ],
           "y": [
            0,
            0.033352018072517545
           ]
          }
         ]
        },
        {
         "data": [
          {
           "mode": "lines+markers",
           "type": "scatter",
           "x": [
            0,
            -0.9922431350619346
           ],
           "y": [
            0,
            0.12431235225215258
           ]
          }
         ]
        },
        {
         "data": [
          {
           "mode": "lines+markers",
           "type": "scatter",
           "x": [
            0,
            -0.9987851769826076
           ],
           "y": [
            0,
            0.049276467404038404
           ]
          }
         ]
        },
        {
         "data": [
          {
           "mode": "lines+markers",
           "type": "scatter",
           "x": [
            0,
            -0.9828896573647999
           ],
           "y": [
            0,
            -0.1841953350259069
           ]
          }
         ]
        },
        {
         "data": [
          {
           "mode": "lines+markers",
           "type": "scatter",
           "x": [
            0,
            -0.8493920536542863
           ],
           "y": [
            0,
            -0.527762388948809
           ]
          }
         ]
        },
        {
         "data": [
          {
           "mode": "lines+markers",
           "type": "scatter",
           "x": [
            0,
            -0.5178971264467889
           ],
           "y": [
            0,
            -0.8554429065800703
           ]
          }
         ]
        },
        {
         "data": [
          {
           "mode": "lines+markers",
           "type": "scatter",
           "x": [
            0,
            -0.020449196884489932
           ],
           "y": [
            0,
            -0.9997908933105859
           ]
          }
         ]
        },
        {
         "data": [
          {
           "mode": "lines+markers",
           "type": "scatter",
           "x": [
            0,
            0.48424442523359484
           ],
           "y": [
            0,
            -0.874932761205217
           ]
          }
         ]
        },
        {
         "data": [
          {
           "mode": "lines+markers",
           "type": "scatter",
           "x": [
            0,
            0.8314834053416063
           ],
           "y": [
            0,
            -0.5555495897231193
           ]
          }
         ]
        },
        {
         "data": [
          {
           "mode": "lines+markers",
           "type": "scatter",
           "x": [
            0,
            0.9781906647117893
           ],
           "y": [
            0,
            -0.20770898745771185
           ]
          }
         ]
        },
        {
         "data": [
          {
           "mode": "lines+markers",
           "type": "scatter",
           "x": [
            0,
            0.9993246334440806
           ],
           "y": [
            0,
            0.03674611533011136
           ]
          }
         ]
        },
        {
         "data": [
          {
           "mode": "lines+markers",
           "type": "scatter",
           "x": [
            0,
            0.992227260741146
           ],
           "y": [
            0,
            0.12443899325421225
           ]
          }
         ]
        },
        {
         "data": [
          {
           "mode": "lines+markers",
           "type": "scatter",
           "x": [
            0,
            0.9989356021884025
           ],
           "y": [
            0,
            0.046126594069946535
           ]
          }
         ]
        },
        {
         "data": [
          {
           "mode": "lines+markers",
           "type": "scatter",
           "x": [
            0,
            0.9817430968892399
           ],
           "y": [
            0,
            -0.19021170234852652
           ]
          }
         ]
        },
        {
         "data": [
          {
           "mode": "lines+markers",
           "type": "scatter",
           "x": [
            0,
            0.8448786775845492
           ],
           "y": [
            0,
            -0.5349579611174914
           ]
          }
         ]
        },
        {
         "data": [
          {
           "mode": "lines+markers",
           "type": "scatter",
           "x": [
            0,
            0.5092923761832368
           ],
           "y": [
            0,
            -0.86059356002798
           ]
          }
         ]
        },
        {
         "data": [
          {
           "mode": "lines+markers",
           "type": "scatter",
           "x": [
            0,
            0.009872848176055597
           ],
           "y": [
            0,
            -0.999951262246762
           ]
          }
         ]
        },
        {
         "data": [
          {
           "mode": "lines+markers",
           "type": "scatter",
           "x": [
            0,
            -0.4930452588945107
           ],
           "y": [
            0,
            -0.8700036624530065
           ]
          }
         ]
        },
        {
         "data": [
          {
           "mode": "lines+markers",
           "type": "scatter",
           "x": [
            0,
            -0.8362333109841578
           ],
           "y": [
            0,
            -0.5483738228621722
           ]
          }
         ]
        },
        {
         "data": [
          {
           "mode": "lines+markers",
           "type": "scatter",
           "x": [
            0,
            -0.9794753812753589
           ],
           "y": [
            0,
            -0.20156382977977547
           ]
          }
         ]
        },
        {
         "data": [
          {
           "mode": "lines+markers",
           "type": "scatter",
           "x": [
            0,
            -0.9991965822483283
           ],
           "y": [
            0,
            0.040077300598464385
           ]
          }
         ]
        },
        {
         "data": [
          {
           "mode": "lines+markers",
           "type": "scatter",
           "x": [
            0,
            -0.9922195865497804
           ],
           "y": [
            0,
            0.12450016894359195
           ]
          }
         ]
        },
        {
         "data": [
          {
           "mode": "lines+markers",
           "type": "scatter",
           "x": [
            0,
            -0.999078796353672
           ],
           "y": [
            0,
            0.04291338574964643
           ]
          }
         ]
        },
        {
         "data": [
          {
           "mode": "lines+markers",
           "type": "scatter",
           "x": [
            0,
            -0.9805491677462553
           ],
           "y": [
            0,
            -0.19627360910760755
           ]
          }
         ]
        },
        {
         "data": [
          {
           "mode": "lines+markers",
           "type": "scatter",
           "x": [
            0,
            -0.8402830828252904
           ],
           "y": [
            0,
            -0.5421478956130202
           ]
          }
         ]
        },
        {
         "data": [
          {
           "mode": "lines+markers",
           "type": "scatter",
           "x": [
            0,
            -0.5006183742502176
           ],
           "y": [
            0,
            -0.8656680907617359
           ]
          }
         ]
        },
        {
         "data": [
          {
           "mode": "lines+markers",
           "type": "scatter",
           "x": [
            0,
            0.0007050106308419078
           ],
           "y": [
            0,
            -0.9999997514799743
           ]
          }
         ]
        },
        {
         "data": [
          {
           "mode": "lines+markers",
           "type": "scatter",
           "x": [
            0,
            0.5017785555034404
           ],
           "y": [
            0,
            -0.8649961163131779
           ]
          }
         ]
        },
        {
         "data": [
          {
           "mode": "lines+markers",
           "type": "scatter",
           "x": [
            0,
            0.8409004287554965
           ],
           "y": [
            0,
            -0.5411898640207724
           ]
          }
         ]
        },
        {
         "data": [
          {
           "mode": "lines+markers",
           "type": "scatter",
           "x": [
            0,
            0.9807110875972953
           ],
           "y": [
            0,
            -0.19546294447728482
           ]
          }
         ]
        },
        {
         "data": [
          {
           "mode": "lines+markers",
           "type": "scatter",
           "x": [
            0,
            0.9990601469801466
           ],
           "y": [
            0,
            0.043345388636023496
           ]
          }
         ]
        },
        {
         "data": [
          {
           "mode": "lines+markers",
           "type": "scatter",
           "x": [
            0,
            0.9922201294243865
           ],
           "y": [
            0,
            0.12449584236051243
           ]
          }
         ]
        },
        {
         "data": [
          {
           "mode": "lines+markers",
           "type": "scatter",
           "x": [
            0,
            0.9992141472189265
           ],
           "y": [
            0,
            0.03963695242514876
           ]
          }
         ]
        },
        {
         "data": [
          {
           "mode": "lines+markers",
           "type": "scatter",
           "x": [
            0,
            0.9793069908493897
           ],
           "y": [
            0,
            -0.20238037867716702
           ]
          }
         ]
        },
        {
         "data": [
          {
           "mode": "lines+markers",
           "type": "scatter",
           "x": [
            0,
            0.8356049644922157
           ],
           "y": [
            0,
            -0.549330814096536
           ]
          }
         ]
        },
        {
         "data": [
          {
           "mode": "lines+markers",
           "type": "scatter",
           "x": [
            0,
            0.4918760149367773
           ],
           "y": [
            0,
            -0.8706652548080205
           ]
          }
         ]
        },
        {
         "data": [
          {
           "mode": "lines+markers",
           "type": "scatter",
           "x": [
            0,
            -0.011282791625526385
           ],
           "y": [
            0,
            -0.9999363472807331
           ]
          }
         ]
        },
        {
         "data": [
          {
           "mode": "lines+markers",
           "type": "scatter",
           "x": [
            0,
            -0.5104434318982488
           ],
           "y": [
            0,
            -0.8599113342850749
           ]
          }
         ]
        },
        {
         "data": [
          {
           "mode": "lines+markers",
           "type": "scatter",
           "x": [
            0,
            -0.8454850809666987
           ],
           "y": [
            0,
            -0.5339990429417779
           ]
          }
         ]
        },
        {
         "data": [
          {
           "mode": "lines+markers",
           "type": "scatter",
           "x": [
            0,
            -0.9818986660247911
           ],
           "y": [
            0,
            -0.18940699474606448
           ]
          }
         ]
        },
        {
         "data": [
          {
           "mode": "lines+markers",
           "type": "scatter",
           "x": [
            0,
            -0.9989159499071357
           ],
           "y": [
            0,
            0.04655024190189284
           ]
          }
         ]
        },
        {
         "data": [
          {
           "mode": "lines+markers",
           "type": "scatter",
           "x": [
            0,
            -0.9922288884059829
           ],
           "y": [
            0,
            0.12442601421177014
           ]
          }
         ]
        },
        {
         "data": [
          {
           "mode": "lines+markers",
           "type": "scatter",
           "x": [
            0,
            -0.9993410310640177
           ],
           "y": [
            0,
            0.03629743285558873
           ]
          }
         ]
        },
        {
         "data": [
          {
           "mode": "lines+markers",
           "type": "scatter",
           "x": [
            0,
            -0.9780156832654906
           ],
           "y": [
            0,
            -0.20853134845086377
           ]
          }
         ]
        },
        {
         "data": [
          {
           "mode": "lines+markers",
           "type": "scatter",
           "x": [
            0,
            -0.8308440095481662
           ],
           "y": [
            0,
            -0.5565053744555634
           ]
          }
         ]
        },
        {
         "data": [
          {
           "mode": "lines+markers",
           "type": "scatter",
           "x": [
            0,
            -0.483066269285482
           ],
           "y": [
            0,
            -0.8755837935221312
           ]
          }
         ]
        },
        {
         "data": [
          {
           "mode": "lines+markers",
           "type": "scatter",
           "x": [
            0,
            0.02185882435613417
           ],
           "y": [
            0,
            -0.9997610673544793
           ]
          }
         ]
        },
        {
         "data": [
          {
           "mode": "lines+markers",
           "type": "scatter",
           "x": [
            0,
            0.5190389035172821
           ],
           "y": [
            0,
            -0.854750616633634
           ]
          }
         ]
        },
        {
         "data": [
          {
           "mode": "lines+markers",
           "type": "scatter",
           "x": [
            0,
            0.8499875574806726
           ],
           "y": [
            0,
            -0.5268027639715269
           ]
          }
         ]
        },
        {
         "data": [
          {
           "mode": "lines+markers",
           "type": "scatter",
           "x": [
            0,
            0.9830389908405396
           ],
           "y": [
            0,
            -0.18339668068755643
           ]
          }
         ]
        },
        {
         "data": [
          {
           "mode": "lines+markers",
           "type": "scatter",
           "x": [
            0,
            0.9987646027080116
           ],
           "y": [
            0,
            0.049691733492682605
           ]
          }
         ]
        },
        {
         "data": [
          {
           "mode": "lines+markers",
           "type": "scatter",
           "x": [
            0,
            0.9922458435831399
           ],
           "y": [
            0,
            0.12429073131968806
           ]
          }
         ]
        },
        {
         "data": [
          {
           "mode": "lines+markers",
           "type": "scatter",
           "x": [
            0,
            0.9994588112498585
           ],
           "y": [
            0,
            0.032895054567820034
           ]
          }
         ]
        },
        {
         "data": [
          {
           "mode": "lines+markers",
           "type": "scatter",
           "x": [
            0,
            0.9766743916245048
           ],
           "y": [
            0,
            -0.21472571514586591
           ]
          }
         ]
        },
        {
         "data": [
          {
           "mode": "lines+markers",
           "type": "scatter",
           "x": [
            0,
            0.8260000007662287
           ],
           "y": [
            0,
            -0.5636701151686065
           ]
          }
         ]
        },
        {
         "data": [
          {
           "mode": "lines+markers",
           "type": "scatter",
           "x": [
            0,
            0.47419012437687935
           ],
           "y": [
            0,
            -0.8804224701490981
           ]
          }
         ]
        },
        {
         "data": [
          {
           "mode": "lines+markers",
           "type": "scatter",
           "x": [
            0,
            -0.03243155073426641
           ],
           "y": [
            0,
            -0.9994739588988653
           ]
          }
         ]
        },
        {
         "data": [
          {
           "mode": "lines+markers",
           "type": "scatter",
           "x": [
            0,
            -0.5275641829115403
           ],
           "y": [
            0,
            -0.8495151752081177
           ]
          }
         ]
        },
        {
         "data": [
          {
           "mode": "lines+markers",
           "type": "scatter",
           "x": [
            0,
            -0.8544082387988158
           ],
           "y": [
            0,
            -0.5196023108808369
           ]
          }
         ]
        },
        {
         "data": [
          {
           "mode": "lines+markers",
           "type": "scatter",
           "x": [
            0,
            -0.9841329582302786
           ],
           "y": [
            0,
            -0.17743258022392833
           ]
          }
         ]
        },
        {
         "data": [
          {
           "mode": "lines+markers",
           "type": "scatter",
           "x": [
            0,
            -0.99860670435358
           ],
           "y": [
            0,
            0.05276978321048575
           ]
          }
         ]
        },
        {
         "data": [
          {
           "mode": "lines+markers",
           "type": "scatter",
           "x": [
            0,
            -0.9922709685731371
           ],
           "y": [
            0,
            0.12408998721463543
           ]
          }
         ]
        },
        {
         "data": [
          {
           "mode": "lines+markers",
           "type": "scatter",
           "x": [
            0,
            -0.999566846820843
           ],
           "y": [
            0,
            0.02942989528757272
           ]
          }
         ]
        },
        {
         "data": [
          {
           "mode": "lines+markers",
           "type": "scatter",
           "x": [
            0,
            -0.9752822131533676
           ],
           "y": [
            0,
            -0.220962903462706
           ]
          }
         ]
        },
        {
         "data": [
          {
           "mode": "lines+markers",
           "type": "scatter",
           "x": [
            0,
            -0.8210725895803073
           ],
           "y": [
            0,
            -0.5708237929868449
           ]
          }
         ]
        },
        {
         "data": [
          {
           "mode": "lines+markers",
           "type": "scatter",
           "x": [
            0,
            -0.4652484853209462
           ],
           "y": [
            0,
            -0.8851801211654977
           ]
          }
         ]
        },
        {
         "data": [
          {
           "mode": "lines+markers",
           "type": "scatter",
           "x": [
            0,
            0.042999381251547536
           ],
           "y": [
            0,
            -0.9990750988849557
           ]
          }
         ]
        },
        {
         "data": [
          {
           "mode": "lines+markers",
           "type": "scatter",
           "x": [
            0,
            0.5360184048112347
           ],
           "y": [
            0,
            -0.8442062957024303
           ]
          }
         ]
        },
        {
         "data": [
          {
           "mode": "lines+markers",
           "type": "scatter",
           "x": [
            0,
            0.8587475249609368
           ],
           "y": [
            0,
            -0.5123989543055932
           ]
          }
         ]
        },
        {
         "data": [
          {
           "mode": "lines+markers",
           "type": "scatter",
           "x": [
            0,
            0.9851814512486773
           ],
           "y": [
            0,
            -0.17151532909786849
           ]
          }
         ]
        },
        {
         "data": [
          {
           "mode": "lines+markers",
           "type": "scatter",
           "x": [
            0,
            0.9984428467814181
           ],
           "y": [
            0,
            0.055784242497478945
           ]
          }
         ]
        },
        {
         "data": [
          {
           "mode": "lines+markers",
           "type": "scatter",
           "x": [
            0,
            0.9923042241300822
           ],
           "y": [
            0,
            0.12382377305507866
           ]
          }
         ]
        },
        {
         "data": [
          {
           "mode": "lines+markers",
           "type": "scatter",
           "x": [
            0,
            0.9996644831984912
           ],
           "y": [
            0,
            0.02590214337643652
           ]
          }
         ]
        },
        {
         "data": [
          {
           "mode": "lines+markers",
           "type": "scatter",
           "x": [
            0,
            0.9738382907950139
           ],
           "y": [
            0,
            -0.22724212501524838
           ]
          }
         ]
        },
        {
         "data": [
          {
           "mode": "lines+markers",
           "type": "scatter",
           "x": [
            0,
            0.8160615708827957
           ],
           "y": [
            0,
            -0.5779649751743645
           ]
          }
         ]
        },
        {
         "data": [
          {
           "mode": "lines+markers",
           "type": "scatter",
           "x": [
            0,
            0.4562423597157859
           ],
           "y": [
            0,
            -0.8898555552453282
           ]
          }
         ]
        },
        {
         "data": [
          {
           "mode": "lines+markers",
           "type": "scatter",
           "x": [
            0,
            -0.053560732082639936
           ],
           "y": [
            0,
            -0.9985645937938976
           ]
          }
         ]
        },
        {
         "data": [
          {
           "mode": "lines+markers",
           "type": "scatter",
           "x": [
            0,
            -0.5444007116110612
           ],
           "y": [
            0,
            -0.838825288839917
           ]
          }
         ]
        },
        {
         "data": [
          {
           "mode": "lines+markers",
           "type": "scatter",
           "x": [
            0,
            -0.8630057477858968
           ],
           "y": [
            0,
            -0.5051941006073856
           ]
          }
         ]
        },
        {
         "data": [
          {
           "mode": "lines+markers",
           "type": "scatter",
           "x": [
            0,
            -0.9861853497406703
           ],
           "y": [
            0,
            -0.1656455733090136
           ]
          }
         ]
        },
        {
         "data": [
          {
           "mode": "lines+markers",
           "type": "scatter",
           "x": [
            0,
            -0.9982736100811733
           ],
           "y": [
            0,
            0.05873499310889139
           ]
          }
         ]
        },
        {
         "data": [
          {
           "mode": "lines+markers",
           "type": "scatter",
           "x": [
            0,
            -0.99234555707623
           ],
           "y": [
            0,
            0.12349208618801011
           ]
          }
         ]
        },
        {
         "data": [
          {
           "mode": "lines+markers",
           "type": "scatter",
           "x": [
            0,
            -0.9997510579299531
           ],
           "y": [
            0,
            0.022311928826068268
           ]
          }
         ]
        },
        {
         "data": [
          {
           "mode": "lines+markers",
           "type": "scatter",
           "x": [
            0,
            -0.9723417425412935
           ],
           "y": [
            0,
            -0.23356270188487085
           ]
          }
         ]
        },
        {
         "data": [
          {
           "mode": "lines+markers",
           "type": "scatter",
           "x": [
            0,
            -0.8109667083937573
           ],
           "y": [
            0,
            -0.5850922985965502
           ]
          }
         ]
        },
        {
         "data": [
          {
           "mode": "lines+markers",
           "type": "scatter",
           "x": [
            0,
            -0.4471727707269636
           ],
           "y": [
            0,
            -0.8944476022218241
           ]
          }
         ]
        },
        {
         "data": [
          {
           "mode": "lines+markers",
           "type": "scatter",
           "x": [
            0,
            0.06411402697531722
           ],
           "y": [
            0,
            -0.9979425792824997
           ]
          }
         ]
        },
        {
         "data": [
          {
           "mode": "lines+markers",
           "type": "scatter",
           "x": [
            0,
            0.5527103794448227
           ],
           "y": [
            0,
            -0.8333734075754757
           ]
          }
         ]
        },
        {
         "data": [
          {
           "mode": "lines+markers",
           "type": "scatter",
           "x": [
            0,
            0.8671833757529563
           ],
           "y": [
            0,
            -0.4979889484895291
           ]
          }
         ]
        },
        {
         "data": [
          {
           "mode": "lines+markers",
           "type": "scatter",
           "x": [
            0,
            0.9871455455463393
           ],
           "y": [
            0,
            -0.1598238777780724
           ]
          }
         ]
        },
        {
         "data": [
          {
           "mode": "lines+markers",
           "type": "scatter",
           "x": [
            0,
            0.9980995627015369
           ],
           "y": [
            0,
            0.06162193550190485
           ]
          }
         ]
        },
        {
         "data": [
          {
           "mode": "lines+markers",
           "type": "scatter",
           "x": [
            0,
            0.9923949013715221
           ],
           "y": [
            0,
            0.1230949216328889
           ]
          }
         ]
        },
        {
         "data": [
          {
           "mode": "lines+markers",
           "type": "scatter",
           "x": [
            0,
            0.9998258981852532
           ],
           "y": [
            0,
            0.018659402939312023
           ]
          }
         ]
        },
        {
         "data": [
          {
           "mode": "lines+markers",
           "type": "scatter",
           "x": [
            0,
            0.9707916952080374
           ],
           "y": [
            0,
            -0.23992391401255708
           ]
          }
         ]
        },
        {
         "data": [
          {
           "mode": "lines+markers",
           "type": "scatter",
           "x": [
            0,
            0.8057877567133306
           ],
           "y": [
            0,
            -0.5922044335623454
           ]
          }
         ]
        },
        {
         "data": [
          {
           "mode": "lines+markers",
           "type": "scatter",
           "x": [
            0,
            0.4380406784962939
           ],
           "y": [
            0,
            -0.8989551512631242
           ]
          }
         ]
        },
        {
         "data": [
          {
           "mode": "lines+markers",
           "type": "scatter",
           "x": [
            0,
            -0.07465772827201138
           ],
           "y": [
            0,
            -0.9972092175713492
           ]
          }
         ]
        },
        {
         "data": [
          {
           "mode": "lines+markers",
           "type": "scatter",
           "x": [
            0,
            -0.5609466091995249
           ],
           "y": [
            0,
            -0.8278519805059088
           ]
          }
         ]
        },
        {
         "data": [
          {
           "mode": "lines+markers",
           "type": "scatter",
           "x": [
            0,
            -0.871280808458896
           ],
           "y": [
            0,
            -0.4907848335179202
           ]
          }
         ]
        },
        {
         "data": [
          {
           "mode": "lines+markers",
           "type": "scatter",
           "x": [
            0,
            -0.9880629221741255
           ],
           "y": [
            0,
            -0.154050841687827
           ]
          }
         ]
        },
        {
         "data": [
          {
           "mode": "lines+markers",
           "type": "scatter",
           "x": [
            0,
            -0.9979212636916573
           ],
           "y": [
            0,
            0.06444494915853195
           ]
          }
         ]
        },
        {
         "data": [
          {
           "mode": "lines+markers",
           "type": "scatter",
           "x": [
            0,
            -0.9924521770570216
           ],
           "y": [
            0,
            0.12263228063922724
           ]
          }
         ]
        },
        {
         "data": [
          {
           "mode": "lines+markers",
           "type": "scatter",
           "x": [
            0,
            -0.9998883208564856
           ],
           "y": [
            0,
            0.01494475877348285
           ]
          }
         ]
        },
        {
         "data": [
          {
           "mode": "lines+markers",
           "type": "scatter",
           "x": [
            0,
            -0.9691872947919146
           ],
           "y": [
            0,
            -0.24632496344043253
           ]
          }
         ]
        },
        {
         "data": [
          {
           "mode": "lines+markers",
           "type": "scatter",
           "x": [
            0,
            -0.8005245783386984
           ],
           "y": [
            0,
            -0.5992999244749235
           ]
          }
         ]
        },
        {
         "data": [
          {
           "mode": "lines+markers",
           "type": "scatter",
           "x": [
            0,
            -0.4288472276389982
           ],
           "y": [
            0,
            -0.9033770283477134
           ]
          }
         ]
        },
        {
         "data": [
          {
           "mode": "lines+markers",
           "type": "scatter",
           "x": [
            0,
            0.08519015074047685
           ],
           "y": [
            0,
            -0.9963647114469756
           ]
          }
         ]
        },
        {
         "data": [
          {
           "mode": "lines+markers",
           "type": "scatter",
           "x": [
            0,
            0.5691085871809537
           ],
           "y": [
            0,
            -0.8222623766152133
           ]
          }
         ]
        },
        {
         "data": [
          {
           "mode": "lines+markers",
           "type": "scatter",
           "x": [
            0,
            0.8752984683096597
           ],
           "y": [
            0,
            -0.48358307598050165
           ]
          }
         ]
        },
        {
         "data": [
          {
           "mode": "lines+markers",
           "type": "scatter",
           "x": [
            0,
            0.9889383601591114
           ],
           "y": [
            0,
            -0.14832707037424964
           ]
          }
         ]
        }
       ],
       "layout": {
        "updatemenus": [
         {
          "buttons": [
           {
            "args": [
             null,
             {
              "frame": {
               "duration": 100,
               "redraw": true
              },
              "fromcurrent": true,
              "transition": {
               "duration": 0,
               "easing": "bounce"
              }
             }
            ],
            "label": "Play",
            "method": "animate"
           },
           {
            "args": [
             [
              null
             ],
             {
              "frame": {
               "duration": 0,
               "redraw": false
              },
              "mode": "immediate",
              "transition": {
               "duration": 0
              }
             }
            ],
            "label": "Pause",
            "method": "animate"
           }
          ],
          "type": "buttons"
         }
        ],
        "xaxis": {
         "autorange": false,
         "range": [
          -1,
          1
         ]
        },
        "yaxis": {
         "autorange": false,
         "range": [
          -1,
          1
         ]
        }
       }
      },
      "text/html": [
       "<div id=\"57693a84-3102-4fc8-9e6a-e94d0f37ded3\" style=\"height: 525px; width: 100%;\" class=\"plotly-graph-div\"></div><script type=\"text/javascript\">require([\"plotly\"], function(Plotly) { window.PLOTLYENV=window.PLOTLYENV || {};window.PLOTLYENV.BASE_URL=\"https://plot.ly\";\n",
       "        Plotly.plot(\n",
       "            '57693a84-3102-4fc8-9e6a-e94d0f37ded3',\n",
       "            [{\"mode\": \"lines+markers\", \"x\": [0, 1.0], \"y\": [0, -6.123233995736766e-17], \"type\": \"scatter\", \"uid\": \"02b70bdc-c919-11e8-b816-e839354c1137\"}],\n",
       "            {\"updatemenus\": [{\"buttons\": [{\"args\": [null, {\"frame\": {\"duration\": 100, \"redraw\": true}, \"fromcurrent\": true, \"transition\": {\"duration\": 0, \"easing\": \"bounce\"}}], \"label\": \"Play\", \"method\": \"animate\"}, {\"args\": [[null], {\"frame\": {\"duration\": 0, \"redraw\": false}, \"mode\": \"immediate\", \"transition\": {\"duration\": 0}}], \"label\": \"Pause\", \"method\": \"animate\"}], \"type\": \"buttons\"}], \"xaxis\": {\"autorange\": false, \"range\": [-1, 1]}, \"yaxis\": {\"autorange\": false, \"range\": [-1, 1]}},\n",
       "            {\"showLink\": true, \"linkText\": \"Export to plot.ly\"}\n",
       "        ).then(function () {return Plotly.addFrames('57693a84-3102-4fc8-9e6a-e94d0f37ded3',[{\"data\": [{\"mode\": \"lines+markers\", \"x\": [0, 1.0], \"y\": [0, -6.123233995736766e-17], \"type\": \"scatter\"}]}, {\"data\": [{\"mode\": \"lines+markers\", \"x\": [0, 0.9927464277625779], \"y\": [0, 0.12022699432590278], \"type\": \"scatter\"}]}, {\"data\": [{\"mode\": \"lines+markers\", \"x\": [0, 0.997201792327956], \"y\": [0, 0.07475684167962254], \"type\": \"scatter\"}]}, {\"data\": [{\"mode\": \"lines+markers\", \"x\": [0, 0.9912234293365576], \"y\": [0, -0.13219725085747602], \"type\": \"scatter\"}]}, {\"data\": [{\"mode\": \"lines+markers\", \"x\": [0, 0.8863778821086113], \"y\": [0, -0.46296247159856563], \"type\": \"scatter\"}]}, {\"data\": [{\"mode\": \"lines+markers\", \"x\": [0, 0.592088592321732], \"y\": [0, -0.8058728800762995], \"type\": \"scatter\"}]}, {\"data\": [{\"mode\": \"lines+markers\", \"x\": [0, 0.11530689162019225], \"y\": [0, -0.9933299153578781], \"type\": \"scatter\"}]}, {\"data\": [{\"mode\": \"lines+markers\", \"x\": [0, -0.4021620143850649], \"y\": [0, -0.9155685196563645], \"type\": \"scatter\"}]}, {\"data\": [{\"mode\": \"lines+markers\", \"x\": [0, -0.7849683765667995], \"y\": [0, -0.6195358325311646], \"type\": \"scatter\"}]}, {\"data\": [{\"mode\": \"lines+markers\", \"x\": [0, -0.9642789336857033], \"y\": [0, -0.2648889164347257], \"type\": \"scatter\"}]}, {\"data\": [{\"mode\": \"lines+markers\", \"x\": [0, -0.999992187082936], \"y\": [0, 0.003952944862537561], \"type\": \"scatter\"}]}, {\"data\": [{\"mode\": \"lines+markers\", \"x\": [0, -0.9926594944396734], \"y\": [0, 0.1209426645099736], \"type\": \"scatter\"}]}, {\"data\": [{\"mode\": \"lines+markers\", \"x\": [0, -0.9973914854036097], \"y\": [0, 0.07218188723205415], \"type\": \"scatter\"}]}, {\"data\": [{\"mode\": \"lines+markers\", \"x\": [0, -0.9904633055345208], \"y\": [0, -0.1377767773960131], \"type\": \"scatter\"}]}, {\"data\": [{\"mode\": \"lines+markers\", \"x\": [0, -0.8825862295507594], \"y\": [0, -0.4701505582336092], \"type\": \"scatter\"}]}, {\"data\": [{\"mode\": \"lines+markers\", \"x\": [0, -0.584143284605627], \"y\": [0, -0.8116505547648873], \"type\": \"scatter\"}]}, {\"data\": [{\"mode\": \"lines+markers\", \"x\": [0, -0.10481542633562599], \"y\": [0, -0.9944916924751463], \"type\": \"scatter\"}]}, {\"data\": [{\"mode\": \"lines+markers\", \"x\": [0, 0.411525277393837], \"y\": [0, -0.9113983465345576], \"type\": \"scatter\"}]}, {\"data\": [{\"mode\": \"lines+markers\", \"x\": [0, 0.7904737751962372], \"y\": [0, -0.6124958862939479], \"type\": \"scatter\"}]}, {\"data\": [{\"mode\": \"lines+markers\", \"x\": [0, 0.966043878430522], \"y\": [0, -0.2583780659168169], \"type\": \"scatter\"}]}, {\"data\": [{\"mode\": \"lines+markers\", \"x\": [0, 0.9999692308340923], \"y\": [0, 0.007844576793805222], \"type\": \"scatter\"}]}, {\"data\": [{\"mode\": \"lines+markers\", \"x\": [0, 0.9925800493299343], \"y\": [0, 0.12159295075038393], \"type\": \"scatter\"}]}, {\"data\": [{\"mode\": \"lines+markers\", \"x\": [0, 0.9975789755952533], \"y\": [0, 0.06954270235132547], \"type\": \"scatter\"}]}, {\"data\": [{\"mode\": \"lines+markers\", \"x\": [0, 0.9896637881562361], \"y\": [0, -0.14340706541955503], \"type\": \"scatter\"}]}, {\"data\": [{\"mode\": \"lines+markers\", \"x\": [0, 0.8787162282596045], \"y\": [0, -0.47734451939161787], \"type\": \"scatter\"}]}, {\"data\": [{\"mode\": \"lines+markers\", \"x\": [0, 0.5761217949774194], \"y\": [0, -0.8173638586039856], \"type\": \"scatter\"}]}, {\"data\": [{\"mode\": \"lines+markers\", \"x\": [0, 0.09430822809803999], \"y\": [0, -0.9955430468407722], \"type\": \"scatter\"}]}, {\"data\": [{\"mode\": \"lines+markers\", \"x\": [0, -0.42083038025498953], \"y\": [0, -0.9071393448938486], \"type\": \"scatter\"}]}, {\"data\": [{\"mode\": \"lines+markers\", \"x\": [0, -0.7958945856639296], \"y\": [0, -0.6054352223903412], \"type\": \"scatter\"}]}, {\"data\": [{\"mode\": \"lines+markers\", \"x\": [0, -0.9677520367522854], \"y\": [0, -0.2519047346950892], \"type\": \"scatter\"}]}, {\"data\": [{\"mode\": \"lines+markers\", \"x\": [0, -0.9999318483403393], \"y\": [0, 0.011674702337644827], \"type\": \"scatter\"}]}, {\"data\": [{\"mode\": \"lines+markers\", \"x\": [0, -0.9925082250213328], \"y\": [0, 0.12217783458959902], \"type\": \"scatter\"}]}, {\"data\": [{\"mode\": \"lines+markers\", \"x\": [0, -0.9977637506564293], \"y\": [0, 0.06683934377307112], \"type\": \"scatter\"}]}, {\"data\": [{\"mode\": \"lines+markers\", \"x\": [0, -0.98882398481936], \"y\": [0, -0.14908764887126694], \"type\": \"scatter\"}]}, {\"data\": [{\"mode\": \"lines+markers\", \"x\": [0, -0.8747673288606623], \"y\": [0, -0.4845432079371063], \"type\": \"scatter\"}]}, {\"data\": [{\"mode\": \"lines+markers\", \"x\": [0, -0.5680247304848739], \"y\": [0, -0.8230114856778041], \"type\": \"scatter\"}]}, {\"data\": [{\"mode\": \"lines+markers\", \"x\": [0, -0.08378683482708868], \"y\": [0, -0.9964837009754139], \"type\": \"scatter\"}]}, {\"data\": [{\"mode\": \"lines+markers\", \"x\": [0, 0.43007613754871066], \"y\": [0, -0.9027926206561407], \"type\": \"scatter\"}]}, {\"data\": [{\"mode\": \"lines+markers\", \"x\": [0, 0.8012308908531605], \"y\": [0, -0.5983552954078796], \"type\": \"scatter\"}]}, {\"data\": [{\"mode\": \"lines+markers\", \"x\": [0, 0.9694042438374456], \"y\": [0, -0.24546977824153884], \"type\": \"scatter\"}]}, {\"data\": [{\"mode\": \"lines+markers\", \"x\": [0, 0.9998807489317988], \"y\": [0, 0.015443053959146896], \"type\": \"scatter\"}]}, {\"data\": [{\"mode\": \"lines+markers\", \"x\": [0, 0.992444147808153], \"y\": [0, 0.12269724316931063], \"type\": \"scatter\"}]}, {\"data\": [{\"mode\": \"lines+markers\", \"x\": [0, 0.9979452880546741], \"y\": [0, 0.06407185067932437], \"type\": \"scatter\"}]}, {\"data\": [{\"mode\": \"lines+markers\", \"x\": [0, 0.9879430102570617], \"y\": [0, -0.15481798501535696], \"type\": \"scatter\"}]}, {\"data\": [{\"mode\": \"lines+markers\", \"x\": [0, 0.8707390611093384], \"y\": [0, -0.49174534818178794], \"type\": \"scatter\"}]}, {\"data\": [{\"mode\": \"lines+markers\", \"x\": [0, 0.55985280717589], \"y\": [0, -0.828592079552584], \"type\": \"scatter\"}]}, {\"data\": [{\"mode\": \"lines+markers\", \"x\": [0, 0.07325282706631497], \"y\": [0, -0.9973134027610341], \"type\": \"scatter\"}]}, {\"data\": [{\"mode\": \"lines+markers\", \"x\": [0, -0.43926143275817614], \"y\": [0, -0.8983592787360936], \"type\": \"scatter\"}]}, {\"data\": [{\"mode\": \"lines+markers\", \"x\": [0, -0.8064828057028837], \"y\": [0, -0.591257544650049], \"type\": \"scatter\"}]}, {\"data\": [{\"mode\": \"lines+markers\", \"x\": [0, -0.9710013412298196], \"y\": [0, -0.2390740373396729], \"type\": \"scatter\"}]}, {\"data\": [{\"mode\": \"lines+markers\", \"x\": [0, -0.9998166334454158], \"y\": [0, 0.019149399099582767], \"type\": \"scatter\"}]}, {\"data\": [{\"mode\": \"lines+markers\", \"x\": [0, -0.9923879248315555], \"y\": [0, 0.1231511536629646], \"type\": \"scatter\"}]}, {\"data\": [{\"mode\": \"lines+markers\", \"x\": [0, -0.9981230489727275], \"y\": [0, 0.06124033890652614], \"type\": \"scatter\"}]}, {\"data\": [{\"mode\": \"lines+markers\", \"x\": [0, -0.987019984874955], \"y\": [0, -0.1605974764977447], \"type\": \"scatter\"}]}, {\"data\": [{\"mode\": \"lines+markers\", \"x\": [0, -0.8666310113509512], \"y\": [0, -0.49894958679693024], \"type\": \"scatter\"}]}, {\"data\": [{\"mode\": \"lines+markers\", \"x\": [0, -0.5516068183071935], \"y\": [0, -0.834104260867318], \"type\": \"scatter\"}]}, {\"data\": [{\"mode\": \"lines+markers\", \"x\": [0, -0.06270782078519128], \"y\": [0, -0.9980319279523939], \"type\": \"scatter\"}]}, {\"data\": [{\"mode\": \"lines+markers\", \"x\": [0, 0.448385215188035], \"y\": [0, -0.8938404213285387], \"type\": \"scatter\"}]}, {\"data\": [{\"mode\": \"lines+markers\", \"x\": [0, 0.8116505147384345], \"y\": [0, -0.5841433402212459], \"type\": \"scatter\"}]}, {\"data\": [{\"mode\": \"lines+markers\", \"x\": [0, 0.9725442114087683], \"y\": [0, -0.23271819193027649], \"type\": \"scatter\"}]}, {\"data\": [{\"mode\": \"lines+markers\", \"x\": [0, 0.9997401904077238], \"y\": [0, 0.022793676393425943], \"type\": \"scatter\"}]}, {\"data\": [{\"mode\": \"lines+markers\", \"x\": [0, 0.9923396353842614], \"y\": [0, 0.12353966183145813], \"type\": \"scatter\"}]}, {\"data\": [{\"mode\": \"lines+markers\", \"x\": [0, 0.9982964816194628], \"y\": [0, 0.05834496367469533], \"type\": \"scatter\"}]}, {\"data\": [{\"mode\": \"lines+markers\", \"x\": [0, 0.9860540242315139], \"y\": [0, -0.16642554280168986], \"type\": \"scatter\"}]}, {\"data\": [{\"mode\": \"lines+markers\", \"x\": [0, 0.8624426989353551], \"y\": [0, -0.506154710590646], \"type\": \"scatter\"}]}, {\"data\": [{\"mode\": \"lines+markers\", \"x\": [0, 0.5432874691412057], \"y\": [0, -0.8395467383500119], \"type\": \"scatter\"}]}, {\"data\": [{\"mode\": \"lines+markers\", \"x\": [0, 0.052153374464248704], \"y\": [0, -0.9986390867235229], \"type\": \"scatter\"}]}, {\"data\": [{\"mode\": \"lines+markers\", \"x\": [0, -0.4574464474840151], \"y\": [0, -0.8892371717850386], \"type\": \"scatter\"}]}, {\"data\": [{\"mode\": \"lines+markers\", \"x\": [0, -0.8167342448549259], \"y\": [0, -0.5770140148048867], \"type\": \"scatter\"}]}, {\"data\": [{\"mode\": \"lines+markers\", \"x\": [0, -0.9740337158250056], \"y\": [0, -0.2264030044768225], \"type\": \"scatter\"}]}, {\"data\": [{\"mode\": \"lines+markers\", \"x\": [0, -0.9996521018939566], \"y\": [0, 0.026375655043895507], \"type\": \"scatter\"}]}, {\"data\": [{\"mode\": \"lines+markers\", \"x\": [0, -0.9922993667879558], \"y\": [0, 0.12386269281838579], \"type\": \"scatter\"}]}, {\"data\": [{\"mode\": \"lines+markers\", \"x\": [0, -0.9984650300416464], \"y\": [0, 0.055385772396293984], \"type\": \"scatter\"}]}, {\"data\": [{\"mode\": \"lines+markers\", \"x\": [0, -0.9850442364099247], \"y\": [0, -0.17230163178446242], \"type\": \"scatter\"}]}, {\"data\": [{\"mode\": \"lines+markers\", \"x\": [0, -0.8581736846482634], \"y\": [0, -0.5133594520189757], \"type\": \"scatter\"}]}, {\"data\": [{\"mode\": \"lines+markers\", \"x\": [0, -0.5348954853274864], \"y\": [0, -0.8449182325978489], \"type\": \"scatter\"}]}, {\"data\": [{\"mode\": \"lines+markers\", \"x\": [0, -0.0415910347336466], \"y\": [0, -0.9991347185589061], \"type\": \"scatter\"}]}, {\"data\": [{\"mode\": \"lines+markers\", \"x\": [0, 0.46644405545890877], \"y\": [0, -0.8845507012755381], \"type\": \"scatter\"}]}, {\"data\": [{\"mode\": \"lines+markers\", \"x\": [0, 0.8217341229280158], \"y\": [0, -0.5698710654312293], \"type\": \"scatter\"}]}, {\"data\": [{\"mode\": \"lines+markers\", \"x\": [0, 0.975470701387337], \"y\": [0, -0.22012930458005084], \"type\": \"scatter\"}]}, {\"data\": [{\"mode\": \"lines+markers\", \"x\": [0, 0.9995530413684821], \"y\": [0, 0.029895108145270036], \"type\": \"scatter\"}]}, {\"data\": [{\"mode\": \"lines+markers\", \"x\": [0, 0.9922671880653818], \"y\": [0, 0.12412021386067659], \"type\": \"scatter\"}]}, {\"data\": [{\"mode\": \"lines+markers\", \"x\": [0, 0.9986281239475908], \"y\": [0, 0.05236286910507549], \"type\": \"scatter\"}]}, {\"data\": [{\"mode\": \"lines+markers\", \"x\": [0, 0.9839897399113614], \"y\": [0, -0.1782251153714628], \"type\": \"scatter\"}]}, {\"data\": [{\"mode\": \"lines+markers\", \"x\": [0, 0.8538236062906747], \"y\": [0, -0.520562435583655], \"type\": \"scatter\"}]}, {\"data\": [{\"mode\": \"lines+markers\", \"x\": [0, 0.5264317882784103], \"y\": [0, -0.8502173676713474], \"type\": \"scatter\"}]}, {\"data\": [{\"mode\": \"lines+markers\", \"x\": [0, 0.031022447970923628], \"y\": [0, -0.9995186880303396], \"type\": \"scatter\"}]}, {\"data\": [{\"mode\": \"lines+markers\", \"x\": [0, -0.4753770680211623], \"y\": [0, -0.8797821566726636], \"type\": \"scatter\"}]}, {\"data\": [{\"mode\": \"lines+markers\", \"x\": [0, -0.8266504445444837], \"y\": [0, -0.5627157742008015], \"type\": \"scatter\"}]}, {\"data\": [{\"mode\": \"lines+markers\", \"x\": [0, -0.9768560664836747], \"y\": [0, -0.21389769838416306], \"type\": \"scatter\"}]}, {\"data\": [{\"mode\": \"lines+markers\", \"x\": [0, -0.9994436666918703], \"y\": [0, 0.033352018072517545], \"type\": \"scatter\"}]}, {\"data\": [{\"mode\": \"lines+markers\", \"x\": [0, -0.9922431350619346], \"y\": [0, 0.12431235225215258], \"type\": \"scatter\"}]}, {\"data\": [{\"mode\": \"lines+markers\", \"x\": [0, -0.9987851769826076], \"y\": [0, 0.049276467404038404], \"type\": \"scatter\"}]}, {\"data\": [{\"mode\": \"lines+markers\", \"x\": [0, -0.9828896573647999], \"y\": [0, -0.1841953350259069], \"type\": \"scatter\"}]}, {\"data\": [{\"mode\": \"lines+markers\", \"x\": [0, -0.8493920536542863], \"y\": [0, -0.527762388948809], \"type\": \"scatter\"}]}, {\"data\": [{\"mode\": \"lines+markers\", \"x\": [0, -0.5178971264467889], \"y\": [0, -0.8554429065800703], \"type\": \"scatter\"}]}, {\"data\": [{\"mode\": \"lines+markers\", \"x\": [0, -0.020449196884489932], \"y\": [0, -0.9997908933105859], \"type\": \"scatter\"}]}, {\"data\": [{\"mode\": \"lines+markers\", \"x\": [0, 0.48424442523359484], \"y\": [0, -0.874932761205217], \"type\": \"scatter\"}]}, {\"data\": [{\"mode\": \"lines+markers\", \"x\": [0, 0.8314834053416063], \"y\": [0, -0.5555495897231193], \"type\": \"scatter\"}]}, {\"data\": [{\"mode\": \"lines+markers\", \"x\": [0, 0.9781906647117893], \"y\": [0, -0.20770898745771185], \"type\": \"scatter\"}]}, {\"data\": [{\"mode\": \"lines+markers\", \"x\": [0, 0.9993246334440806], \"y\": [0, 0.03674611533011136], \"type\": \"scatter\"}]}, {\"data\": [{\"mode\": \"lines+markers\", \"x\": [0, 0.992227260741146], \"y\": [0, 0.12443899325421225], \"type\": \"scatter\"}]}, {\"data\": [{\"mode\": \"lines+markers\", \"x\": [0, 0.9989356021884025], \"y\": [0, 0.046126594069946535], \"type\": \"scatter\"}]}, {\"data\": [{\"mode\": \"lines+markers\", \"x\": [0, 0.9817430968892399], \"y\": [0, -0.19021170234852652], \"type\": \"scatter\"}]}, {\"data\": [{\"mode\": \"lines+markers\", \"x\": [0, 0.8448786775845492], \"y\": [0, -0.5349579611174914], \"type\": \"scatter\"}]}, {\"data\": [{\"mode\": \"lines+markers\", \"x\": [0, 0.5092923761832368], \"y\": [0, -0.86059356002798], \"type\": \"scatter\"}]}, {\"data\": [{\"mode\": \"lines+markers\", \"x\": [0, 0.009872848176055597], \"y\": [0, -0.999951262246762], \"type\": \"scatter\"}]}, {\"data\": [{\"mode\": \"lines+markers\", \"x\": [0, -0.4930452588945107], \"y\": [0, -0.8700036624530065], \"type\": \"scatter\"}]}, {\"data\": [{\"mode\": \"lines+markers\", \"x\": [0, -0.8362333109841578], \"y\": [0, -0.5483738228621722], \"type\": \"scatter\"}]}, {\"data\": [{\"mode\": \"lines+markers\", \"x\": [0, -0.9794753812753589], \"y\": [0, -0.20156382977977547], \"type\": \"scatter\"}]}, {\"data\": [{\"mode\": \"lines+markers\", \"x\": [0, -0.9991965822483283], \"y\": [0, 0.040077300598464385], \"type\": \"scatter\"}]}, {\"data\": [{\"mode\": \"lines+markers\", \"x\": [0, -0.9922195865497804], \"y\": [0, 0.12450016894359195], \"type\": \"scatter\"}]}, {\"data\": [{\"mode\": \"lines+markers\", \"x\": [0, -0.999078796353672], \"y\": [0, 0.04291338574964643], \"type\": \"scatter\"}]}, {\"data\": [{\"mode\": \"lines+markers\", \"x\": [0, -0.9805491677462553], \"y\": [0, -0.19627360910760755], \"type\": \"scatter\"}]}, {\"data\": [{\"mode\": \"lines+markers\", \"x\": [0, -0.8402830828252904], \"y\": [0, -0.5421478956130202], \"type\": \"scatter\"}]}, {\"data\": [{\"mode\": \"lines+markers\", \"x\": [0, -0.5006183742502176], \"y\": [0, -0.8656680907617359], \"type\": \"scatter\"}]}, {\"data\": [{\"mode\": \"lines+markers\", \"x\": [0, 0.0007050106308419078], \"y\": [0, -0.9999997514799743], \"type\": \"scatter\"}]}, {\"data\": [{\"mode\": \"lines+markers\", \"x\": [0, 0.5017785555034404], \"y\": [0, -0.8649961163131779], \"type\": \"scatter\"}]}, {\"data\": [{\"mode\": \"lines+markers\", \"x\": [0, 0.8409004287554965], \"y\": [0, -0.5411898640207724], \"type\": \"scatter\"}]}, {\"data\": [{\"mode\": \"lines+markers\", \"x\": [0, 0.9807110875972953], \"y\": [0, -0.19546294447728482], \"type\": \"scatter\"}]}, {\"data\": [{\"mode\": \"lines+markers\", \"x\": [0, 0.9990601469801466], \"y\": [0, 0.043345388636023496], \"type\": \"scatter\"}]}, {\"data\": [{\"mode\": \"lines+markers\", \"x\": [0, 0.9922201294243865], \"y\": [0, 0.12449584236051243], \"type\": \"scatter\"}]}, {\"data\": [{\"mode\": \"lines+markers\", \"x\": [0, 0.9992141472189265], \"y\": [0, 0.03963695242514876], \"type\": \"scatter\"}]}, {\"data\": [{\"mode\": \"lines+markers\", \"x\": [0, 0.9793069908493897], \"y\": [0, -0.20238037867716702], \"type\": \"scatter\"}]}, {\"data\": [{\"mode\": \"lines+markers\", \"x\": [0, 0.8356049644922157], \"y\": [0, -0.549330814096536], \"type\": \"scatter\"}]}, {\"data\": [{\"mode\": \"lines+markers\", \"x\": [0, 0.4918760149367773], \"y\": [0, -0.8706652548080205], \"type\": \"scatter\"}]}, {\"data\": [{\"mode\": \"lines+markers\", \"x\": [0, -0.011282791625526385], \"y\": [0, -0.9999363472807331], \"type\": \"scatter\"}]}, {\"data\": [{\"mode\": \"lines+markers\", \"x\": [0, -0.5104434318982488], \"y\": [0, -0.8599113342850749], \"type\": \"scatter\"}]}, {\"data\": [{\"mode\": \"lines+markers\", \"x\": [0, -0.8454850809666987], \"y\": [0, -0.5339990429417779], \"type\": \"scatter\"}]}, {\"data\": [{\"mode\": \"lines+markers\", \"x\": [0, -0.9818986660247911], \"y\": [0, -0.18940699474606448], \"type\": \"scatter\"}]}, {\"data\": [{\"mode\": \"lines+markers\", \"x\": [0, -0.9989159499071357], \"y\": [0, 0.04655024190189284], \"type\": \"scatter\"}]}, {\"data\": [{\"mode\": \"lines+markers\", \"x\": [0, -0.9922288884059829], \"y\": [0, 0.12442601421177014], \"type\": \"scatter\"}]}, {\"data\": [{\"mode\": \"lines+markers\", \"x\": [0, -0.9993410310640177], \"y\": [0, 0.03629743285558873], \"type\": \"scatter\"}]}, {\"data\": [{\"mode\": \"lines+markers\", \"x\": [0, -0.9780156832654906], \"y\": [0, -0.20853134845086377], \"type\": \"scatter\"}]}, {\"data\": [{\"mode\": \"lines+markers\", \"x\": [0, -0.8308440095481662], \"y\": [0, -0.5565053744555634], \"type\": \"scatter\"}]}, {\"data\": [{\"mode\": \"lines+markers\", \"x\": [0, -0.483066269285482], \"y\": [0, -0.8755837935221312], \"type\": \"scatter\"}]}, {\"data\": [{\"mode\": \"lines+markers\", \"x\": [0, 0.02185882435613417], \"y\": [0, -0.9997610673544793], \"type\": \"scatter\"}]}, {\"data\": [{\"mode\": \"lines+markers\", \"x\": [0, 0.5190389035172821], \"y\": [0, -0.854750616633634], \"type\": \"scatter\"}]}, {\"data\": [{\"mode\": \"lines+markers\", \"x\": [0, 0.8499875574806726], \"y\": [0, -0.5268027639715269], \"type\": \"scatter\"}]}, {\"data\": [{\"mode\": \"lines+markers\", \"x\": [0, 0.9830389908405396], \"y\": [0, -0.18339668068755643], \"type\": \"scatter\"}]}, {\"data\": [{\"mode\": \"lines+markers\", \"x\": [0, 0.9987646027080116], \"y\": [0, 0.049691733492682605], \"type\": \"scatter\"}]}, {\"data\": [{\"mode\": \"lines+markers\", \"x\": [0, 0.9922458435831399], \"y\": [0, 0.12429073131968806], \"type\": \"scatter\"}]}, {\"data\": [{\"mode\": \"lines+markers\", \"x\": [0, 0.9994588112498585], \"y\": [0, 0.032895054567820034], \"type\": \"scatter\"}]}, {\"data\": [{\"mode\": \"lines+markers\", \"x\": [0, 0.9766743916245048], \"y\": [0, -0.21472571514586591], \"type\": \"scatter\"}]}, {\"data\": [{\"mode\": \"lines+markers\", \"x\": [0, 0.8260000007662287], \"y\": [0, -0.5636701151686065], \"type\": \"scatter\"}]}, {\"data\": [{\"mode\": \"lines+markers\", \"x\": [0, 0.47419012437687935], \"y\": [0, -0.8804224701490981], \"type\": \"scatter\"}]}, {\"data\": [{\"mode\": \"lines+markers\", \"x\": [0, -0.03243155073426641], \"y\": [0, -0.9994739588988653], \"type\": \"scatter\"}]}, {\"data\": [{\"mode\": \"lines+markers\", \"x\": [0, -0.5275641829115403], \"y\": [0, -0.8495151752081177], \"type\": \"scatter\"}]}, {\"data\": [{\"mode\": \"lines+markers\", \"x\": [0, -0.8544082387988158], \"y\": [0, -0.5196023108808369], \"type\": \"scatter\"}]}, {\"data\": [{\"mode\": \"lines+markers\", \"x\": [0, -0.9841329582302786], \"y\": [0, -0.17743258022392833], \"type\": \"scatter\"}]}, {\"data\": [{\"mode\": \"lines+markers\", \"x\": [0, -0.99860670435358], \"y\": [0, 0.05276978321048575], \"type\": \"scatter\"}]}, {\"data\": [{\"mode\": \"lines+markers\", \"x\": [0, -0.9922709685731371], \"y\": [0, 0.12408998721463543], \"type\": \"scatter\"}]}, {\"data\": [{\"mode\": \"lines+markers\", \"x\": [0, -0.999566846820843], \"y\": [0, 0.02942989528757272], \"type\": \"scatter\"}]}, {\"data\": [{\"mode\": \"lines+markers\", \"x\": [0, -0.9752822131533676], \"y\": [0, -0.220962903462706], \"type\": \"scatter\"}]}, {\"data\": [{\"mode\": \"lines+markers\", \"x\": [0, -0.8210725895803073], \"y\": [0, -0.5708237929868449], \"type\": \"scatter\"}]}, {\"data\": [{\"mode\": \"lines+markers\", \"x\": [0, -0.4652484853209462], \"y\": [0, -0.8851801211654977], \"type\": \"scatter\"}]}, {\"data\": [{\"mode\": \"lines+markers\", \"x\": [0, 0.042999381251547536], \"y\": [0, -0.9990750988849557], \"type\": \"scatter\"}]}, {\"data\": [{\"mode\": \"lines+markers\", \"x\": [0, 0.5360184048112347], \"y\": [0, -0.8442062957024303], \"type\": \"scatter\"}]}, {\"data\": [{\"mode\": \"lines+markers\", \"x\": [0, 0.8587475249609368], \"y\": [0, -0.5123989543055932], \"type\": \"scatter\"}]}, {\"data\": [{\"mode\": \"lines+markers\", \"x\": [0, 0.9851814512486773], \"y\": [0, -0.17151532909786849], \"type\": \"scatter\"}]}, {\"data\": [{\"mode\": \"lines+markers\", \"x\": [0, 0.9984428467814181], \"y\": [0, 0.055784242497478945], \"type\": \"scatter\"}]}, {\"data\": [{\"mode\": \"lines+markers\", \"x\": [0, 0.9923042241300822], \"y\": [0, 0.12382377305507866], \"type\": \"scatter\"}]}, {\"data\": [{\"mode\": \"lines+markers\", \"x\": [0, 0.9996644831984912], \"y\": [0, 0.02590214337643652], \"type\": \"scatter\"}]}, {\"data\": [{\"mode\": \"lines+markers\", \"x\": [0, 0.9738382907950139], \"y\": [0, -0.22724212501524838], \"type\": \"scatter\"}]}, {\"data\": [{\"mode\": \"lines+markers\", \"x\": [0, 0.8160615708827957], \"y\": [0, -0.5779649751743645], \"type\": \"scatter\"}]}, {\"data\": [{\"mode\": \"lines+markers\", \"x\": [0, 0.4562423597157859], \"y\": [0, -0.8898555552453282], \"type\": \"scatter\"}]}, {\"data\": [{\"mode\": \"lines+markers\", \"x\": [0, -0.053560732082639936], \"y\": [0, -0.9985645937938976], \"type\": \"scatter\"}]}, {\"data\": [{\"mode\": \"lines+markers\", \"x\": [0, -0.5444007116110612], \"y\": [0, -0.838825288839917], \"type\": \"scatter\"}]}, {\"data\": [{\"mode\": \"lines+markers\", \"x\": [0, -0.8630057477858968], \"y\": [0, -0.5051941006073856], \"type\": \"scatter\"}]}, {\"data\": [{\"mode\": \"lines+markers\", \"x\": [0, -0.9861853497406703], \"y\": [0, -0.1656455733090136], \"type\": \"scatter\"}]}, {\"data\": [{\"mode\": \"lines+markers\", \"x\": [0, -0.9982736100811733], \"y\": [0, 0.05873499310889139], \"type\": \"scatter\"}]}, {\"data\": [{\"mode\": \"lines+markers\", \"x\": [0, -0.99234555707623], \"y\": [0, 0.12349208618801011], \"type\": \"scatter\"}]}, {\"data\": [{\"mode\": \"lines+markers\", \"x\": [0, -0.9997510579299531], \"y\": [0, 0.022311928826068268], \"type\": \"scatter\"}]}, {\"data\": [{\"mode\": \"lines+markers\", \"x\": [0, -0.9723417425412935], \"y\": [0, -0.23356270188487085], \"type\": \"scatter\"}]}, {\"data\": [{\"mode\": \"lines+markers\", \"x\": [0, -0.8109667083937573], \"y\": [0, -0.5850922985965502], \"type\": \"scatter\"}]}, {\"data\": [{\"mode\": \"lines+markers\", \"x\": [0, -0.4471727707269636], \"y\": [0, -0.8944476022218241], \"type\": \"scatter\"}]}, {\"data\": [{\"mode\": \"lines+markers\", \"x\": [0, 0.06411402697531722], \"y\": [0, -0.9979425792824997], \"type\": \"scatter\"}]}, {\"data\": [{\"mode\": \"lines+markers\", \"x\": [0, 0.5527103794448227], \"y\": [0, -0.8333734075754757], \"type\": \"scatter\"}]}, {\"data\": [{\"mode\": \"lines+markers\", \"x\": [0, 0.8671833757529563], \"y\": [0, -0.4979889484895291], \"type\": \"scatter\"}]}, {\"data\": [{\"mode\": \"lines+markers\", \"x\": [0, 0.9871455455463393], \"y\": [0, -0.1598238777780724], \"type\": \"scatter\"}]}, {\"data\": [{\"mode\": \"lines+markers\", \"x\": [0, 0.9980995627015369], \"y\": [0, 0.06162193550190485], \"type\": \"scatter\"}]}, {\"data\": [{\"mode\": \"lines+markers\", \"x\": [0, 0.9923949013715221], \"y\": [0, 0.1230949216328889], \"type\": \"scatter\"}]}, {\"data\": [{\"mode\": \"lines+markers\", \"x\": [0, 0.9998258981852532], \"y\": [0, 0.018659402939312023], \"type\": \"scatter\"}]}, {\"data\": [{\"mode\": \"lines+markers\", \"x\": [0, 0.9707916952080374], \"y\": [0, -0.23992391401255708], \"type\": \"scatter\"}]}, {\"data\": [{\"mode\": \"lines+markers\", \"x\": [0, 0.8057877567133306], \"y\": [0, -0.5922044335623454], \"type\": \"scatter\"}]}, {\"data\": [{\"mode\": \"lines+markers\", \"x\": [0, 0.4380406784962939], \"y\": [0, -0.8989551512631242], \"type\": \"scatter\"}]}, {\"data\": [{\"mode\": \"lines+markers\", \"x\": [0, -0.07465772827201138], \"y\": [0, -0.9972092175713492], \"type\": \"scatter\"}]}, {\"data\": [{\"mode\": \"lines+markers\", \"x\": [0, -0.5609466091995249], \"y\": [0, -0.8278519805059088], \"type\": \"scatter\"}]}, {\"data\": [{\"mode\": \"lines+markers\", \"x\": [0, -0.871280808458896], \"y\": [0, -0.4907848335179202], \"type\": \"scatter\"}]}, {\"data\": [{\"mode\": \"lines+markers\", \"x\": [0, -0.9880629221741255], \"y\": [0, -0.154050841687827], \"type\": \"scatter\"}]}, {\"data\": [{\"mode\": \"lines+markers\", \"x\": [0, -0.9979212636916573], \"y\": [0, 0.06444494915853195], \"type\": \"scatter\"}]}, {\"data\": [{\"mode\": \"lines+markers\", \"x\": [0, -0.9924521770570216], \"y\": [0, 0.12263228063922724], \"type\": \"scatter\"}]}, {\"data\": [{\"mode\": \"lines+markers\", \"x\": [0, -0.9998883208564856], \"y\": [0, 0.01494475877348285], \"type\": \"scatter\"}]}, {\"data\": [{\"mode\": \"lines+markers\", \"x\": [0, -0.9691872947919146], \"y\": [0, -0.24632496344043253], \"type\": \"scatter\"}]}, {\"data\": [{\"mode\": \"lines+markers\", \"x\": [0, -0.8005245783386984], \"y\": [0, -0.5992999244749235], \"type\": \"scatter\"}]}, {\"data\": [{\"mode\": \"lines+markers\", \"x\": [0, -0.4288472276389982], \"y\": [0, -0.9033770283477134], \"type\": \"scatter\"}]}, {\"data\": [{\"mode\": \"lines+markers\", \"x\": [0, 0.08519015074047685], \"y\": [0, -0.9963647114469756], \"type\": \"scatter\"}]}, {\"data\": [{\"mode\": \"lines+markers\", \"x\": [0, 0.5691085871809537], \"y\": [0, -0.8222623766152133], \"type\": \"scatter\"}]}, {\"data\": [{\"mode\": \"lines+markers\", \"x\": [0, 0.8752984683096597], \"y\": [0, -0.48358307598050165], \"type\": \"scatter\"}]}, {\"data\": [{\"mode\": \"lines+markers\", \"x\": [0, 0.9889383601591114], \"y\": [0, -0.14832707037424964], \"type\": \"scatter\"}]}]);}).then(function(){Plotly.animate('57693a84-3102-4fc8-9e6a-e94d0f37ded3');})\n",
       "        });</script>"
      ],
      "text/vnd.plotly.v1+html": [
       "<div id=\"57693a84-3102-4fc8-9e6a-e94d0f37ded3\" style=\"height: 525px; width: 100%;\" class=\"plotly-graph-div\"></div><script type=\"text/javascript\">require([\"plotly\"], function(Plotly) { window.PLOTLYENV=window.PLOTLYENV || {};window.PLOTLYENV.BASE_URL=\"https://plot.ly\";\n",
       "        Plotly.plot(\n",
       "            '57693a84-3102-4fc8-9e6a-e94d0f37ded3',\n",
       "            [{\"mode\": \"lines+markers\", \"x\": [0, 1.0], \"y\": [0, -6.123233995736766e-17], \"type\": \"scatter\", \"uid\": \"02b70bdc-c919-11e8-b816-e839354c1137\"}],\n",
       "            {\"updatemenus\": [{\"buttons\": [{\"args\": [null, {\"frame\": {\"duration\": 100, \"redraw\": true}, \"fromcurrent\": true, \"transition\": {\"duration\": 0, \"easing\": \"bounce\"}}], \"label\": \"Play\", \"method\": \"animate\"}, {\"args\": [[null], {\"frame\": {\"duration\": 0, \"redraw\": false}, \"mode\": \"immediate\", \"transition\": {\"duration\": 0}}], \"label\": \"Pause\", \"method\": \"animate\"}], \"type\": \"buttons\"}], \"xaxis\": {\"autorange\": false, \"range\": [-1, 1]}, \"yaxis\": {\"autorange\": false, \"range\": [-1, 1]}},\n",
       "            {\"showLink\": true, \"linkText\": \"Export to plot.ly\"}\n",
       "        ).then(function () {return Plotly.addFrames('57693a84-3102-4fc8-9e6a-e94d0f37ded3',[{\"data\": [{\"mode\": \"lines+markers\", \"x\": [0, 1.0], \"y\": [0, -6.123233995736766e-17], \"type\": \"scatter\"}]}, {\"data\": [{\"mode\": \"lines+markers\", \"x\": [0, 0.9927464277625779], \"y\": [0, 0.12022699432590278], \"type\": \"scatter\"}]}, {\"data\": [{\"mode\": \"lines+markers\", \"x\": [0, 0.997201792327956], \"y\": [0, 0.07475684167962254], \"type\": \"scatter\"}]}, {\"data\": [{\"mode\": \"lines+markers\", \"x\": [0, 0.9912234293365576], \"y\": [0, -0.13219725085747602], \"type\": \"scatter\"}]}, {\"data\": [{\"mode\": \"lines+markers\", \"x\": [0, 0.8863778821086113], \"y\": [0, -0.46296247159856563], \"type\": \"scatter\"}]}, {\"data\": [{\"mode\": \"lines+markers\", \"x\": [0, 0.592088592321732], \"y\": [0, -0.8058728800762995], \"type\": \"scatter\"}]}, {\"data\": [{\"mode\": \"lines+markers\", \"x\": [0, 0.11530689162019225], \"y\": [0, -0.9933299153578781], \"type\": \"scatter\"}]}, {\"data\": [{\"mode\": \"lines+markers\", \"x\": [0, -0.4021620143850649], \"y\": [0, -0.9155685196563645], \"type\": \"scatter\"}]}, {\"data\": [{\"mode\": \"lines+markers\", \"x\": [0, -0.7849683765667995], \"y\": [0, -0.6195358325311646], \"type\": \"scatter\"}]}, {\"data\": [{\"mode\": \"lines+markers\", \"x\": [0, -0.9642789336857033], \"y\": [0, -0.2648889164347257], \"type\": \"scatter\"}]}, {\"data\": [{\"mode\": \"lines+markers\", \"x\": [0, -0.999992187082936], \"y\": [0, 0.003952944862537561], \"type\": \"scatter\"}]}, {\"data\": [{\"mode\": \"lines+markers\", \"x\": [0, -0.9926594944396734], \"y\": [0, 0.1209426645099736], \"type\": \"scatter\"}]}, {\"data\": [{\"mode\": \"lines+markers\", \"x\": [0, -0.9973914854036097], \"y\": [0, 0.07218188723205415], \"type\": \"scatter\"}]}, {\"data\": [{\"mode\": \"lines+markers\", \"x\": [0, -0.9904633055345208], \"y\": [0, -0.1377767773960131], \"type\": \"scatter\"}]}, {\"data\": [{\"mode\": \"lines+markers\", \"x\": [0, -0.8825862295507594], \"y\": [0, -0.4701505582336092], \"type\": \"scatter\"}]}, {\"data\": [{\"mode\": \"lines+markers\", \"x\": [0, -0.584143284605627], \"y\": [0, -0.8116505547648873], \"type\": \"scatter\"}]}, {\"data\": [{\"mode\": \"lines+markers\", \"x\": [0, -0.10481542633562599], \"y\": [0, -0.9944916924751463], \"type\": \"scatter\"}]}, {\"data\": [{\"mode\": \"lines+markers\", \"x\": [0, 0.411525277393837], \"y\": [0, -0.9113983465345576], \"type\": \"scatter\"}]}, {\"data\": [{\"mode\": \"lines+markers\", \"x\": [0, 0.7904737751962372], \"y\": [0, -0.6124958862939479], \"type\": \"scatter\"}]}, {\"data\": [{\"mode\": \"lines+markers\", \"x\": [0, 0.966043878430522], \"y\": [0, -0.2583780659168169], \"type\": \"scatter\"}]}, {\"data\": [{\"mode\": \"lines+markers\", \"x\": [0, 0.9999692308340923], \"y\": [0, 0.007844576793805222], \"type\": \"scatter\"}]}, {\"data\": [{\"mode\": \"lines+markers\", \"x\": [0, 0.9925800493299343], \"y\": [0, 0.12159295075038393], \"type\": \"scatter\"}]}, {\"data\": [{\"mode\": \"lines+markers\", \"x\": [0, 0.9975789755952533], \"y\": [0, 0.06954270235132547], \"type\": \"scatter\"}]}, {\"data\": [{\"mode\": \"lines+markers\", \"x\": [0, 0.9896637881562361], \"y\": [0, -0.14340706541955503], \"type\": \"scatter\"}]}, {\"data\": [{\"mode\": \"lines+markers\", \"x\": [0, 0.8787162282596045], \"y\": [0, -0.47734451939161787], \"type\": \"scatter\"}]}, {\"data\": [{\"mode\": \"lines+markers\", \"x\": [0, 0.5761217949774194], \"y\": [0, -0.8173638586039856], \"type\": \"scatter\"}]}, {\"data\": [{\"mode\": \"lines+markers\", \"x\": [0, 0.09430822809803999], \"y\": [0, -0.9955430468407722], \"type\": \"scatter\"}]}, {\"data\": [{\"mode\": \"lines+markers\", \"x\": [0, -0.42083038025498953], \"y\": [0, -0.9071393448938486], \"type\": \"scatter\"}]}, {\"data\": [{\"mode\": \"lines+markers\", \"x\": [0, -0.7958945856639296], \"y\": [0, -0.6054352223903412], \"type\": \"scatter\"}]}, {\"data\": [{\"mode\": \"lines+markers\", \"x\": [0, -0.9677520367522854], \"y\": [0, -0.2519047346950892], \"type\": \"scatter\"}]}, {\"data\": [{\"mode\": \"lines+markers\", \"x\": [0, -0.9999318483403393], \"y\": [0, 0.011674702337644827], \"type\": \"scatter\"}]}, {\"data\": [{\"mode\": \"lines+markers\", \"x\": [0, -0.9925082250213328], \"y\": [0, 0.12217783458959902], \"type\": \"scatter\"}]}, {\"data\": [{\"mode\": \"lines+markers\", \"x\": [0, -0.9977637506564293], \"y\": [0, 0.06683934377307112], \"type\": \"scatter\"}]}, {\"data\": [{\"mode\": \"lines+markers\", \"x\": [0, -0.98882398481936], \"y\": [0, -0.14908764887126694], \"type\": \"scatter\"}]}, {\"data\": [{\"mode\": \"lines+markers\", \"x\": [0, -0.8747673288606623], \"y\": [0, -0.4845432079371063], \"type\": \"scatter\"}]}, {\"data\": [{\"mode\": \"lines+markers\", \"x\": [0, -0.5680247304848739], \"y\": [0, -0.8230114856778041], \"type\": \"scatter\"}]}, {\"data\": [{\"mode\": \"lines+markers\", \"x\": [0, -0.08378683482708868], \"y\": [0, -0.9964837009754139], \"type\": \"scatter\"}]}, {\"data\": [{\"mode\": \"lines+markers\", \"x\": [0, 0.43007613754871066], \"y\": [0, -0.9027926206561407], \"type\": \"scatter\"}]}, {\"data\": [{\"mode\": \"lines+markers\", \"x\": [0, 0.8012308908531605], \"y\": [0, -0.5983552954078796], \"type\": \"scatter\"}]}, {\"data\": [{\"mode\": \"lines+markers\", \"x\": [0, 0.9694042438374456], \"y\": [0, -0.24546977824153884], \"type\": \"scatter\"}]}, {\"data\": [{\"mode\": \"lines+markers\", \"x\": [0, 0.9998807489317988], \"y\": [0, 0.015443053959146896], \"type\": \"scatter\"}]}, {\"data\": [{\"mode\": \"lines+markers\", \"x\": [0, 0.992444147808153], \"y\": [0, 0.12269724316931063], \"type\": \"scatter\"}]}, {\"data\": [{\"mode\": \"lines+markers\", \"x\": [0, 0.9979452880546741], \"y\": [0, 0.06407185067932437], \"type\": \"scatter\"}]}, {\"data\": [{\"mode\": \"lines+markers\", \"x\": [0, 0.9879430102570617], \"y\": [0, -0.15481798501535696], \"type\": \"scatter\"}]}, {\"data\": [{\"mode\": \"lines+markers\", \"x\": [0, 0.8707390611093384], \"y\": [0, -0.49174534818178794], \"type\": \"scatter\"}]}, {\"data\": [{\"mode\": \"lines+markers\", \"x\": [0, 0.55985280717589], \"y\": [0, -0.828592079552584], \"type\": \"scatter\"}]}, {\"data\": [{\"mode\": \"lines+markers\", \"x\": [0, 0.07325282706631497], \"y\": [0, -0.9973134027610341], \"type\": \"scatter\"}]}, {\"data\": [{\"mode\": \"lines+markers\", \"x\": [0, -0.43926143275817614], \"y\": [0, -0.8983592787360936], \"type\": \"scatter\"}]}, {\"data\": [{\"mode\": \"lines+markers\", \"x\": [0, -0.8064828057028837], \"y\": [0, -0.591257544650049], \"type\": \"scatter\"}]}, {\"data\": [{\"mode\": \"lines+markers\", \"x\": [0, -0.9710013412298196], \"y\": [0, -0.2390740373396729], \"type\": \"scatter\"}]}, {\"data\": [{\"mode\": \"lines+markers\", \"x\": [0, -0.9998166334454158], \"y\": [0, 0.019149399099582767], \"type\": \"scatter\"}]}, {\"data\": [{\"mode\": \"lines+markers\", \"x\": [0, -0.9923879248315555], \"y\": [0, 0.1231511536629646], \"type\": \"scatter\"}]}, {\"data\": [{\"mode\": \"lines+markers\", \"x\": [0, -0.9981230489727275], \"y\": [0, 0.06124033890652614], \"type\": \"scatter\"}]}, {\"data\": [{\"mode\": \"lines+markers\", \"x\": [0, -0.987019984874955], \"y\": [0, -0.1605974764977447], \"type\": \"scatter\"}]}, {\"data\": [{\"mode\": \"lines+markers\", \"x\": [0, -0.8666310113509512], \"y\": [0, -0.49894958679693024], \"type\": \"scatter\"}]}, {\"data\": [{\"mode\": \"lines+markers\", \"x\": [0, -0.5516068183071935], \"y\": [0, -0.834104260867318], \"type\": \"scatter\"}]}, {\"data\": [{\"mode\": \"lines+markers\", \"x\": [0, -0.06270782078519128], \"y\": [0, -0.9980319279523939], \"type\": \"scatter\"}]}, {\"data\": [{\"mode\": \"lines+markers\", \"x\": [0, 0.448385215188035], \"y\": [0, -0.8938404213285387], \"type\": \"scatter\"}]}, {\"data\": [{\"mode\": \"lines+markers\", \"x\": [0, 0.8116505147384345], \"y\": [0, -0.5841433402212459], \"type\": \"scatter\"}]}, {\"data\": [{\"mode\": \"lines+markers\", \"x\": [0, 0.9725442114087683], \"y\": [0, -0.23271819193027649], \"type\": \"scatter\"}]}, {\"data\": [{\"mode\": \"lines+markers\", \"x\": [0, 0.9997401904077238], \"y\": [0, 0.022793676393425943], \"type\": \"scatter\"}]}, {\"data\": [{\"mode\": \"lines+markers\", \"x\": [0, 0.9923396353842614], \"y\": [0, 0.12353966183145813], \"type\": \"scatter\"}]}, {\"data\": [{\"mode\": \"lines+markers\", \"x\": [0, 0.9982964816194628], \"y\": [0, 0.05834496367469533], \"type\": \"scatter\"}]}, {\"data\": [{\"mode\": \"lines+markers\", \"x\": [0, 0.9860540242315139], \"y\": [0, -0.16642554280168986], \"type\": \"scatter\"}]}, {\"data\": [{\"mode\": \"lines+markers\", \"x\": [0, 0.8624426989353551], \"y\": [0, -0.506154710590646], \"type\": \"scatter\"}]}, {\"data\": [{\"mode\": \"lines+markers\", \"x\": [0, 0.5432874691412057], \"y\": [0, -0.8395467383500119], \"type\": \"scatter\"}]}, {\"data\": [{\"mode\": \"lines+markers\", \"x\": [0, 0.052153374464248704], \"y\": [0, -0.9986390867235229], \"type\": \"scatter\"}]}, {\"data\": [{\"mode\": \"lines+markers\", \"x\": [0, -0.4574464474840151], \"y\": [0, -0.8892371717850386], \"type\": \"scatter\"}]}, {\"data\": [{\"mode\": \"lines+markers\", \"x\": [0, -0.8167342448549259], \"y\": [0, -0.5770140148048867], \"type\": \"scatter\"}]}, {\"data\": [{\"mode\": \"lines+markers\", \"x\": [0, -0.9740337158250056], \"y\": [0, -0.2264030044768225], \"type\": \"scatter\"}]}, {\"data\": [{\"mode\": \"lines+markers\", \"x\": [0, -0.9996521018939566], \"y\": [0, 0.026375655043895507], \"type\": \"scatter\"}]}, {\"data\": [{\"mode\": \"lines+markers\", \"x\": [0, -0.9922993667879558], \"y\": [0, 0.12386269281838579], \"type\": \"scatter\"}]}, {\"data\": [{\"mode\": \"lines+markers\", \"x\": [0, -0.9984650300416464], \"y\": [0, 0.055385772396293984], \"type\": \"scatter\"}]}, {\"data\": [{\"mode\": \"lines+markers\", \"x\": [0, -0.9850442364099247], \"y\": [0, -0.17230163178446242], \"type\": \"scatter\"}]}, {\"data\": [{\"mode\": \"lines+markers\", \"x\": [0, -0.8581736846482634], \"y\": [0, -0.5133594520189757], \"type\": \"scatter\"}]}, {\"data\": [{\"mode\": \"lines+markers\", \"x\": [0, -0.5348954853274864], \"y\": [0, -0.8449182325978489], \"type\": \"scatter\"}]}, {\"data\": [{\"mode\": \"lines+markers\", \"x\": [0, -0.0415910347336466], \"y\": [0, -0.9991347185589061], \"type\": \"scatter\"}]}, {\"data\": [{\"mode\": \"lines+markers\", \"x\": [0, 0.46644405545890877], \"y\": [0, -0.8845507012755381], \"type\": \"scatter\"}]}, {\"data\": [{\"mode\": \"lines+markers\", \"x\": [0, 0.8217341229280158], \"y\": [0, -0.5698710654312293], \"type\": \"scatter\"}]}, {\"data\": [{\"mode\": \"lines+markers\", \"x\": [0, 0.975470701387337], \"y\": [0, -0.22012930458005084], \"type\": \"scatter\"}]}, {\"data\": [{\"mode\": \"lines+markers\", \"x\": [0, 0.9995530413684821], \"y\": [0, 0.029895108145270036], \"type\": \"scatter\"}]}, {\"data\": [{\"mode\": \"lines+markers\", \"x\": [0, 0.9922671880653818], \"y\": [0, 0.12412021386067659], \"type\": \"scatter\"}]}, {\"data\": [{\"mode\": \"lines+markers\", \"x\": [0, 0.9986281239475908], \"y\": [0, 0.05236286910507549], \"type\": \"scatter\"}]}, {\"data\": [{\"mode\": \"lines+markers\", \"x\": [0, 0.9839897399113614], \"y\": [0, -0.1782251153714628], \"type\": \"scatter\"}]}, {\"data\": [{\"mode\": \"lines+markers\", \"x\": [0, 0.8538236062906747], \"y\": [0, -0.520562435583655], \"type\": \"scatter\"}]}, {\"data\": [{\"mode\": \"lines+markers\", \"x\": [0, 0.5264317882784103], \"y\": [0, -0.8502173676713474], \"type\": \"scatter\"}]}, {\"data\": [{\"mode\": \"lines+markers\", \"x\": [0, 0.031022447970923628], \"y\": [0, -0.9995186880303396], \"type\": \"scatter\"}]}, {\"data\": [{\"mode\": \"lines+markers\", \"x\": [0, -0.4753770680211623], \"y\": [0, -0.8797821566726636], \"type\": \"scatter\"}]}, {\"data\": [{\"mode\": \"lines+markers\", \"x\": [0, -0.8266504445444837], \"y\": [0, -0.5627157742008015], \"type\": \"scatter\"}]}, {\"data\": [{\"mode\": \"lines+markers\", \"x\": [0, -0.9768560664836747], \"y\": [0, -0.21389769838416306], \"type\": \"scatter\"}]}, {\"data\": [{\"mode\": \"lines+markers\", \"x\": [0, -0.9994436666918703], \"y\": [0, 0.033352018072517545], \"type\": \"scatter\"}]}, {\"data\": [{\"mode\": \"lines+markers\", \"x\": [0, -0.9922431350619346], \"y\": [0, 0.12431235225215258], \"type\": \"scatter\"}]}, {\"data\": [{\"mode\": \"lines+markers\", \"x\": [0, -0.9987851769826076], \"y\": [0, 0.049276467404038404], \"type\": \"scatter\"}]}, {\"data\": [{\"mode\": \"lines+markers\", \"x\": [0, -0.9828896573647999], \"y\": [0, -0.1841953350259069], \"type\": \"scatter\"}]}, {\"data\": [{\"mode\": \"lines+markers\", \"x\": [0, -0.8493920536542863], \"y\": [0, -0.527762388948809], \"type\": \"scatter\"}]}, {\"data\": [{\"mode\": \"lines+markers\", \"x\": [0, -0.5178971264467889], \"y\": [0, -0.8554429065800703], \"type\": \"scatter\"}]}, {\"data\": [{\"mode\": \"lines+markers\", \"x\": [0, -0.020449196884489932], \"y\": [0, -0.9997908933105859], \"type\": \"scatter\"}]}, {\"data\": [{\"mode\": \"lines+markers\", \"x\": [0, 0.48424442523359484], \"y\": [0, -0.874932761205217], \"type\": \"scatter\"}]}, {\"data\": [{\"mode\": \"lines+markers\", \"x\": [0, 0.8314834053416063], \"y\": [0, -0.5555495897231193], \"type\": \"scatter\"}]}, {\"data\": [{\"mode\": \"lines+markers\", \"x\": [0, 0.9781906647117893], \"y\": [0, -0.20770898745771185], \"type\": \"scatter\"}]}, {\"data\": [{\"mode\": \"lines+markers\", \"x\": [0, 0.9993246334440806], \"y\": [0, 0.03674611533011136], \"type\": \"scatter\"}]}, {\"data\": [{\"mode\": \"lines+markers\", \"x\": [0, 0.992227260741146], \"y\": [0, 0.12443899325421225], \"type\": \"scatter\"}]}, {\"data\": [{\"mode\": \"lines+markers\", \"x\": [0, 0.9989356021884025], \"y\": [0, 0.046126594069946535], \"type\": \"scatter\"}]}, {\"data\": [{\"mode\": \"lines+markers\", \"x\": [0, 0.9817430968892399], \"y\": [0, -0.19021170234852652], \"type\": \"scatter\"}]}, {\"data\": [{\"mode\": \"lines+markers\", \"x\": [0, 0.8448786775845492], \"y\": [0, -0.5349579611174914], \"type\": \"scatter\"}]}, {\"data\": [{\"mode\": \"lines+markers\", \"x\": [0, 0.5092923761832368], \"y\": [0, -0.86059356002798], \"type\": \"scatter\"}]}, {\"data\": [{\"mode\": \"lines+markers\", \"x\": [0, 0.009872848176055597], \"y\": [0, -0.999951262246762], \"type\": \"scatter\"}]}, {\"data\": [{\"mode\": \"lines+markers\", \"x\": [0, -0.4930452588945107], \"y\": [0, -0.8700036624530065], \"type\": \"scatter\"}]}, {\"data\": [{\"mode\": \"lines+markers\", \"x\": [0, -0.8362333109841578], \"y\": [0, -0.5483738228621722], \"type\": \"scatter\"}]}, {\"data\": [{\"mode\": \"lines+markers\", \"x\": [0, -0.9794753812753589], \"y\": [0, -0.20156382977977547], \"type\": \"scatter\"}]}, {\"data\": [{\"mode\": \"lines+markers\", \"x\": [0, -0.9991965822483283], \"y\": [0, 0.040077300598464385], \"type\": \"scatter\"}]}, {\"data\": [{\"mode\": \"lines+markers\", \"x\": [0, -0.9922195865497804], \"y\": [0, 0.12450016894359195], \"type\": \"scatter\"}]}, {\"data\": [{\"mode\": \"lines+markers\", \"x\": [0, -0.999078796353672], \"y\": [0, 0.04291338574964643], \"type\": \"scatter\"}]}, {\"data\": [{\"mode\": \"lines+markers\", \"x\": [0, -0.9805491677462553], \"y\": [0, -0.19627360910760755], \"type\": \"scatter\"}]}, {\"data\": [{\"mode\": \"lines+markers\", \"x\": [0, -0.8402830828252904], \"y\": [0, -0.5421478956130202], \"type\": \"scatter\"}]}, {\"data\": [{\"mode\": \"lines+markers\", \"x\": [0, -0.5006183742502176], \"y\": [0, -0.8656680907617359], \"type\": \"scatter\"}]}, {\"data\": [{\"mode\": \"lines+markers\", \"x\": [0, 0.0007050106308419078], \"y\": [0, -0.9999997514799743], \"type\": \"scatter\"}]}, {\"data\": [{\"mode\": \"lines+markers\", \"x\": [0, 0.5017785555034404], \"y\": [0, -0.8649961163131779], \"type\": \"scatter\"}]}, {\"data\": [{\"mode\": \"lines+markers\", \"x\": [0, 0.8409004287554965], \"y\": [0, -0.5411898640207724], \"type\": \"scatter\"}]}, {\"data\": [{\"mode\": \"lines+markers\", \"x\": [0, 0.9807110875972953], \"y\": [0, -0.19546294447728482], \"type\": \"scatter\"}]}, {\"data\": [{\"mode\": \"lines+markers\", \"x\": [0, 0.9990601469801466], \"y\": [0, 0.043345388636023496], \"type\": \"scatter\"}]}, {\"data\": [{\"mode\": \"lines+markers\", \"x\": [0, 0.9922201294243865], \"y\": [0, 0.12449584236051243], \"type\": \"scatter\"}]}, {\"data\": [{\"mode\": \"lines+markers\", \"x\": [0, 0.9992141472189265], \"y\": [0, 0.03963695242514876], \"type\": \"scatter\"}]}, {\"data\": [{\"mode\": \"lines+markers\", \"x\": [0, 0.9793069908493897], \"y\": [0, -0.20238037867716702], \"type\": \"scatter\"}]}, {\"data\": [{\"mode\": \"lines+markers\", \"x\": [0, 0.8356049644922157], \"y\": [0, -0.549330814096536], \"type\": \"scatter\"}]}, {\"data\": [{\"mode\": \"lines+markers\", \"x\": [0, 0.4918760149367773], \"y\": [0, -0.8706652548080205], \"type\": \"scatter\"}]}, {\"data\": [{\"mode\": \"lines+markers\", \"x\": [0, -0.011282791625526385], \"y\": [0, -0.9999363472807331], \"type\": \"scatter\"}]}, {\"data\": [{\"mode\": \"lines+markers\", \"x\": [0, -0.5104434318982488], \"y\": [0, -0.8599113342850749], \"type\": \"scatter\"}]}, {\"data\": [{\"mode\": \"lines+markers\", \"x\": [0, -0.8454850809666987], \"y\": [0, -0.5339990429417779], \"type\": \"scatter\"}]}, {\"data\": [{\"mode\": \"lines+markers\", \"x\": [0, -0.9818986660247911], \"y\": [0, -0.18940699474606448], \"type\": \"scatter\"}]}, {\"data\": [{\"mode\": \"lines+markers\", \"x\": [0, -0.9989159499071357], \"y\": [0, 0.04655024190189284], \"type\": \"scatter\"}]}, {\"data\": [{\"mode\": \"lines+markers\", \"x\": [0, -0.9922288884059829], \"y\": [0, 0.12442601421177014], \"type\": \"scatter\"}]}, {\"data\": [{\"mode\": \"lines+markers\", \"x\": [0, -0.9993410310640177], \"y\": [0, 0.03629743285558873], \"type\": \"scatter\"}]}, {\"data\": [{\"mode\": \"lines+markers\", \"x\": [0, -0.9780156832654906], \"y\": [0, -0.20853134845086377], \"type\": \"scatter\"}]}, {\"data\": [{\"mode\": \"lines+markers\", \"x\": [0, -0.8308440095481662], \"y\": [0, -0.5565053744555634], \"type\": \"scatter\"}]}, {\"data\": [{\"mode\": \"lines+markers\", \"x\": [0, -0.483066269285482], \"y\": [0, -0.8755837935221312], \"type\": \"scatter\"}]}, {\"data\": [{\"mode\": \"lines+markers\", \"x\": [0, 0.02185882435613417], \"y\": [0, -0.9997610673544793], \"type\": \"scatter\"}]}, {\"data\": [{\"mode\": \"lines+markers\", \"x\": [0, 0.5190389035172821], \"y\": [0, -0.854750616633634], \"type\": \"scatter\"}]}, {\"data\": [{\"mode\": \"lines+markers\", \"x\": [0, 0.8499875574806726], \"y\": [0, -0.5268027639715269], \"type\": \"scatter\"}]}, {\"data\": [{\"mode\": \"lines+markers\", \"x\": [0, 0.9830389908405396], \"y\": [0, -0.18339668068755643], \"type\": \"scatter\"}]}, {\"data\": [{\"mode\": \"lines+markers\", \"x\": [0, 0.9987646027080116], \"y\": [0, 0.049691733492682605], \"type\": \"scatter\"}]}, {\"data\": [{\"mode\": \"lines+markers\", \"x\": [0, 0.9922458435831399], \"y\": [0, 0.12429073131968806], \"type\": \"scatter\"}]}, {\"data\": [{\"mode\": \"lines+markers\", \"x\": [0, 0.9994588112498585], \"y\": [0, 0.032895054567820034], \"type\": \"scatter\"}]}, {\"data\": [{\"mode\": \"lines+markers\", \"x\": [0, 0.9766743916245048], \"y\": [0, -0.21472571514586591], \"type\": \"scatter\"}]}, {\"data\": [{\"mode\": \"lines+markers\", \"x\": [0, 0.8260000007662287], \"y\": [0, -0.5636701151686065], \"type\": \"scatter\"}]}, {\"data\": [{\"mode\": \"lines+markers\", \"x\": [0, 0.47419012437687935], \"y\": [0, -0.8804224701490981], \"type\": \"scatter\"}]}, {\"data\": [{\"mode\": \"lines+markers\", \"x\": [0, -0.03243155073426641], \"y\": [0, -0.9994739588988653], \"type\": \"scatter\"}]}, {\"data\": [{\"mode\": \"lines+markers\", \"x\": [0, -0.5275641829115403], \"y\": [0, -0.8495151752081177], \"type\": \"scatter\"}]}, {\"data\": [{\"mode\": \"lines+markers\", \"x\": [0, -0.8544082387988158], \"y\": [0, -0.5196023108808369], \"type\": \"scatter\"}]}, {\"data\": [{\"mode\": \"lines+markers\", \"x\": [0, -0.9841329582302786], \"y\": [0, -0.17743258022392833], \"type\": \"scatter\"}]}, {\"data\": [{\"mode\": \"lines+markers\", \"x\": [0, -0.99860670435358], \"y\": [0, 0.05276978321048575], \"type\": \"scatter\"}]}, {\"data\": [{\"mode\": \"lines+markers\", \"x\": [0, -0.9922709685731371], \"y\": [0, 0.12408998721463543], \"type\": \"scatter\"}]}, {\"data\": [{\"mode\": \"lines+markers\", \"x\": [0, -0.999566846820843], \"y\": [0, 0.02942989528757272], \"type\": \"scatter\"}]}, {\"data\": [{\"mode\": \"lines+markers\", \"x\": [0, -0.9752822131533676], \"y\": [0, -0.220962903462706], \"type\": \"scatter\"}]}, {\"data\": [{\"mode\": \"lines+markers\", \"x\": [0, -0.8210725895803073], \"y\": [0, -0.5708237929868449], \"type\": \"scatter\"}]}, {\"data\": [{\"mode\": \"lines+markers\", \"x\": [0, -0.4652484853209462], \"y\": [0, -0.8851801211654977], \"type\": \"scatter\"}]}, {\"data\": [{\"mode\": \"lines+markers\", \"x\": [0, 0.042999381251547536], \"y\": [0, -0.9990750988849557], \"type\": \"scatter\"}]}, {\"data\": [{\"mode\": \"lines+markers\", \"x\": [0, 0.5360184048112347], \"y\": [0, -0.8442062957024303], \"type\": \"scatter\"}]}, {\"data\": [{\"mode\": \"lines+markers\", \"x\": [0, 0.8587475249609368], \"y\": [0, -0.5123989543055932], \"type\": \"scatter\"}]}, {\"data\": [{\"mode\": \"lines+markers\", \"x\": [0, 0.9851814512486773], \"y\": [0, -0.17151532909786849], \"type\": \"scatter\"}]}, {\"data\": [{\"mode\": \"lines+markers\", \"x\": [0, 0.9984428467814181], \"y\": [0, 0.055784242497478945], \"type\": \"scatter\"}]}, {\"data\": [{\"mode\": \"lines+markers\", \"x\": [0, 0.9923042241300822], \"y\": [0, 0.12382377305507866], \"type\": \"scatter\"}]}, {\"data\": [{\"mode\": \"lines+markers\", \"x\": [0, 0.9996644831984912], \"y\": [0, 0.02590214337643652], \"type\": \"scatter\"}]}, {\"data\": [{\"mode\": \"lines+markers\", \"x\": [0, 0.9738382907950139], \"y\": [0, -0.22724212501524838], \"type\": \"scatter\"}]}, {\"data\": [{\"mode\": \"lines+markers\", \"x\": [0, 0.8160615708827957], \"y\": [0, -0.5779649751743645], \"type\": \"scatter\"}]}, {\"data\": [{\"mode\": \"lines+markers\", \"x\": [0, 0.4562423597157859], \"y\": [0, -0.8898555552453282], \"type\": \"scatter\"}]}, {\"data\": [{\"mode\": \"lines+markers\", \"x\": [0, -0.053560732082639936], \"y\": [0, -0.9985645937938976], \"type\": \"scatter\"}]}, {\"data\": [{\"mode\": \"lines+markers\", \"x\": [0, -0.5444007116110612], \"y\": [0, -0.838825288839917], \"type\": \"scatter\"}]}, {\"data\": [{\"mode\": \"lines+markers\", \"x\": [0, -0.8630057477858968], \"y\": [0, -0.5051941006073856], \"type\": \"scatter\"}]}, {\"data\": [{\"mode\": \"lines+markers\", \"x\": [0, -0.9861853497406703], \"y\": [0, -0.1656455733090136], \"type\": \"scatter\"}]}, {\"data\": [{\"mode\": \"lines+markers\", \"x\": [0, -0.9982736100811733], \"y\": [0, 0.05873499310889139], \"type\": \"scatter\"}]}, {\"data\": [{\"mode\": \"lines+markers\", \"x\": [0, -0.99234555707623], \"y\": [0, 0.12349208618801011], \"type\": \"scatter\"}]}, {\"data\": [{\"mode\": \"lines+markers\", \"x\": [0, -0.9997510579299531], \"y\": [0, 0.022311928826068268], \"type\": \"scatter\"}]}, {\"data\": [{\"mode\": \"lines+markers\", \"x\": [0, -0.9723417425412935], \"y\": [0, -0.23356270188487085], \"type\": \"scatter\"}]}, {\"data\": [{\"mode\": \"lines+markers\", \"x\": [0, -0.8109667083937573], \"y\": [0, -0.5850922985965502], \"type\": \"scatter\"}]}, {\"data\": [{\"mode\": \"lines+markers\", \"x\": [0, -0.4471727707269636], \"y\": [0, -0.8944476022218241], \"type\": \"scatter\"}]}, {\"data\": [{\"mode\": \"lines+markers\", \"x\": [0, 0.06411402697531722], \"y\": [0, -0.9979425792824997], \"type\": \"scatter\"}]}, {\"data\": [{\"mode\": \"lines+markers\", \"x\": [0, 0.5527103794448227], \"y\": [0, -0.8333734075754757], \"type\": \"scatter\"}]}, {\"data\": [{\"mode\": \"lines+markers\", \"x\": [0, 0.8671833757529563], \"y\": [0, -0.4979889484895291], \"type\": \"scatter\"}]}, {\"data\": [{\"mode\": \"lines+markers\", \"x\": [0, 0.9871455455463393], \"y\": [0, -0.1598238777780724], \"type\": \"scatter\"}]}, {\"data\": [{\"mode\": \"lines+markers\", \"x\": [0, 0.9980995627015369], \"y\": [0, 0.06162193550190485], \"type\": \"scatter\"}]}, {\"data\": [{\"mode\": \"lines+markers\", \"x\": [0, 0.9923949013715221], \"y\": [0, 0.1230949216328889], \"type\": \"scatter\"}]}, {\"data\": [{\"mode\": \"lines+markers\", \"x\": [0, 0.9998258981852532], \"y\": [0, 0.018659402939312023], \"type\": \"scatter\"}]}, {\"data\": [{\"mode\": \"lines+markers\", \"x\": [0, 0.9707916952080374], \"y\": [0, -0.23992391401255708], \"type\": \"scatter\"}]}, {\"data\": [{\"mode\": \"lines+markers\", \"x\": [0, 0.8057877567133306], \"y\": [0, -0.5922044335623454], \"type\": \"scatter\"}]}, {\"data\": [{\"mode\": \"lines+markers\", \"x\": [0, 0.4380406784962939], \"y\": [0, -0.8989551512631242], \"type\": \"scatter\"}]}, {\"data\": [{\"mode\": \"lines+markers\", \"x\": [0, -0.07465772827201138], \"y\": [0, -0.9972092175713492], \"type\": \"scatter\"}]}, {\"data\": [{\"mode\": \"lines+markers\", \"x\": [0, -0.5609466091995249], \"y\": [0, -0.8278519805059088], \"type\": \"scatter\"}]}, {\"data\": [{\"mode\": \"lines+markers\", \"x\": [0, -0.871280808458896], \"y\": [0, -0.4907848335179202], \"type\": \"scatter\"}]}, {\"data\": [{\"mode\": \"lines+markers\", \"x\": [0, -0.9880629221741255], \"y\": [0, -0.154050841687827], \"type\": \"scatter\"}]}, {\"data\": [{\"mode\": \"lines+markers\", \"x\": [0, -0.9979212636916573], \"y\": [0, 0.06444494915853195], \"type\": \"scatter\"}]}, {\"data\": [{\"mode\": \"lines+markers\", \"x\": [0, -0.9924521770570216], \"y\": [0, 0.12263228063922724], \"type\": \"scatter\"}]}, {\"data\": [{\"mode\": \"lines+markers\", \"x\": [0, -0.9998883208564856], \"y\": [0, 0.01494475877348285], \"type\": \"scatter\"}]}, {\"data\": [{\"mode\": \"lines+markers\", \"x\": [0, -0.9691872947919146], \"y\": [0, -0.24632496344043253], \"type\": \"scatter\"}]}, {\"data\": [{\"mode\": \"lines+markers\", \"x\": [0, -0.8005245783386984], \"y\": [0, -0.5992999244749235], \"type\": \"scatter\"}]}, {\"data\": [{\"mode\": \"lines+markers\", \"x\": [0, -0.4288472276389982], \"y\": [0, -0.9033770283477134], \"type\": \"scatter\"}]}, {\"data\": [{\"mode\": \"lines+markers\", \"x\": [0, 0.08519015074047685], \"y\": [0, -0.9963647114469756], \"type\": \"scatter\"}]}, {\"data\": [{\"mode\": \"lines+markers\", \"x\": [0, 0.5691085871809537], \"y\": [0, -0.8222623766152133], \"type\": \"scatter\"}]}, {\"data\": [{\"mode\": \"lines+markers\", \"x\": [0, 0.8752984683096597], \"y\": [0, -0.48358307598050165], \"type\": \"scatter\"}]}, {\"data\": [{\"mode\": \"lines+markers\", \"x\": [0, 0.9889383601591114], \"y\": [0, -0.14832707037424964], \"type\": \"scatter\"}]}]);}).then(function(){Plotly.animate('57693a84-3102-4fc8-9e6a-e94d0f37ded3');})\n",
       "        });</script>"
      ]
     },
     "metadata": {},
     "output_type": "display_data"
    }
   ],
   "source": [
    "layout=go.Layout(title=\"Pendulo\",yaxis=dict(title=\"x\"),xaxis=dict(title=\"y\"))\n",
    "\n",
    "figure={'data': [\n",
    "        {\n",
    "            'x': [0,l*np.sin(sol2[0,0])],\n",
    "            'y': [0,-l*np.cos(sol2[0,0])],\n",
    "            'mode': 'lines+markers'}\n",
    "],\n",
    "        'layout': {'xaxis': {'range': [-1, 1], 'autorange': False},\n",
    "                     'yaxis': {'range': [-1, 1], 'autorange': False},\n",
    "                   'updatemenus':[{'type':'buttons','buttons': [\n",
    "            {\n",
    "                'args': [None, {'frame': {'duration': 100, 'redraw': True},\n",
    "                         'fromcurrent': True, 'transition': {'duration': 0, 'easing':'bounce'}}],\n",
    "                'label': 'Play',\n",
    "                'method': 'animate'\n",
    "            },\n",
    "            {\n",
    "                'args': [[None], {'frame': {'duration': 0, 'redraw': False}, 'mode': 'immediate',\n",
    "                'transition': {'duration': 0}}],\n",
    "                'label': 'Pause',\n",
    "                'method': 'animate'\n",
    "            }]}],\n",
    "                  },\n",
    "                   \n",
    "        'frames': [{'data': [{'x':[0,l*np.sin(sol2[i,0])] ,'y':[0,-l*np.cos(sol2[i,0])] ,\n",
    "                    'mode': 'lines+markers'}]} for i in range(200)]\n",
    "       }\n",
    "        \n",
    "py.offline.iplot(figure)"
   ]
  },
  {
   "cell_type": "code",
   "execution_count": null,
   "metadata": {},
   "outputs": [],
   "source": []
  }
 ],
 "metadata": {
  "anaconda-cloud": {},
  "kernelspec": {
   "display_name": "Python 3",
   "language": "python",
   "name": "python3"
  },
  "language_info": {
   "codemirror_mode": {
    "name": "ipython",
    "version": 3
   },
   "file_extension": ".py",
   "mimetype": "text/x-python",
   "name": "python",
   "nbconvert_exporter": "python",
   "pygments_lexer": "ipython3",
   "version": "3.6.5"
  }
 },
 "nbformat": 4,
 "nbformat_minor": 1
}
