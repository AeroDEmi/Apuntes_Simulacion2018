{
 "cells": [
  {
   "cell_type": "markdown",
   "metadata": {},
   "source": [
    "# Ejemplo gráfico"
   ]
  },
  {
   "cell_type": "markdown",
   "metadata": {},
   "source": [
    "## 2.1 Problema"
   ]
  },
  {
   "cell_type": "markdown",
   "metadata": {},
   "source": [
    "La compañía de Pepe diseña y vende os tipos de anillos: **AA y TT.** La empresa puede producir hasta **24 anillos** cada día, usando como máximo un total de **60 h** de mano de obra. Le toma **3h anillo AA y 2h uno del tipo TT** , y además el eneficio por cada anillo **AA es** 40 y por anillo **TT** es 30, maximice el beneficio."
   ]
  },
  {
   "cell_type": "markdown",
   "metadata": {},
   "source": [
    "* Función beneficio (objetivo)\n",
    "$$ f(x,y)=40x+30y$$\n",
    "* Restricciones \n",
    "$$ x+y \\leq 24 $$\n",
    "$$ 3x+2y\\leq 60 $$\n",
    "$$x\\geq 0$$\n",
    "$$y\\geq 0$$"
   ]
  },
  {
   "cell_type": "markdown",
   "metadata": {},
   "source": [
    "##  2.2 Resolverlo de manera gráfica"
   ]
  },
  {
   "cell_type": "markdown",
   "metadata": {},
   "source": [
    "* Generamos las lineas\n",
    "$$ x+y=24$$\n",
    "$$ 3x+2y=60$$\n",
    "\n",
    "* Despejando\n",
    "$$ y_1 =24-x$$\n",
    "$$ y_2 = \\frac{60-3x}{2}$$"
   ]
  },
  {
   "cell_type": "code",
   "execution_count": 1,
   "metadata": {},
   "outputs": [],
   "source": [
    "%matplotlib notebook\n",
    "from sympy import *\n",
    "import numpy as np\n",
    "import matplotlib.pyplot as plt\n",
    "init_printing()"
   ]
  },
  {
   "cell_type": "code",
   "execution_count": 2,
   "metadata": {},
   "outputs": [
    {
     "data": {
      "image/png": "[encoded data removed]",
      "text/latex": [
       "$$x$$"
      ],
      "text/plain": [
       "x"
      ]
     },
     "execution_count": 2,
     "metadata": {},
     "output_type": "execute_result"
    }
   ],
   "source": [
    "var(\"x\")"
   ]
  },
  {
   "cell_type": "markdown",
   "metadata": {},
   "source": [
    "### 2.2.1 Las ecuaciones las ponemos de manera matricial"
   ]
  },
  {
   "cell_type": "code",
   "execution_count": 3,
   "metadata": {
    "scrolled": true
   },
   "outputs": [
    {
     "data": {
      "text/plain": [
       "array([12., 12.])"
      ]
     },
     "execution_count": 3,
     "metadata": {},
     "output_type": "execute_result"
    }
   ],
   "source": [
    "A=[[1,1],[3,2]]\n",
    "b=[24,60]\n",
    "np.linalg.solve(A,b) ##solución de nuestro sistema"
   ]
  },
  {
   "cell_type": "code",
   "execution_count": 4,
   "metadata": {},
   "outputs": [
    {
     "data": {
      "image/png": "[encoded data removed]",
      "text/latex": [
       "$$\\left \\{ x : 12, \\quad y : 12\\right \\}$$"
      ],
      "text/plain": [
       "{x: 12, y: 12}"
      ]
     },
     "execution_count": 4,
     "metadata": {},
     "output_type": "execute_result"
    }
   ],
   "source": [
    "var(\"x y\")\n",
    "sistema=[Eq(x+y,24),Eq(3*x+2*y,60)]\n",
    "solve(sistema)"
   ]
  },
  {
   "cell_type": "code",
   "execution_count": 5,
   "metadata": {},
   "outputs": [],
   "source": [
    "f= lambda X,Y: 40*np.array(X)+30*np.array(Y)"
   ]
  },
  {
   "cell_type": "code",
   "execution_count": 6,
   "metadata": {},
   "outputs": [
    {
     "data": {
      "image/png": "[encoded data removed]",
      "text/latex": [
       "$$9$$"
      ],
      "text/plain": [
       "9"
      ]
     },
     "execution_count": 6,
     "metadata": {},
     "output_type": "execute_result"
    }
   ],
   "source": [
    "def G(x):\n",
    "    return x**2\n",
    "G(3)"
   ]
  },
  {
   "cell_type": "code",
   "execution_count": 7,
   "metadata": {},
   "outputs": [
    {
     "data": {
      "image/png": "[encoded data removed]",
      "text/latex": [
       "$$9$$"
      ],
      "text/plain": [
       "9"
      ]
     },
     "execution_count": 7,
     "metadata": {},
     "output_type": "execute_result"
    }
   ],
   "source": [
    "g=lambda x: x**2\n",
    "g(3)"
   ]
  },
  {
   "cell_type": "code",
   "execution_count": 8,
   "metadata": {},
   "outputs": [
    {
     "data": {
      "text/plain": [
       "array([720, 840, 800])"
      ]
     },
     "execution_count": 8,
     "metadata": {},
     "output_type": "execute_result"
    }
   ],
   "source": [
    "# evaluamos todas las soluciones\n",
    "f([0,12,20],[24,12,0])\n",
    "# La mayor es f(12,12)=840"
   ]
  },
  {
   "cell_type": "markdown",
   "metadata": {},
   "source": [
    "# 3 Algoritmo simplex"
   ]
  },
  {
   "cell_type": "markdown",
   "metadata": {},
   "source": [
    "El término algoritmo Símplex habitualmente se refiere a un conjunto de métodos para resolver problemas de programación lineal, en los cuales se busca el máximo "
   ]
  },
  {
   "cell_type": "markdown",
   "metadata": {},
   "source": [
    "## 3.1 Ejemplo 1"
   ]
  },
  {
   "cell_type": "markdown",
   "metadata": {},
   "source": [
    "# 6 Ejemplo"
   ]
  },
  {
   "cell_type": "code",
   "execution_count": 9,
   "metadata": {},
   "outputs": [],
   "source": [
    "from pulp import *"
   ]
  },
  {
   "cell_type": "code",
   "execution_count": 10,
   "metadata": {},
   "outputs": [],
   "source": [
    "pulp.LpVariable?"
   ]
  },
  {
   "cell_type": "code",
   "execution_count": 11,
   "metadata": {},
   "outputs": [],
   "source": [
    "mi_lp_problema=pulp.LpProblem(\"Mi LP Problema\",pulp.LpMinimize)\n",
    "\n",
    "x=pulp.LpVariable('x',lowBound=0,cat='Continuous')\n",
    "y=pulp.LpVariable('y',lowBound=0,cat='Continuous')\n",
    "\n",
    "# Objective function\n",
    "mi_lp_problema += x+2*y\n",
    "\n",
    "#Constraints\n",
    "mi_lp_problema += 3*x+4*y>= 1\n",
    "mi_lp_problema += 2*x+5*y>= 2"
   ]
  },
  {
   "cell_type": "code",
   "execution_count": 12,
   "metadata": {},
   "outputs": [
    {
     "data": {
      "text/plain": [
       "Mi LP Problema:\n",
       "MINIMIZE\n",
       "1*x + 2*y + 0\n",
       "SUBJECT TO\n",
       "_C1: 3 x + 4 y >= 1\n",
       "\n",
       "_C2: 2 x + 5 y >= 2\n",
       "\n",
       "VARIABLES\n",
       "x Continuous\n",
       "y Continuous"
      ]
     },
     "execution_count": 12,
     "metadata": {},
     "output_type": "execute_result"
    }
   ],
   "source": [
    "mi_lp_problema"
   ]
  },
  {
   "cell_type": "code",
   "execution_count": 13,
   "metadata": {},
   "outputs": [
    {
     "data": {
      "text/plain": [
       "'Optimal'"
      ]
     },
     "execution_count": 13,
     "metadata": {},
     "output_type": "execute_result"
    }
   ],
   "source": [
    "mi_lp_problema.solve()\n",
    "pulp.LpStatus[mi_lp_problema.status]"
   ]
  },
  {
   "cell_type": "code",
   "execution_count": 14,
   "metadata": {},
   "outputs": [
    {
     "name": "stdout",
     "output_type": "stream",
     "text": [
      "x=0.0\n",
      "y=0.4\n"
     ]
    }
   ],
   "source": [
    "for variable in mi_lp_problema.variables():\n",
    "    print(\"{}={}\".format(variable.name,variable.varValue))"
   ]
  },
  {
   "cell_type": "markdown",
   "metadata": {},
   "source": [
    "## 6.? Solución con scipy"
   ]
  },
  {
   "cell_type": "markdown",
   "metadata": {},
   "source": [
    "min $x_1+2x_2$\n",
    "$$ 3x_1+4x_2\\geq 1 $$\n",
    "$$ 2x_1+5x_2\\geq 2 $$\n",
    "$$ x_1,x_2 \\geq 0 $$"
   ]
  },
  {
   "cell_type": "code",
   "execution_count": 15,
   "metadata": {},
   "outputs": [],
   "source": [
    "from scipy.optimize import linprog"
   ]
  },
  {
   "cell_type": "code",
   "execution_count": 16,
   "metadata": {},
   "outputs": [
    {
     "name": "stdout",
     "output_type": "stream",
     "text": [
      "Optimization terminated successfully.\n",
      "         Current function value: 0.800000    \n",
      "         Iterations: 2\n",
      "     fun: 0.8\n",
      " message: 'Optimization terminated successfully.'\n",
      "     nit: 2\n",
      "   slack: array([0.6, 0. ])\n",
      "  status: 0\n",
      " success: True\n",
      "       x: array([0. , 0.4])\n"
     ]
    }
   ],
   "source": [
    "c=[1,2]\n",
    "A=[[-3,-4],[-2,-5]]\n",
    "\n",
    "b=[-1,-2]\n",
    "\n",
    "x0_bounds=(0,None)\n",
    "x1_bounds=(0,None)\n",
    "\n",
    "res=linprog(c,A_ub=A,b_ub=b,bounds=(x0_bounds,x1_bounds),options={\"disp\":True})\n",
    "\n",
    "print(res)"
   ]
  },
  {
   "cell_type": "markdown",
   "metadata": {},
   "source": [
    "# 7 Ejemplo"
   ]
  },
  {
   "cell_type": "markdown",
   "metadata": {},
   "source": [
    "minimizar : $$ 2x_1+x_2 $$\n",
    "sujeto a : \n",
    "$$ -x_1+x_2 \\leq 1 $$\n",
    "$$ x_1+x_2\\geq 2 $$\n",
    "$$ x_2 \\geq  0 $$\n",
    "$$x_1-2x_2\\leq 4 $$"
   ]
  },
  {
   "cell_type": "code",
   "execution_count": 17,
   "metadata": {},
   "outputs": [
    {
     "name": "stdout",
     "output_type": "stream",
     "text": [
      "Optimization terminated successfully.\n",
      "         Current function value: 2.500000    \n",
      "         Iterations: 2\n",
      "     fun: 2.5\n",
      " message: 'Optimization terminated successfully.'\n",
      "     nit: 2\n",
      "   slack: array([0., 0.])\n",
      "  status: 0\n",
      " success: True\n",
      "       x: array([0.5, 1.5])\n"
     ]
    }
   ],
   "source": [
    "c=[2,1]\n",
    "A=[[-1,1],[-1,-1]]\n",
    "\n",
    "b=[1,-2]\n",
    "\n",
    "x0_bounds=(0,None)\n",
    "x1_bounds=(0,None)\n",
    "\n",
    "res=linprog(c,A_ub=A,b_ub=b,bounds=(x0_bounds,x1_bounds),options={\"disp\":True})\n",
    "\n",
    "print(res)"
   ]
  },
  {
   "cell_type": "markdown",
   "metadata": {},
   "source": [
    "## 7.1 a blending problem (Tarea)"
   ]
  },
  {
   "cell_type": "code",
   "execution_count": 18,
   "metadata": {},
   "outputs": [],
   "source": [
    "from pulp import *"
   ]
  },
  {
   "cell_type": "code",
   "execution_count": 19,
   "metadata": {},
   "outputs": [],
   "source": [
    "#Se puede poner LpInteger o LpContinuous\n",
    "prob=LpProblem(\"El problema Whiskas\",LpMinimize)\n",
    "x1=LpVariable(\"Porcentaje de Pollo\",0,None,LpContinuous)\n",
    "x2=LpVariable(\"Porcentaje de Carne\",0)"
   ]
  },
  {
   "cell_type": "code",
   "execution_count": 20,
   "metadata": {},
   "outputs": [],
   "source": [
    "prob+= 0.013*x1+0.008*x2 , \"Costo total de los ingredientes por envase\""
   ]
  },
  {
   "cell_type": "code",
   "execution_count": 21,
   "metadata": {},
   "outputs": [],
   "source": [
    "#Se agregan las constricciones\n",
    "prob += x1+x2 ==100.0, \"La suma de porcentajes debe de dar 100\"\n",
    "prob += 0.100*x1+0.200*x2 >= 8.0, \"Requerimiento de proteina\"\n",
    "prob += 0.080*x1+0.100*x2>=6.0, \"Requerimiento de grasa\"\n",
    "prob += 0.001*x1+0.005*x2<= 2.0, \"Requerimiento de Fibra\"\n",
    "prob += 0.002*x1+0.005*x2 <= 0.4 , \"Requerimiento de sal\""
   ]
  },
  {
   "cell_type": "code",
   "execution_count": 22,
   "metadata": {},
   "outputs": [],
   "source": [
    "#Los datos se escriben en un archivo .lp\n",
    "prob.writeLP(\"ProblemaWhiskas.lp\")"
   ]
  },
  {
   "cell_type": "code",
   "execution_count": 23,
   "metadata": {},
   "outputs": [
    {
     "name": "stdout",
     "output_type": "stream",
     "text": [
      "Status: Optimal\n"
     ]
    }
   ],
   "source": [
    "prob.solve()\n",
    "print(\"Status:\", LpStatus[prob.status])"
   ]
  },
  {
   "cell_type": "code",
   "execution_count": 24,
   "metadata": {},
   "outputs": [
    {
     "name": "stdout",
     "output_type": "stream",
     "text": [
      "Porcentaje_de_Carne = 66.666667\n",
      "Porcentaje_de_Pollo = 33.333333\n"
     ]
    }
   ],
   "source": [
    "for x in prob.variables():\n",
    "    print(x.name,\"=\",x.varValue)"
   ]
  },
  {
   "cell_type": "code",
   "execution_count": 25,
   "metadata": {},
   "outputs": [
    {
     "name": "stdout",
     "output_type": "stream",
     "text": [
      "Costo total de los ingredientes por envase= 0.966666665\n"
     ]
    }
   ],
   "source": [
    "print(\"Costo total de los ingredientes por envase=\",value(prob.objective))"
   ]
  },
  {
   "cell_type": "markdown",
   "metadata": {},
   "source": [
    "## Formulacion completa del problema"
   ]
  },
  {
   "cell_type": "code",
   "execution_count": 26,
   "metadata": {},
   "outputs": [],
   "source": [
    "#Creamos lista de ingredientes\n",
    "ingredientes=['pollo','carne','cordero','arroz','trigo','gel']\n",
    "\n",
    "#Se crea un diccionario con los costos\n",
    "costos={'pollo':.013,'carne':.008,'cordero':.010,'arroz':.002,'trigo':.005,'gel':.001}\n",
    "\n",
    "#Se crea un diccionario con el porcentaje de proteina\n",
    "porcent_proteina={'pollo':.1,'carne':.2,'cordero':.15,'arroz':0,'trigo':.04,'gel':0}\n",
    "\n",
    "#Se crea un diccionario con el porcentaje de grasa\n",
    "porcent_grasa={'pollo':.08,'carne':.1,'cordero':.11,'arroz':.010,'trigo':.010,'gel':0}\n",
    "\n",
    "#Se crea un diccionario con el porcentaje de fibra\n",
    "porcent_fibra={'pollo':.001,'carne':.005,'cordero':.003,'arroz':.1,'trigo':.15,'gel':0}\n",
    "\n",
    "#Se crea un diccionario con el porcentaje de sal\n",
    "porcent_sal={'pollo':.002,'carne':.005,'cordero':.007,'arroz':.002,'trigo':.008,'gel':0}\n"
   ]
  },
  {
   "cell_type": "code",
   "execution_count": 27,
   "metadata": {},
   "outputs": [],
   "source": [
    "prob2=LpProblem(\"Problema Whiskas Completo\",LpMinimize)\n",
    "var_ingredientes=LpVariable.dicts(\"Ingr\",ingredientes,0)\n",
    "#se crea un diccionario que contiene las variables"
   ]
  },
  {
   "cell_type": "code",
   "execution_count": 28,
   "metadata": {},
   "outputs": [],
   "source": [
    "#se agrega la funcion objetivo al problema\n",
    "prob2 += lpSum([costos[i]*var_ingredientes[i] for i in ingredientes]) , \"Costo total de los ingredientes\""
   ]
  },
  {
   "cell_type": "code",
   "execution_count": 29,
   "metadata": {},
   "outputs": [],
   "source": [
    "#Se agregan las 5 constricciones\n",
    "prob2 += lpSum([var_ingredientes[i] for i in ingredientes])==100, \"Suma de porcentajes\"\n",
    "prob2 += lpSum([porcent_proteina[i]*var_ingredientes[i] for i in ingredientes])>=8.0, \"Requerimiento de proteina\"\n",
    "prob2 += lpSum([porcent_grasa[i]*var_ingredientes[i] for i in ingredientes])>=6.0,\"Requerimiento de grasa\"\n",
    "prob2 += lpSum([porcent_fibra[i]*var_ingredientes[i] for i in ingredientes])<=2.0, \"Requerimiento de fibra\"\n",
    "prob2 += lpSum([porcent_sal[i]*var_ingredientes[i] for i in ingredientes])<=.4 , \"Requerimiento de sal\""
   ]
  },
  {
   "cell_type": "code",
   "execution_count": 30,
   "metadata": {},
   "outputs": [
    {
     "name": "stdout",
     "output_type": "stream",
     "text": [
      "Status: Optimal\n"
     ]
    }
   ],
   "source": [
    "prob2.writeLP(\"ProblemaWhiskas.lp\")\n",
    "prob2.solve()\n",
    "print(\"Status:\", LpStatus[prob2.status])"
   ]
  },
  {
   "cell_type": "code",
   "execution_count": 31,
   "metadata": {},
   "outputs": [
    {
     "name": "stdout",
     "output_type": "stream",
     "text": [
      "Ingr_arroz = 0.0\n",
      "Ingr_carne = 60.0\n",
      "Ingr_cordero = 0.0\n",
      "Ingr_gel = 40.0\n",
      "Ingr_pollo = 0.0\n",
      "Ingr_trigo = 0.0\n"
     ]
    }
   ],
   "source": [
    "for x in prob2.variables():\n",
    "    print(x.name,\"=\",x.varValue)"
   ]
  },
  {
   "cell_type": "code",
   "execution_count": 32,
   "metadata": {},
   "outputs": [
    {
     "name": "stdout",
     "output_type": "stream",
     "text": [
      "Costo total de los ingredientes por envase= 0.52\n"
     ]
    }
   ],
   "source": [
    "print(\"Costo total de los ingredientes por envase=\",value(prob2.objective))"
   ]
  },
  {
   "cell_type": "code",
   "execution_count": null,
   "metadata": {
    "collapsed": true
   },
   "outputs": [],
   "source": []
  }
 ],
 "metadata": {
  "anaconda-cloud": {},
  "kernelspec": {
   "display_name": "Python 3",
   "language": "python",
   "name": "python3"
  },
  "language_info": {
   "codemirror_mode": {
    "name": "ipython",
    "version": 3
   },
   "file_extension": ".py",
   "mimetype": "text/x-python",
   "name": "python",
   "nbconvert_exporter": "python",
   "pygments_lexer": "ipython3",
   "version": "3.6.5"
  }
 },
 "nbformat": 4,
 "nbformat_minor": 2
}
