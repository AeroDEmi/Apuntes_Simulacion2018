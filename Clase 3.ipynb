{
 "cells": [
  {
   "cell_type": "markdown",
   "metadata": {},
   "source": [
    "# 1 Librerias"
   ]
  },
  {
   "cell_type": "code",
   "execution_count": 2,
   "metadata": {},
   "outputs": [],
   "source": [
    "%matplotlib notebook\n",
    "from sympy import *\n",
    "import numpy as np\n",
    "import matplotlib.pyplot as plt\n",
    "init_printing()"
   ]
  },
  {
   "cell_type": "markdown",
   "metadata": {},
   "source": [
    "# 2.1 Optimización de una variable"
   ]
  },
  {
   "cell_type": "markdown",
   "metadata": {},
   "source": [
    "Determine los máximos y mínimos relativos de la función $$ x^3-3x^2-24x+32$$"
   ]
  },
  {
   "cell_type": "code",
   "execution_count": 3,
   "metadata": {},
   "outputs": [
    {
     "data": {
      "image/png": "[encoded data removed]",
      "text/latex": [
       "$$\\left ( x, \\quad y, \\quad t\\right )$$"
      ],
      "text/plain": [
       "(x, y, t)"
      ]
     },
     "execution_count": 3,
     "metadata": {},
     "output_type": "execute_result"
    }
   ],
   "source": [
    "var(\"x y t\")"
   ]
  },
  {
   "cell_type": "code",
   "execution_count": 4,
   "metadata": {},
   "outputs": [
    {
     "data": {
      "application/javascript": [
       "/* Put everything inside the global mpl namespace */\n",
       "window.mpl = {};\n",
       "\n",
       "\n",
       "mpl.get_websocket_type = function() {\n",
       "    if (typeof(WebSocket) !== 'undefined') {\n",
       "        return WebSocket;\n",
       "    } else if (typeof(MozWebSocket) !== 'undefined') {\n",
       "        return MozWebSocket;\n",
       "    } else {\n",
       "        alert('Your browser does not have WebSocket support.' +\n",
       "              'Please try Chrome, Safari or Firefox ≥ 6. ' +\n",
       "              'Firefox 4 and 5 are also supported but you ' +\n",
       "              'have to enable WebSockets in about:config.');\n",
       "    };\n",
       "}\n",
       "\n",
       "mpl.figure = function(figure_id, websocket, ondownload, parent_element) {\n",
       "    this.id = figure_id;\n",
       "\n",
       "    this.ws = websocket;\n",
       "\n",
       "    this.supports_binary = (this.ws.binaryType != undefined);\n",
       "\n",
       "    if (!this.supports_binary) {\n",
       "        var warnings = document.getElementById(\"mpl-warnings\");\n",
       "        if (warnings) {\n",
       "            warnings.style.display = 'block';\n",
       "            warnings.textContent = (\n",
       "                \"This browser does not support binary websocket messages. \" +\n",
       "                    \"Performance may be slow.\");\n",
       "        }\n",
       "    }\n",
       "\n",
       "    this.imageObj = new Image();\n",
       "\n",
       "    this.context = undefined;\n",
       "    this.message = undefined;\n",
       "    this.canvas = undefined;\n",
       "    this.rubberband_canvas = undefined;\n",
       "    this.rubberband_context = undefined;\n",
       "    this.format_dropdown = undefined;\n",
       "\n",
       "    this.image_mode = 'full';\n",
       "\n",
       "    this.root = $('<div/>');\n",
       "    this._root_extra_style(this.root)\n",
       "    this.root.attr('style', 'display: inline-block');\n",
       "\n",
       "    $(parent_element).append(this.root);\n",
       "\n",
       "    this._init_header(this);\n",
       "    this._init_canvas(this);\n",
       "    this._init_toolbar(this);\n",
       "\n",
       "    var fig = this;\n",
       "\n",
       "    this.waiting = false;\n",
       "\n",
       "    this.ws.onopen =  function () {\n",
       "            fig.send_message(\"supports_binary\", {value: fig.supports_binary});\n",
       "            fig.send_message(\"send_image_mode\", {});\n",
       "            if (mpl.ratio != 1) {\n",
       "                fig.send_message(\"set_dpi_ratio\", {'dpi_ratio': mpl.ratio});\n",
       "            }\n",
       "            fig.send_message(\"refresh\", {});\n",
       "        }\n",
       "\n",
       "    this.imageObj.onload = function() {\n",
       "            if (fig.image_mode == 'full') {\n",
       "                // Full images could contain transparency (where diff images\n",
       "                // almost always do), so we need to clear the canvas so that\n",
       "                // there is no ghosting.\n",
       "                fig.context.clearRect(0, 0, fig.canvas.width, fig.canvas.height);\n",
       "            }\n",
       "            fig.context.drawImage(fig.imageObj, 0, 0);\n",
       "        };\n",
       "\n",
       "    this.imageObj.onunload = function() {\n",
       "        fig.ws.close();\n",
       "    }\n",
       "\n",
       "    this.ws.onmessage = this._make_on_message_function(this);\n",
       "\n",
       "    this.ondownload = ondownload;\n",
       "}\n",
       "\n",
       "mpl.figure.prototype._init_header = function() {\n",
       "    var titlebar = $(\n",
       "        '<div class=\"ui-dialog-titlebar ui-widget-header ui-corner-all ' +\n",
       "        'ui-helper-clearfix\"/>');\n",
       "    var titletext = $(\n",
       "        '<div class=\"ui-dialog-title\" style=\"width: 100%; ' +\n",
       "        'text-align: center; padding: 3px;\"/>');\n",
       "    titlebar.append(titletext)\n",
       "    this.root.append(titlebar);\n",
       "    this.header = titletext[0];\n",
       "}\n",
       "\n",
       "\n",
       "\n",
       "mpl.figure.prototype._canvas_extra_style = function(canvas_div) {\n",
       "\n",
       "}\n",
       "\n",
       "\n",
       "mpl.figure.prototype._root_extra_style = function(canvas_div) {\n",
       "\n",
       "}\n",
       "\n",
       "mpl.figure.prototype._init_canvas = function() {\n",
       "    var fig = this;\n",
       "\n",
       "    var canvas_div = $('<div/>');\n",
       "\n",
       "    canvas_div.attr('style', 'position: relative; clear: both; outline: 0');\n",
       "\n",
       "    function canvas_keyboard_event(event) {\n",
       "        return fig.key_event(event, event['data']);\n",
       "    }\n",
       "\n",
       "    canvas_div.keydown('key_press', canvas_keyboard_event);\n",
       "    canvas_div.keyup('key_release', canvas_keyboard_event);\n",
       "    this.canvas_div = canvas_div\n",
       "    this._canvas_extra_style(canvas_div)\n",
       "    this.root.append(canvas_div);\n",
       "\n",
       "    var canvas = $('<canvas/>');\n",
       "    canvas.addClass('mpl-canvas');\n",
       "    canvas.attr('style', \"left: 0; top: 0; z-index: 0; outline: 0\")\n",
       "\n",
       "    this.canvas = canvas[0];\n",
       "    this.context = canvas[0].getContext(\"2d\");\n",
       "\n",
       "    var backingStore = this.context.backingStorePixelRatio ||\n",
       "\tthis.context.webkitBackingStorePixelRatio ||\n",
       "\tthis.context.mozBackingStorePixelRatio ||\n",
       "\tthis.context.msBackingStorePixelRatio ||\n",
       "\tthis.context.oBackingStorePixelRatio ||\n",
       "\tthis.context.backingStorePixelRatio || 1;\n",
       "\n",
       "    mpl.ratio = (window.devicePixelRatio || 1) / backingStore;\n",
       "\n",
       "    var rubberband = $('<canvas/>');\n",
       "    rubberband.attr('style', \"position: absolute; left: 0; top: 0; z-index: 1;\")\n",
       "\n",
       "    var pass_mouse_events = true;\n",
       "\n",
       "    canvas_div.resizable({\n",
       "        start: function(event, ui) {\n",
       "            pass_mouse_events = false;\n",
       "        },\n",
       "        resize: function(event, ui) {\n",
       "            fig.request_resize(ui.size.width, ui.size.height);\n",
       "        },\n",
       "        stop: function(event, ui) {\n",
       "            pass_mouse_events = true;\n",
       "            fig.request_resize(ui.size.width, ui.size.height);\n",
       "        },\n",
       "    });\n",
       "\n",
       "    function mouse_event_fn(event) {\n",
       "        if (pass_mouse_events)\n",
       "            return fig.mouse_event(event, event['data']);\n",
       "    }\n",
       "\n",
       "    rubberband.mousedown('button_press', mouse_event_fn);\n",
       "    rubberband.mouseup('button_release', mouse_event_fn);\n",
       "    // Throttle sequential mouse events to 1 every 20ms.\n",
       "    rubberband.mousemove('motion_notify', mouse_event_fn);\n",
       "\n",
       "    rubberband.mouseenter('figure_enter', mouse_event_fn);\n",
       "    rubberband.mouseleave('figure_leave', mouse_event_fn);\n",
       "\n",
       "    canvas_div.on(\"wheel\", function (event) {\n",
       "        event = event.originalEvent;\n",
       "        event['data'] = 'scroll'\n",
       "        if (event.deltaY < 0) {\n",
       "            event.step = 1;\n",
       "        } else {\n",
       "            event.step = -1;\n",
       "        }\n",
       "        mouse_event_fn(event);\n",
       "    });\n",
       "\n",
       "    canvas_div.append(canvas);\n",
       "    canvas_div.append(rubberband);\n",
       "\n",
       "    this.rubberband = rubberband;\n",
       "    this.rubberband_canvas = rubberband[0];\n",
       "    this.rubberband_context = rubberband[0].getContext(\"2d\");\n",
       "    this.rubberband_context.strokeStyle = \"#000000\";\n",
       "\n",
       "    this._resize_canvas = function(width, height) {\n",
       "        // Keep the size of the canvas, canvas container, and rubber band\n",
       "        // canvas in synch.\n",
       "        canvas_div.css('width', width)\n",
       "        canvas_div.css('height', height)\n",
       "\n",
       "        canvas.attr('width', width * mpl.ratio);\n",
       "        canvas.attr('height', height * mpl.ratio);\n",
       "        canvas.attr('style', 'width: ' + width + 'px; height: ' + height + 'px;');\n",
       "\n",
       "        rubberband.attr('width', width);\n",
       "        rubberband.attr('height', height);\n",
       "    }\n",
       "\n",
       "    // Set the figure to an initial 600x600px, this will subsequently be updated\n",
       "    // upon first draw.\n",
       "    this._resize_canvas(600, 600);\n",
       "\n",
       "    // Disable right mouse context menu.\n",
       "    $(this.rubberband_canvas).bind(\"contextmenu\",function(e){\n",
       "        return false;\n",
       "    });\n",
       "\n",
       "    function set_focus () {\n",
       "        canvas.focus();\n",
       "        canvas_div.focus();\n",
       "    }\n",
       "\n",
       "    window.setTimeout(set_focus, 100);\n",
       "}\n",
       "\n",
       "mpl.figure.prototype._init_toolbar = function() {\n",
       "    var fig = this;\n",
       "\n",
       "    var nav_element = $('<div/>')\n",
       "    nav_element.attr('style', 'width: 100%');\n",
       "    this.root.append(nav_element);\n",
       "\n",
       "    // Define a callback function for later on.\n",
       "    function toolbar_event(event) {\n",
       "        return fig.toolbar_button_onclick(event['data']);\n",
       "    }\n",
       "    function toolbar_mouse_event(event) {\n",
       "        return fig.toolbar_button_onmouseover(event['data']);\n",
       "    }\n",
       "\n",
       "    for(var toolbar_ind in mpl.toolbar_items) {\n",
       "        var name = mpl.toolbar_items[toolbar_ind][0];\n",
       "        var tooltip = mpl.toolbar_items[toolbar_ind][1];\n",
       "        var image = mpl.toolbar_items[toolbar_ind][2];\n",
       "        var method_name = mpl.toolbar_items[toolbar_ind][3];\n",
       "\n",
       "        if (!name) {\n",
       "            // put a spacer in here.\n",
       "            continue;\n",
       "        }\n",
       "        var button = $('<button/>');\n",
       "        button.addClass('ui-button ui-widget ui-state-default ui-corner-all ' +\n",
       "                        'ui-button-icon-only');\n",
       "        button.attr('role', 'button');\n",
       "        button.attr('aria-disabled', 'false');\n",
       "        button.click(method_name, toolbar_event);\n",
       "        button.mouseover(tooltip, toolbar_mouse_event);\n",
       "\n",
       "        var icon_img = $('<span/>');\n",
       "        icon_img.addClass('ui-button-icon-primary ui-icon');\n",
       "        icon_img.addClass(image);\n",
       "        icon_img.addClass('ui-corner-all');\n",
       "\n",
       "        var tooltip_span = $('<span/>');\n",
       "        tooltip_span.addClass('ui-button-text');\n",
       "        tooltip_span.html(tooltip);\n",
       "\n",
       "        button.append(icon_img);\n",
       "        button.append(tooltip_span);\n",
       "\n",
       "        nav_element.append(button);\n",
       "    }\n",
       "\n",
       "    var fmt_picker_span = $('<span/>');\n",
       "\n",
       "    var fmt_picker = $('<select/>');\n",
       "    fmt_picker.addClass('mpl-toolbar-option ui-widget ui-widget-content');\n",
       "    fmt_picker_span.append(fmt_picker);\n",
       "    nav_element.append(fmt_picker_span);\n",
       "    this.format_dropdown = fmt_picker[0];\n",
       "\n",
       "    for (var ind in mpl.extensions) {\n",
       "        var fmt = mpl.extensions[ind];\n",
       "        var option = $(\n",
       "            '<option/>', {selected: fmt === mpl.default_extension}).html(fmt);\n",
       "        fmt_picker.append(option)\n",
       "    }\n",
       "\n",
       "    // Add hover states to the ui-buttons\n",
       "    $( \".ui-button\" ).hover(\n",
       "        function() { $(this).addClass(\"ui-state-hover\");},\n",
       "        function() { $(this).removeClass(\"ui-state-hover\");}\n",
       "    );\n",
       "\n",
       "    var status_bar = $('<span class=\"mpl-message\"/>');\n",
       "    nav_element.append(status_bar);\n",
       "    this.message = status_bar[0];\n",
       "}\n",
       "\n",
       "mpl.figure.prototype.request_resize = function(x_pixels, y_pixels) {\n",
       "    // Request matplotlib to resize the figure. Matplotlib will then trigger a resize in the client,\n",
       "    // which will in turn request a refresh of the image.\n",
       "    this.send_message('resize', {'width': x_pixels, 'height': y_pixels});\n",
       "}\n",
       "\n",
       "mpl.figure.prototype.send_message = function(type, properties) {\n",
       "    properties['type'] = type;\n",
       "    properties['figure_id'] = this.id;\n",
       "    this.ws.send(JSON.stringify(properties));\n",
       "}\n",
       "\n",
       "mpl.figure.prototype.send_draw_message = function() {\n",
       "    if (!this.waiting) {\n",
       "        this.waiting = true;\n",
       "        this.ws.send(JSON.stringify({type: \"draw\", figure_id: this.id}));\n",
       "    }\n",
       "}\n",
       "\n",
       "\n",
       "mpl.figure.prototype.handle_save = function(fig, msg) {\n",
       "    var format_dropdown = fig.format_dropdown;\n",
       "    var format = format_dropdown.options[format_dropdown.selectedIndex].value;\n",
       "    fig.ondownload(fig, format);\n",
       "}\n",
       "\n",
       "\n",
       "mpl.figure.prototype.handle_resize = function(fig, msg) {\n",
       "    var size = msg['size'];\n",
       "    if (size[0] != fig.canvas.width || size[1] != fig.canvas.height) {\n",
       "        fig._resize_canvas(size[0], size[1]);\n",
       "        fig.send_message(\"refresh\", {});\n",
       "    };\n",
       "}\n",
       "\n",
       "mpl.figure.prototype.handle_rubberband = function(fig, msg) {\n",
       "    var x0 = msg['x0'] / mpl.ratio;\n",
       "    var y0 = (fig.canvas.height - msg['y0']) / mpl.ratio;\n",
       "    var x1 = msg['x1'] / mpl.ratio;\n",
       "    var y1 = (fig.canvas.height - msg['y1']) / mpl.ratio;\n",
       "    x0 = Math.floor(x0) + 0.5;\n",
       "    y0 = Math.floor(y0) + 0.5;\n",
       "    x1 = Math.floor(x1) + 0.5;\n",
       "    y1 = Math.floor(y1) + 0.5;\n",
       "    var min_x = Math.min(x0, x1);\n",
       "    var min_y = Math.min(y0, y1);\n",
       "    var width = Math.abs(x1 - x0);\n",
       "    var height = Math.abs(y1 - y0);\n",
       "\n",
       "    fig.rubberband_context.clearRect(\n",
       "        0, 0, fig.canvas.width, fig.canvas.height);\n",
       "\n",
       "    fig.rubberband_context.strokeRect(min_x, min_y, width, height);\n",
       "}\n",
       "\n",
       "mpl.figure.prototype.handle_figure_label = function(fig, msg) {\n",
       "    // Updates the figure title.\n",
       "    fig.header.textContent = msg['label'];\n",
       "}\n",
       "\n",
       "mpl.figure.prototype.handle_cursor = function(fig, msg) {\n",
       "    var cursor = msg['cursor'];\n",
       "    switch(cursor)\n",
       "    {\n",
       "    case 0:\n",
       "        cursor = 'pointer';\n",
       "        break;\n",
       "    case 1:\n",
       "        cursor = 'default';\n",
       "        break;\n",
       "    case 2:\n",
       "        cursor = 'crosshair';\n",
       "        break;\n",
       "    case 3:\n",
       "        cursor = 'move';\n",
       "        break;\n",
       "    }\n",
       "    fig.rubberband_canvas.style.cursor = cursor;\n",
       "}\n",
       "\n",
       "mpl.figure.prototype.handle_message = function(fig, msg) {\n",
       "    fig.message.textContent = msg['message'];\n",
       "}\n",
       "\n",
       "mpl.figure.prototype.handle_draw = function(fig, msg) {\n",
       "    // Request the server to send over a new figure.\n",
       "    fig.send_draw_message();\n",
       "}\n",
       "\n",
       "mpl.figure.prototype.handle_image_mode = function(fig, msg) {\n",
       "    fig.image_mode = msg['mode'];\n",
       "}\n",
       "\n",
       "mpl.figure.prototype.updated_canvas_event = function() {\n",
       "    // Called whenever the canvas gets updated.\n",
       "    this.send_message(\"ack\", {});\n",
       "}\n",
       "\n",
       "// A function to construct a web socket function for onmessage handling.\n",
       "// Called in the figure constructor.\n",
       "mpl.figure.prototype._make_on_message_function = function(fig) {\n",
       "    return function socket_on_message(evt) {\n",
       "        if (evt.data instanceof Blob) {\n",
       "            /* FIXME: We get \"Resource interpreted as Image but\n",
       "             * transferred with MIME type text/plain:\" errors on\n",
       "             * Chrome.  But how to set the MIME type?  It doesn't seem\n",
       "             * to be part of the websocket stream */\n",
       "            evt.data.type = \"image/png\";\n",
       "\n",
       "            /* Free the memory for the previous frames */\n",
       "            if (fig.imageObj.src) {\n",
       "                (window.URL || window.webkitURL).revokeObjectURL(\n",
       "                    fig.imageObj.src);\n",
       "            }\n",
       "\n",
       "            fig.imageObj.src = (window.URL || window.webkitURL).createObjectURL(\n",
       "                evt.data);\n",
       "            fig.updated_canvas_event();\n",
       "            fig.waiting = false;\n",
       "            return;\n",
       "        }\n",
       "        else if (typeof evt.data === 'string' && evt.data.slice(0, 21) == \"data:image/png;base64\") {\n",
       "            fig.imageObj.src = evt.data;\n",
       "            fig.updated_canvas_event();\n",
       "            fig.waiting = false;\n",
       "            return;\n",
       "        }\n",
       "\n",
       "        var msg = JSON.parse(evt.data);\n",
       "        var msg_type = msg['type'];\n",
       "\n",
       "        // Call the  \"handle_{type}\" callback, which takes\n",
       "        // the figure and JSON message as its only arguments.\n",
       "        try {\n",
       "            var callback = fig[\"handle_\" + msg_type];\n",
       "        } catch (e) {\n",
       "            console.log(\"No handler for the '\" + msg_type + \"' message type: \", msg);\n",
       "            return;\n",
       "        }\n",
       "\n",
       "        if (callback) {\n",
       "            try {\n",
       "                // console.log(\"Handling '\" + msg_type + \"' message: \", msg);\n",
       "                callback(fig, msg);\n",
       "            } catch (e) {\n",
       "                console.log(\"Exception inside the 'handler_\" + msg_type + \"' callback:\", e, e.stack, msg);\n",
       "            }\n",
       "        }\n",
       "    };\n",
       "}\n",
       "\n",
       "// from http://stackoverflow.com/questions/1114465/getting-mouse-location-in-canvas\n",
       "mpl.findpos = function(e) {\n",
       "    //this section is from http://www.quirksmode.org/js/events_properties.html\n",
       "    var targ;\n",
       "    if (!e)\n",
       "        e = window.event;\n",
       "    if (e.target)\n",
       "        targ = e.target;\n",
       "    else if (e.srcElement)\n",
       "        targ = e.srcElement;\n",
       "    if (targ.nodeType == 3) // defeat Safari bug\n",
       "        targ = targ.parentNode;\n",
       "\n",
       "    // jQuery normalizes the pageX and pageY\n",
       "    // pageX,Y are the mouse positions relative to the document\n",
       "    // offset() returns the position of the element relative to the document\n",
       "    var x = e.pageX - $(targ).offset().left;\n",
       "    var y = e.pageY - $(targ).offset().top;\n",
       "\n",
       "    return {\"x\": x, \"y\": y};\n",
       "};\n",
       "\n",
       "/*\n",
       " * return a copy of an object with only non-object keys\n",
       " * we need this to avoid circular references\n",
       " * http://stackoverflow.com/a/24161582/3208463\n",
       " */\n",
       "function simpleKeys (original) {\n",
       "  return Object.keys(original).reduce(function (obj, key) {\n",
       "    if (typeof original[key] !== 'object')\n",
       "        obj[key] = original[key]\n",
       "    return obj;\n",
       "  }, {});\n",
       "}\n",
       "\n",
       "mpl.figure.prototype.mouse_event = function(event, name) {\n",
       "    var canvas_pos = mpl.findpos(event)\n",
       "\n",
       "    if (name === 'button_press')\n",
       "    {\n",
       "        this.canvas.focus();\n",
       "        this.canvas_div.focus();\n",
       "    }\n",
       "\n",
       "    var x = canvas_pos.x * mpl.ratio;\n",
       "    var y = canvas_pos.y * mpl.ratio;\n",
       "\n",
       "    this.send_message(name, {x: x, y: y, button: event.button,\n",
       "                             step: event.step,\n",
       "                             guiEvent: simpleKeys(event)});\n",
       "\n",
       "    /* This prevents the web browser from automatically changing to\n",
       "     * the text insertion cursor when the button is pressed.  We want\n",
       "     * to control all of the cursor setting manually through the\n",
       "     * 'cursor' event from matplotlib */\n",
       "    event.preventDefault();\n",
       "    return false;\n",
       "}\n",
       "\n",
       "mpl.figure.prototype._key_event_extra = function(event, name) {\n",
       "    // Handle any extra behaviour associated with a key event\n",
       "}\n",
       "\n",
       "mpl.figure.prototype.key_event = function(event, name) {\n",
       "\n",
       "    // Prevent repeat events\n",
       "    if (name == 'key_press')\n",
       "    {\n",
       "        if (event.which === this._key)\n",
       "            return;\n",
       "        else\n",
       "            this._key = event.which;\n",
       "    }\n",
       "    if (name == 'key_release')\n",
       "        this._key = null;\n",
       "\n",
       "    var value = '';\n",
       "    if (event.ctrlKey && event.which != 17)\n",
       "        value += \"ctrl+\";\n",
       "    if (event.altKey && event.which != 18)\n",
       "        value += \"alt+\";\n",
       "    if (event.shiftKey && event.which != 16)\n",
       "        value += \"shift+\";\n",
       "\n",
       "    value += 'k';\n",
       "    value += event.which.toString();\n",
       "\n",
       "    this._key_event_extra(event, name);\n",
       "\n",
       "    this.send_message(name, {key: value,\n",
       "                             guiEvent: simpleKeys(event)});\n",
       "    return false;\n",
       "}\n",
       "\n",
       "mpl.figure.prototype.toolbar_button_onclick = function(name) {\n",
       "    if (name == 'download') {\n",
       "        this.handle_save(this, null);\n",
       "    } else {\n",
       "        this.send_message(\"toolbar_button\", {name: name});\n",
       "    }\n",
       "};\n",
       "\n",
       "mpl.figure.prototype.toolbar_button_onmouseover = function(tooltip) {\n",
       "    this.message.textContent = tooltip;\n",
       "};\n",
       "mpl.toolbar_items = [[\"Home\", \"Reset original view\", \"fa fa-home icon-home\", \"home\"], [\"Back\", \"Back to  previous view\", \"fa fa-arrow-left icon-arrow-left\", \"back\"], [\"Forward\", \"Forward to next view\", \"fa fa-arrow-right icon-arrow-right\", \"forward\"], [\"\", \"\", \"\", \"\"], [\"Pan\", \"Pan axes with left mouse, zoom with right\", \"fa fa-arrows icon-move\", \"pan\"], [\"Zoom\", \"Zoom to rectangle\", \"fa fa-square-o icon-check-empty\", \"zoom\"], [\"\", \"\", \"\", \"\"], [\"Download\", \"Download plot\", \"fa fa-floppy-o icon-save\", \"download\"]];\n",
       "\n",
       "mpl.extensions = [\"eps\", \"jpeg\", \"pdf\", \"png\", \"ps\", \"raw\", \"svg\", \"tif\"];\n",
       "\n",
       "mpl.default_extension = \"png\";var comm_websocket_adapter = function(comm) {\n",
       "    // Create a \"websocket\"-like object which calls the given IPython comm\n",
       "    // object with the appropriate methods. Currently this is a non binary\n",
       "    // socket, so there is still some room for performance tuning.\n",
       "    var ws = {};\n",
       "\n",
       "    ws.close = function() {\n",
       "        comm.close()\n",
       "    };\n",
       "    ws.send = function(m) {\n",
       "        //console.log('sending', m);\n",
       "        comm.send(m);\n",
       "    };\n",
       "    // Register the callback with on_msg.\n",
       "    comm.on_msg(function(msg) {\n",
       "        //console.log('receiving', msg['content']['data'], msg);\n",
       "        // Pass the mpl event to the overridden (by mpl) onmessage function.\n",
       "        ws.onmessage(msg['content']['data'])\n",
       "    });\n",
       "    return ws;\n",
       "}\n",
       "\n",
       "mpl.mpl_figure_comm = function(comm, msg) {\n",
       "    // This is the function which gets called when the mpl process\n",
       "    // starts-up an IPython Comm through the \"matplotlib\" channel.\n",
       "\n",
       "    var id = msg.content.data.id;\n",
       "    // Get hold of the div created by the display call when the Comm\n",
       "    // socket was opened in Python.\n",
       "    var element = $(\"#\" + id);\n",
       "    var ws_proxy = comm_websocket_adapter(comm)\n",
       "\n",
       "    function ondownload(figure, format) {\n",
       "        window.open(figure.imageObj.src);\n",
       "    }\n",
       "\n",
       "    var fig = new mpl.figure(id, ws_proxy,\n",
       "                           ondownload,\n",
       "                           element.get(0));\n",
       "\n",
       "    // Call onopen now - mpl needs it, as it is assuming we've passed it a real\n",
       "    // web socket which is closed, not our websocket->open comm proxy.\n",
       "    ws_proxy.onopen();\n",
       "\n",
       "    fig.parent_element = element.get(0);\n",
       "    fig.cell_info = mpl.find_output_cell(\"<div id='\" + id + \"'></div>\");\n",
       "    if (!fig.cell_info) {\n",
       "        console.error(\"Failed to find cell for figure\", id, fig);\n",
       "        return;\n",
       "    }\n",
       "\n",
       "    var output_index = fig.cell_info[2]\n",
       "    var cell = fig.cell_info[0];\n",
       "\n",
       "};\n",
       "\n",
       "mpl.figure.prototype.handle_close = function(fig, msg) {\n",
       "    var width = fig.canvas.width/mpl.ratio\n",
       "    fig.root.unbind('remove')\n",
       "\n",
       "    // Update the output cell to use the data from the current canvas.\n",
       "    fig.push_to_output();\n",
       "    var dataURL = fig.canvas.toDataURL();\n",
       "    // Re-enable the keyboard manager in IPython - without this line, in FF,\n",
       "    // the notebook keyboard shortcuts fail.\n",
       "    IPython.keyboard_manager.enable()\n",
       "    $(fig.parent_element).html('<img src=\"' + dataURL + '\" width=\"' + width + '\">');\n",
       "    fig.close_ws(fig, msg);\n",
       "}\n",
       "\n",
       "mpl.figure.prototype.close_ws = function(fig, msg){\n",
       "    fig.send_message('closing', msg);\n",
       "    // fig.ws.close()\n",
       "}\n",
       "\n",
       "mpl.figure.prototype.push_to_output = function(remove_interactive) {\n",
       "    // Turn the data on the canvas into data in the output cell.\n",
       "    var width = this.canvas.width/mpl.ratio\n",
       "    var dataURL = this.canvas.toDataURL();\n",
       "    this.cell_info[1]['text/html'] = '<img src=\"' + dataURL + '\" width=\"' + width + '\">';\n",
       "}\n",
       "\n",
       "mpl.figure.prototype.updated_canvas_event = function() {\n",
       "    // Tell IPython that the notebook contents must change.\n",
       "    IPython.notebook.set_dirty(true);\n",
       "    this.send_message(\"ack\", {});\n",
       "    var fig = this;\n",
       "    // Wait a second, then push the new image to the DOM so\n",
       "    // that it is saved nicely (might be nice to debounce this).\n",
       "    setTimeout(function () { fig.push_to_output() }, 1000);\n",
       "}\n",
       "\n",
       "mpl.figure.prototype._init_toolbar = function() {\n",
       "    var fig = this;\n",
       "\n",
       "    var nav_element = $('<div/>')\n",
       "    nav_element.attr('style', 'width: 100%');\n",
       "    this.root.append(nav_element);\n",
       "\n",
       "    // Define a callback function for later on.\n",
       "    function toolbar_event(event) {\n",
       "        return fig.toolbar_button_onclick(event['data']);\n",
       "    }\n",
       "    function toolbar_mouse_event(event) {\n",
       "        return fig.toolbar_button_onmouseover(event['data']);\n",
       "    }\n",
       "\n",
       "    for(var toolbar_ind in mpl.toolbar_items){\n",
       "        var name = mpl.toolbar_items[toolbar_ind][0];\n",
       "        var tooltip = mpl.toolbar_items[toolbar_ind][1];\n",
       "        var image = mpl.toolbar_items[toolbar_ind][2];\n",
       "        var method_name = mpl.toolbar_items[toolbar_ind][3];\n",
       "\n",
       "        if (!name) { continue; };\n",
       "\n",
       "        var button = $('<button class=\"btn btn-default\" href=\"#\" title=\"' + name + '\"><i class=\"fa ' + image + ' fa-lg\"></i></button>');\n",
       "        button.click(method_name, toolbar_event);\n",
       "        button.mouseover(tooltip, toolbar_mouse_event);\n",
       "        nav_element.append(button);\n",
       "    }\n",
       "\n",
       "    // Add the status bar.\n",
       "    var status_bar = $('<span class=\"mpl-message\" style=\"text-align:right; float: right;\"/>');\n",
       "    nav_element.append(status_bar);\n",
       "    this.message = status_bar[0];\n",
       "\n",
       "    // Add the close button to the window.\n",
       "    var buttongrp = $('<div class=\"btn-group inline pull-right\"></div>');\n",
       "    var button = $('<button class=\"btn btn-mini btn-primary\" href=\"#\" title=\"Stop Interaction\"><i class=\"fa fa-power-off icon-remove icon-large\"></i></button>');\n",
       "    button.click(function (evt) { fig.handle_close(fig, {}); } );\n",
       "    button.mouseover('Stop Interaction', toolbar_mouse_event);\n",
       "    buttongrp.append(button);\n",
       "    var titlebar = this.root.find($('.ui-dialog-titlebar'));\n",
       "    titlebar.prepend(buttongrp);\n",
       "}\n",
       "\n",
       "mpl.figure.prototype._root_extra_style = function(el){\n",
       "    var fig = this\n",
       "    el.on(\"remove\", function(){\n",
       "\tfig.close_ws(fig, {});\n",
       "    });\n",
       "}\n",
       "\n",
       "mpl.figure.prototype._canvas_extra_style = function(el){\n",
       "    // this is important to make the div 'focusable\n",
       "    el.attr('tabindex', 0)\n",
       "    // reach out to IPython and tell the keyboard manager to turn it's self\n",
       "    // off when our div gets focus\n",
       "\n",
       "    // location in version 3\n",
       "    if (IPython.notebook.keyboard_manager) {\n",
       "        IPython.notebook.keyboard_manager.register_events(el);\n",
       "    }\n",
       "    else {\n",
       "        // location in version 2\n",
       "        IPython.keyboard_manager.register_events(el);\n",
       "    }\n",
       "\n",
       "}\n",
       "\n",
       "mpl.figure.prototype._key_event_extra = function(event, name) {\n",
       "    var manager = IPython.notebook.keyboard_manager;\n",
       "    if (!manager)\n",
       "        manager = IPython.keyboard_manager;\n",
       "\n",
       "    // Check for shift+enter\n",
       "    if (event.shiftKey && event.which == 13) {\n",
       "        this.canvas_div.blur();\n",
       "        event.shiftKey = false;\n",
       "        // Send a \"J\" for go to next cell\n",
       "        event.which = 74;\n",
       "        event.keyCode = 74;\n",
       "        manager.command_mode();\n",
       "        manager.handle_keydown(event);\n",
       "    }\n",
       "}\n",
       "\n",
       "mpl.figure.prototype.handle_save = function(fig, msg) {\n",
       "    fig.ondownload(fig, null);\n",
       "}\n",
       "\n",
       "\n",
       "mpl.find_output_cell = function(html_output) {\n",
       "    // Return the cell and output element which can be found *uniquely* in the notebook.\n",
       "    // Note - this is a bit hacky, but it is done because the \"notebook_saving.Notebook\"\n",
       "    // IPython event is triggered only after the cells have been serialised, which for\n",
       "    // our purposes (turning an active figure into a static one), is too late.\n",
       "    var cells = IPython.notebook.get_cells();\n",
       "    var ncells = cells.length;\n",
       "    for (var i=0; i<ncells; i++) {\n",
       "        var cell = cells[i];\n",
       "        if (cell.cell_type === 'code'){\n",
       "            for (var j=0; j<cell.output_area.outputs.length; j++) {\n",
       "                var data = cell.output_area.outputs[j];\n",
       "                if (data.data) {\n",
       "                    // IPython >= 3 moved mimebundle to data attribute of output\n",
       "                    data = data.data;\n",
       "                }\n",
       "                if (data['text/html'] == html_output) {\n",
       "                    return [cell, data, j];\n",
       "                }\n",
       "            }\n",
       "        }\n",
       "    }\n",
       "}\n",
       "\n",
       "// Register the function which deals with the matplotlib target/channel.\n",
       "// The kernel may be null if the page has been refreshed.\n",
       "if (IPython.notebook.kernel != null) {\n",
       "    IPython.notebook.kernel.comm_manager.register_target('matplotlib', mpl.mpl_figure_comm);\n",
       "}\n"
      ],
      "text/plain": [
       "<IPython.core.display.Javascript object>"
      ]
     },
     "metadata": {},
     "output_type": "display_data"
    },
    {
     "data": {
      "text/html": [
       "<img src=\"data:image/png;base64,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\" width=\"640\">"
      ],
      "text/plain": [
       "<IPython.core.display.HTML object>"
      ]
     },
     "metadata": {},
     "output_type": "display_data"
    },
    {
     "data": {
      "text/plain": [
       "<sympy.plotting.plot.Plot at 0x1991e0024a8>"
      ]
     },
     "execution_count": 4,
     "metadata": {},
     "output_type": "execute_result"
    }
   ],
   "source": [
    "f=x**3-3*x**2-24*x+32\n",
    "plot(f)"
   ]
  },
  {
   "cell_type": "markdown",
   "metadata": {},
   "source": [
    "# 3 Procedimiento para determinar los máximos y mínimos relativos de una función"
   ]
  },
  {
   "cell_type": "markdown",
   "metadata": {},
   "source": [
    "- Calcular  $f´(x)$ y $f´´(x)$"
   ]
  },
  {
   "cell_type": "code",
   "execution_count": 5,
   "metadata": {},
   "outputs": [
    {
     "data": {
      "image/png": "[encoded data removed]",
      "text/latex": [
       "$$\\left ( x^{3} - 3 x^{2} - 24 x + 32, \\quad 3 x^{2} - 6 x - 24, \\quad 6 x - 6\\right )$$"
      ],
      "text/plain": [
       "⎛ 3      2                 2                    ⎞\n",
       "⎝x  - 3⋅x  - 24⋅x + 32, 3⋅x  - 6⋅x - 24, 6⋅x - 6⎠"
      ]
     },
     "execution_count": 5,
     "metadata": {},
     "output_type": "execute_result"
    }
   ],
   "source": [
    "f=x**3-3*x**2-24*x+32\n",
    "df=f.diff()\n",
    "ddf=df.diff()\n",
    "f,df,ddf"
   ]
  },
  {
   "cell_type": "markdown",
   "metadata": {},
   "source": [
    "* Determine los valores críticos de la función en las cuales $$f´(x)=0$$"
   ]
  },
  {
   "cell_type": "code",
   "execution_count": 6,
   "metadata": {},
   "outputs": [
    {
     "data": {
      "image/png": "[encoded data removed]",
      "text/latex": [
       "$$\\left [ -2, \\quad 4\\right ]$$"
      ],
      "text/plain": [
       "[-2, 4]"
      ]
     },
     "execution_count": 6,
     "metadata": {},
     "output_type": "execute_result"
    }
   ],
   "source": [
    "pc=solve(df)\n",
    "pc"
   ]
  },
  {
   "cell_type": "markdown",
   "metadata": {},
   "source": [
    "* Calcule $f´´(c)$ para cada valor crítico c"
   ]
  },
  {
   "cell_type": "code",
   "execution_count": 7,
   "metadata": {},
   "outputs": [
    {
     "data": {
      "image/png": "[encoded data removed]",
      "text/latex": [
       "$$\\left ( -18, \\quad 18\\right )$$"
      ],
      "text/plain": [
       "(-18, 18)"
      ]
     },
     "execution_count": 7,
     "metadata": {},
     "output_type": "execute_result"
    }
   ],
   "source": [
    "ddf.subs(x,pc[0]),ddf.subs(x,pc[1])"
   ]
  },
  {
   "cell_type": "markdown",
   "metadata": {},
   "source": [
    "* Si $f´´(c) < 0$, encontes f tiene un máximo relativo en c\n",
    "* Si $f´´(c) >0 $, entonces f tiene mun mínimo relativo en c"
   ]
  },
  {
   "cell_type": "markdown",
   "metadata": {},
   "source": [
    "# 3.1 Ejemplo"
   ]
  },
  {
   "cell_type": "markdown",
   "metadata": {},
   "source": [
    "Un agricultor tiene 2400 metros de material y quiere construir una barda para cercar un campo rectangular que bordea un rió recto, de modo que no necesita barda a lo largo del río.\n",
    "¿Cuáles son las dimensiones que debe tener el campo para encerrar el área más grande?"
   ]
  },
  {
   "cell_type": "markdown",
   "metadata": {},
   "source": [
    "* Queremos maximinar el área A del rectángulo $$A(x,y)=xy$$\n",
    "\n",
    "Además tenemos una restricción, utilizamos la información dada de que la longitud total de la barda es 2400 metros\n",
    "$$2x+y=2400$$\n"
   ]
  },
  {
   "cell_type": "code",
   "execution_count": 8,
   "metadata": {},
   "outputs": [
    {
     "name": "stdout",
     "output_type": "stream",
     "text": [
      "Ingrese material total a usar 1000\n"
     ]
    },
    {
     "data": {
      "image/png": "[encoded data removed]",
      "text/latex": [
       "$$\\left ( x y, \\quad 2 x + y = 1000\\right )$$"
      ],
      "text/plain": [
       "(x⋅y, 2⋅x + y = 1000)"
      ]
     },
     "execution_count": 8,
     "metadata": {},
     "output_type": "execute_result"
    }
   ],
   "source": [
    "material=int(input(\"Ingrese material total a usar \"))\n",
    "A=x*y\n",
    "eq1=Eq(2*x+y,material)\n",
    "A,eq1"
   ]
  },
  {
   "cell_type": "code",
   "execution_count": 9,
   "metadata": {},
   "outputs": [
    {
     "data": {
      "image/png": "[encoded data removed]",
      "text/latex": [
       "$$\\left [ - 2 x + 1000\\right ]$$"
      ],
      "text/plain": [
       "[-2⋅x + 1000]"
      ]
     },
     "execution_count": 9,
     "metadata": {},
     "output_type": "execute_result"
    }
   ],
   "source": [
    "y_=solve(eq1,y)\n",
    "y_"
   ]
  },
  {
   "cell_type": "code",
   "execution_count": 10,
   "metadata": {},
   "outputs": [
    {
     "data": {
      "image/png": "[encoded data removed]",
      "text/latex": [
       "$$x \\left(- 2 x + 1000\\right)$$"
      ],
      "text/plain": [
       "x⋅(-2⋅x + 1000)"
      ]
     },
     "execution_count": 10,
     "metadata": {},
     "output_type": "execute_result"
    }
   ],
   "source": [
    "f=A.subs(y,y_[0])\n",
    "f"
   ]
  },
  {
   "cell_type": "code",
   "execution_count": 11,
   "metadata": {},
   "outputs": [
    {
     "name": "stdout",
     "output_type": "stream",
     "text": [
      "Es un máximo\n",
      "X= 250 Y= 500\n"
     ]
    }
   ],
   "source": [
    "df=f.diff()\n",
    "ddf=df.diff()\n",
    "pc=solve(df)\n",
    "maxormin=ddf.subs(x,pc[0])\n",
    "if maxormin <0:\n",
    "    print(\"Es un máximo\")\n",
    "else:\n",
    "    print(\"Es un mínimo\")\n",
    "print(\"X=\",pc[0],\"Y=\",y_[0].subs(x,pc[0]))"
   ]
  },
  {
   "cell_type": "markdown",
   "metadata": {},
   "source": [
    "# 3.2 Ejemplo"
   ]
  },
  {
   "cell_type": "markdown",
   "metadata": {},
   "source": [
    "Se va a fabricar una lata que ha de contener $1L$ de aceite. Encuentre las dimensiones que debe tener la lata de manera que la minimicen el costo del metal para fabricarla"
   ]
  },
  {
   "cell_type": "code",
   "execution_count": 17,
   "metadata": {},
   "outputs": [
    {
     "name": "stdout",
     "output_type": "stream",
     "text": [
      "Ingrese la capacidad que debe de tener la lata.3333\n"
     ]
    },
    {
     "data": {
      "image/png": "[encoded data removed]",
      "text/latex": [
       "$$\\left ( 2 \\pi h r + 2 \\pi r^{2}, \\quad 2 \\pi h r^{2} = 0.0003333\\right )$$"
      ],
      "text/plain": [
       "⎛               2         2            ⎞\n",
       "⎝2⋅π⋅h⋅r + 2⋅π⋅r , 2⋅π⋅h⋅r  = 0.0003333⎠"
      ]
     },
     "execution_count": 17,
     "metadata": {},
     "output_type": "execute_result"
    }
   ],
   "source": [
    "capacidad=float(input(\"Ingrese la capacidad que debe de tener la lata\"))/1000\n",
    "var(\"r h\")\n",
    "area=2*pi*(r**2)+2*pi*r*h\n",
    "volumen=Eq(2*pi*(r**2)*h,capacidad)\n",
    "area,volumen"
   ]
  },
  {
   "cell_type": "code",
   "execution_count": 18,
   "metadata": {},
   "outputs": [
    {
     "data": {
      "image/png": "[encoded data removed]",
      "text/latex": [
       "$$\\left [ \\frac{1}{r^{2}} 5.30463425325287 \\cdot 10^{-5}\\right ]$$"
      ],
      "text/plain": [
       "⎡5.30463425325287e-5⎤\n",
       "⎢───────────────────⎥\n",
       "⎢          2        ⎥\n",
       "⎣         r         ⎦"
      ]
     },
     "execution_count": 18,
     "metadata": {},
     "output_type": "execute_result"
    }
   ],
   "source": [
    "h_=solve(volumen,h)\n",
    "h_"
   ]
  },
  {
   "cell_type": "code",
   "execution_count": 19,
   "metadata": {},
   "outputs": [
    {
     "data": {
      "image/png": "[encoded data removed]",
      "text/latex": [
       "$$2 \\pi r^{2} + \\frac{0.000106092685065057 \\pi}{r}$$"
      ],
      "text/plain": [
       "     2   0.000106092685065057⋅π\n",
       "2⋅π⋅r  + ──────────────────────\n",
       "                   r           "
      ]
     },
     "execution_count": 19,
     "metadata": {},
     "output_type": "execute_result"
    }
   ],
   "source": [
    "f=area.subs(h,h_[0])\n",
    "f"
   ]
  },
  {
   "cell_type": "code",
   "execution_count": 20,
   "metadata": {},
   "outputs": [
    {
     "name": "stdout",
     "output_type": "stream",
     "text": [
      "Es un mínimo\n",
      "r= 2.98223468201506 centimetros h= 5.96446936403014 centimetros\n"
     ]
    }
   ],
   "source": [
    "df=f.diff()\n",
    "ddf=df.diff()\n",
    "pc=solve(df)\n",
    "maxormin=ddf.subs(r,pc[0])\n",
    "if maxormin <0:\n",
    "    print(\"Es un máximo\")\n",
    "else:\n",
    "    print(\"Es un mínimo\")\n",
    "print(\"r=\",pc[0]*100,\"centimetros\",\"h=\",h_[0].subs(r,pc[0])*100,\"centimetros\")"
   ]
  },
  {
   "cell_type": "code",
   "execution_count": null,
   "metadata": {},
   "outputs": [],
   "source": []
  },
  {
   "cell_type": "code",
   "execution_count": null,
   "metadata": {},
   "outputs": [],
   "source": []
  }
 ],
 "metadata": {
  "kernelspec": {
   "display_name": "Python 3",
   "language": "python",
   "name": "python3"
  },
  "language_info": {
   "codemirror_mode": {
    "name": "ipython",
    "version": 3
   },
   "file_extension": ".py",
   "mimetype": "text/x-python",
   "name": "python",
   "nbconvert_exporter": "python",
   "pygments_lexer": "ipython3",
   "version": "3.6.5"
  }
 },
 "nbformat": 4,
 "nbformat_minor": 2
}
