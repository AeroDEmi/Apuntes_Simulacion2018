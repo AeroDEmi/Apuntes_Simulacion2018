{
 "cells": [
  {
   "cell_type": "markdown",
   "metadata": {},
   "source": [
    "# Ejercicio de ejemplo 1"
   ]
  },
  {
   "cell_type": "markdown",
   "metadata": {},
   "source": [
    "Consider el siguiente problema de programación lineal\n",
    "Minimizar:\n",
    "$$f=-x_0+4x_1$$\n",
    "Sujeto a:\n",
    "$$-3x_0+x_1\\leq 6$$\n",
    "$$x_0+2x_1 \\leq 4$$\n",
    "$$x_1\\geq -3 $$\n",
    "Donde:\n",
    "$$- \\infty \\leq x_0 \\leq \\infty $$"
   ]
  },
  {
   "cell_type": "code",
   "execution_count": 1,
   "metadata": {
    "collapsed": true
   },
   "outputs": [],
   "source": [
    "import numpy as np\n",
    "from scipy.optimize import linprog"
   ]
  },
  {
   "cell_type": "code",
   "execution_count": 2,
   "metadata": {
    "collapsed": false
   },
   "outputs": [
    {
     "name": "stdout",
     "output_type": "stream",
     "text": [
      "Optimization terminated successfully.\n",
      "         Current function value: -22.000000  \n",
      "         Iterations: 1\n",
      "     fun: -22.0\n",
      " message: 'Optimization terminated successfully.'\n",
      "     nit: 1\n",
      "   slack: array([39.,  0.])\n",
      "  status: 0\n",
      " success: True\n",
      "       x: array([10., -3.])\n"
     ]
    }
   ],
   "source": [
    "c=[-1,4]\n",
    "A=[[-3,1],[1,2]]\n",
    "b=[6,4]\n",
    "x0_bounds=(None,None)\n",
    "x1_bounds=(-3,None)\n",
    "\n",
    "res =linprog(c,A_ub=A,b_ub=b,bounds=(x0_bounds,x1_bounds),options={\"disp\":True})\n",
    "print(res)\n"
   ]
  },
  {
   "cell_type": "markdown",
   "metadata": {},
   "source": [
    "### Resolviendo con pulp"
   ]
  },
  {
   "cell_type": "code",
   "execution_count": 1,
   "metadata": {
    "collapsed": true
   },
   "outputs": [],
   "source": [
    "from pulp import *"
   ]
  },
  {
   "cell_type": "code",
   "execution_count": 4,
   "metadata": {
    "collapsed": true
   },
   "outputs": [],
   "source": [
    "prob=LpProblem(\"Problema 1\",LpMinimize)\n",
    "x0=LpVariable(\"Variable 1\",None,None)\n",
    "x1=LpVariable(\"Variable 2\",-3,None)"
   ]
  },
  {
   "cell_type": "code",
   "execution_count": 5,
   "metadata": {
    "collapsed": true
   },
   "outputs": [],
   "source": [
    "prob += -x0+4*x1 , \"Función a minimizar\""
   ]
  },
  {
   "cell_type": "code",
   "execution_count": 6,
   "metadata": {
    "collapsed": true
   },
   "outputs": [],
   "source": [
    "prob += -3*x0+x1 <= 6, \"Primera restricción\"\n",
    "prob += x0+2*x1 <= 4, \"Segunda restricción\""
   ]
  },
  {
   "cell_type": "code",
   "execution_count": 7,
   "metadata": {
    "collapsed": false
   },
   "outputs": [
    {
     "name": "stdout",
     "output_type": "stream",
     "text": [
      "Status: Optimal\n"
     ]
    }
   ],
   "source": [
    "prob.solve()\n",
    "print(\"Status:\", LpStatus[prob.status])"
   ]
  },
  {
   "cell_type": "code",
   "execution_count": 8,
   "metadata": {
    "collapsed": false
   },
   "outputs": [
    {
     "name": "stdout",
     "output_type": "stream",
     "text": [
      "Variable_1 = 10.0\n",
      "Variable_2 = -3.0\n"
     ]
    }
   ],
   "source": [
    "for x in prob.variables():\n",
    "    print(x.name,\"=\",x.varValue)"
   ]
  },
  {
   "cell_type": "markdown",
   "metadata": {},
   "source": [
    "# Ejercicio de ejemplo 2 (inversiones)"
   ]
  },
  {
   "cell_type": "markdown",
   "metadata": {},
   "source": [
    "El objetivo de este problema es determinar la mejor estrategia de inversión, dados diferentes tipos de bono, la máxima cantidad que puede ser invertida en cada bono , el porcentaje de retorno y los años de madurez.\n",
    "* Hay una cantidad fija de dinero disponible (750,000)\n",
    "* Por lo menos la mitad de este dinero debe ser invertido en bonos con 10 años o más para la madurez\n",
    "* Se puede invertir un máximo del 25$\\%$ de esta cantidad en cada bono\n",
    "* Finalmente, hay otra restricción que no permite usar más de 35$\\%$ en bonos de alto riesto\n",
    "\n",
    "Existen seis opciones de inversión, con las letras correspondientes $A_i$\n",
    "\n",
    "1. $A_1$: (Tasa de retorno = 8.65$\\%$; Años para la madurez=11, Riesgo=Bajo)\n",
    "2. $A_2$: (Tasa de retorno = 9.50$\\%$; Años para la madurez=10, Riesgo=Alto)\n",
    "3. $A_3$: (Tasa de retorno = 10.00$\\%$; Años para la madurez=6, Riesgo=Alto)\n",
    "4. $A_4$: (Tasa de retorno = 8.75$\\%$; Años para la madurez=10, Riesgo=Bajo)\n",
    "5. $A_5$: (Tasa de retorno = 9.25$\\%$; Años para la madurez=7, Riesgo=Alto)\n",
    "6. $A_6$: (Tasa de retorno = 9.00$\\%$; Años para la madurez=13, Riesgo=Bajo)\n",
    "\n",
    "\n",
    "Lo que se quiere entonces es maximizar el retorno que deja la inversión"
   ]
  },
  {
   "cell_type": "markdown",
   "metadata": {},
   "source": [
    "### Resolviendo con scipy"
   ]
  },
  {
   "cell_type": "markdown",
   "metadata": {},
   "source": [
    "Minimizar:\n",
    "$$8.65A_1+9.50A_2+10A_3+8.75A_4+9.25A_5+9.00A_6 $$\n",
    "Restricciones:\n",
    "$$A_1+A_2+A_3+A_4+A_5+A_6 \\leq 750000 $$\n",
    "$$A_1+A_2+A_4+A_6 \\geq 750000*.5 $$\n",
    "$$0< A_1,A_2,A_3,A_4,A_5,A_6 < 750000*.25 $$\n",
    "$$A_2+A_3+A_5 \\leq 750000*.35 $$"
   ]
  },
  {
   "cell_type": "code",
   "execution_count": 6,
   "metadata": {
    "collapsed": true
   },
   "outputs": [],
   "source": [
    "import numpy as np\n",
    "from scipy.optimize import linprog"
   ]
  },
  {
   "cell_type": "code",
   "execution_count": 11,
   "metadata": {
    "collapsed": true
   },
   "outputs": [],
   "source": [
    "c=[-8.65,-9.5,-10,-8.75,-9.25,-9] #En este caso al estar maximixando la c va con los valores en negativo\n",
    "A=[[1,1,1,1,1,1],[-1,-1,0,-1,0,-1],[0,1,1,0,1,0]]\n",
    "b=[750000,-750000*.5,750000*.35]"
   ]
  },
  {
   "cell_type": "code",
   "execution_count": 12,
   "metadata": {
    "collapsed": false
   },
   "outputs": [],
   "source": [
    "Ai_bound=(0,750000*.25)"
   ]
  },
  {
   "cell_type": "code",
   "execution_count": 13,
   "metadata": {
    "collapsed": false
   },
   "outputs": [
    {
     "name": "stdout",
     "output_type": "stream",
     "text": [
      "Optimization terminated successfully.\n",
      "         Current function value: -6888750.000000\n",
      "         Iterations: 7\n",
      "     fun: -6888750.0\n",
      " message: 'Optimization terminated successfully.'\n",
      "     nit: 7\n",
      "   slack: array([      0.,  187500.,       0.,   75000.,       0.,       0.,\n",
      "        187500.,       0.,       0.])\n",
      "  status: 0\n",
      " success: True\n",
      "       x: array([ 112500.,   75000.,  187500.,  187500.,       0.,  187500.])\n"
     ]
    }
   ],
   "source": [
    "res =linprog(c,A_ub=A,b_ub=b,bounds=(Ai_bound,Ai_bound,Ai_bound,Ai_bound,Ai_bound,Ai_bound),options={\"disp\":True})\n",
    "print(res)"
   ]
  },
  {
   "cell_type": "markdown",
   "metadata": {},
   "source": [
    "### Resolviendo con pulp"
   ]
  },
  {
   "cell_type": "code",
   "execution_count": 2,
   "metadata": {
    "collapsed": true
   },
   "outputs": [],
   "source": [
    "tipos=[\"A1\",\"A2\",\"A3\",\"A4\",\"A5\",\"A6\"]\n",
    "tasa_retorno={\"A1\":8.65,\"A2\":9.50,\"A3\":10.00,\"A4\":8.75,\"A5\":9.25,\"A6\":9.00}\n",
    "años={\"A1\":11,\"A2\":10,\"A3\":6,\"A4\":10,\"A5\":7,\"A6\":13}\n",
    "Riesgo={\"A1\":\"BAJO\",\"A2\":\"ALTO\",\"A3\":\"ALTO\",\"A4\":\"BAJO\",\"A5\":\"ALTO\",\"A6\":\"BAJO\"}"
   ]
  },
  {
   "cell_type": "code",
   "execution_count": 3,
   "metadata": {
    "collapsed": true
   },
   "outputs": [],
   "source": [
    "prob2=LpProblem(\"Problema inversion\",LpMaximize)"
   ]
  },
  {
   "cell_type": "code",
   "execution_count": 4,
   "metadata": {
    "collapsed": true
   },
   "outputs": [],
   "source": [
    "var=LpVariable.dicts(\"vars\",tipos,0,187500)"
   ]
  },
  {
   "cell_type": "code",
   "execution_count": 5,
   "metadata": {
    "collapsed": true
   },
   "outputs": [],
   "source": [
    "prob2 += lpSum([tasa_retorno[i]*var[i] for i in tipos]) , \"Inversion de retorno total\""
   ]
  },
  {
   "cell_type": "code",
   "execution_count": 6,
   "metadata": {
    "collapsed": true
   },
   "outputs": [],
   "source": [
    "#Se agregan las restricciones\n",
    "prob2 += lpSum([var[i] for i in tipos])<= 750000\n",
    "const2=[]\n",
    "for x in tipos :\n",
    "    if años[x] >= 10:\n",
    "        const2.append(var[x])\n",
    "prob2 += lpSum(const2)>=750000*.5\n",
    "const3=[]\n",
    "for x in tipos:\n",
    "    if Riesgo[x]==\"ALTO\":\n",
    "        const3.append(var[x])\n",
    "prob2 += lpSum(const3)<= 750000*.35"
   ]
  },
  {
   "cell_type": "code",
   "execution_count": 7,
   "metadata": {
    "collapsed": false
   },
   "outputs": [
    {
     "name": "stdout",
     "output_type": "stream",
     "text": [
      "Status: Optimal\n"
     ]
    }
   ],
   "source": [
    "prob2.solve()\n",
    "print(\"Status:\", LpStatus[prob2.status])"
   ]
  },
  {
   "cell_type": "code",
   "execution_count": 8,
   "metadata": {
    "collapsed": false
   },
   "outputs": [
    {
     "name": "stdout",
     "output_type": "stream",
     "text": [
      "vars_A1 = 112500.0\n",
      "vars_A2 = 75000.0\n",
      "vars_A3 = 187500.0\n",
      "vars_A4 = 187500.0\n",
      "vars_A5 = 0.0\n",
      "vars_A6 = 187500.0\n"
     ]
    }
   ],
   "source": [
    "for x in prob2.variables():\n",
    "    print(x.name,\"=\",x.varValue)"
   ]
  },
  {
   "cell_type": "markdown",
   "metadata": {},
   "source": [
    "# Ejercicio de ejemplo 3 (problema de transporte)"
   ]
  },
  {
   "cell_type": "markdown",
   "metadata": {},
   "source": [
    "Este es un caso curioso, con solo 6 variables (un caso real de problema de transporte puede tener fácilmente más de 1.000 variables) en el cual se aprecia la utilidad de este procedimiento de cálculo.\n",
    "\n",
    "\n",
    "Existen tres minas de carbón cuya producción diaria es: \n",
    "\n",
    "\n",
    "* La mina \"a\" produce 40 toneladas de carbón por día;\n",
    "* La mina \"b\" produce 40 t/día; y,\n",
    "* La mina \"c\" produce 20 t/día.\n",
    "\n",
    "En la zona hay dos centrales termoeléctricas que consumen: \n",
    "\n",
    "* La central \"d\" consume 40 t/día de carbón; y,\n",
    "* La central \"e\" consume 60 t/día\n",
    "\n",
    "Los costos de mercado, de transporte por tonelada son: \n",
    "\n",
    "* De \"a\" a \"d\" = 2 monedas\n",
    "* De \"a\" a \"e\" = 11 monedas\n",
    "* De \"b\" a \"d\" = 12 monedas\n",
    "* De \"b\" a \"e\" = 24 monedas\n",
    "* De \"c\" a \"d\" = 13 monedas\n",
    "* De \"c\" a \"e\" = 18 monedas"
   ]
  },
  {
   "cell_type": "markdown",
   "metadata": {},
   "source": [
    "Funcion a minimizar:\n",
    "$$2ad+11ae+12bd+24be+13cd+18ce$$\n",
    "Restricciones:\n",
    "$$ad+ae \\leq 40 $$\n",
    "$$bd+be \\leq 40 $$\n",
    "$$cd+ce \\leq 20 $$\n",
    "$$ad+bd+cd \\geq 40 $$\n",
    "$$ae+be+ce \\geq 60 $$"
   ]
  },
  {
   "cell_type": "markdown",
   "metadata": {},
   "source": [
    "### Resolviendo con scipy"
   ]
  },
  {
   "cell_type": "code",
   "execution_count": 14,
   "metadata": {
    "collapsed": true
   },
   "outputs": [],
   "source": [
    "import numpy as np\n",
    "from scipy.optimize import linprog"
   ]
  },
  {
   "cell_type": "code",
   "execution_count": 29,
   "metadata": {
    "collapsed": true
   },
   "outputs": [],
   "source": [
    "c=[2,11,12,24,13,18]\n",
    "A=[[1,1,0,0,0,0],[0,0,1,1,0,0],[0,0,0,0,1,1],[-1,0,-1,0,-1,0],[0,-1,0,-1,0,-1]]\n",
    "b=[40,40,20,-40,-60]\n",
    "ruta_bound=(0,None)"
   ]
  },
  {
   "cell_type": "code",
   "execution_count": 30,
   "metadata": {
    "collapsed": false
   },
   "outputs": [
    {
     "name": "stdout",
     "output_type": "stream",
     "text": [
      "Optimization terminated successfully.\n",
      "         Current function value: 1280.000000 \n",
      "         Iterations: 10\n",
      "     fun: 1280.0\n",
      " message: 'Optimization terminated successfully.'\n",
      "     nit: 10\n",
      "   slack: array([ 0.,  0.,  0.,  0.,  0.])\n",
      "  status: 0\n",
      " success: True\n",
      "       x: array([  0.,  40.,  40.,   0.,   0.,  20.])\n"
     ]
    }
   ],
   "source": [
    "res =linprog(c,A_ub=A,b_ub=b,bounds=(ruta_bound,ruta_bound,ruta_bound,ruta_bound,ruta_bound,ruta_bound),options={\"disp\":True})\n",
    "print(res)"
   ]
  },
  {
   "cell_type": "markdown",
   "metadata": {},
   "source": [
    "### Resolviendo con pulp"
   ]
  },
  {
   "cell_type": "code",
   "execution_count": 23,
   "metadata": {
    "collapsed": true
   },
   "outputs": [],
   "source": [
    "from pulp import *\n",
    "rutas=[\"ad\",\"ae\",\"bd\",\"be\",\"cd\",\"ce\"] #la variable la definiré como el número de toneladas por ruta\n",
    "prob3=LpProblem(\"Minimizar costos\",LpMinimize)\n",
    "ruta=LpVariable.dicts(\"ruta\",rutas,0)"
   ]
  },
  {
   "cell_type": "code",
   "execution_count": 24,
   "metadata": {
    "collapsed": true
   },
   "outputs": [],
   "source": [
    "costos={\"ad\":2,\"ae\":11,\"bd\":12,\"be\":24,\"cd\":13,\"ce\":18}"
   ]
  },
  {
   "cell_type": "code",
   "execution_count": 25,
   "metadata": {
    "collapsed": true
   },
   "outputs": [],
   "source": [
    "prob3 += lpSum([costos[i]*ruta[i] for i in rutas]), \"Minimizar el costo\""
   ]
  },
  {
   "cell_type": "code",
   "execution_count": 26,
   "metadata": {
    "collapsed": false
   },
   "outputs": [],
   "source": [
    "#Restricciones \n",
    "prob3 += ruta[\"ad\"]+ruta[\"ae\"] <= 40 , \"Maxima producción de la mina a\"\n",
    "prob3 += ruta[\"bd\"]+ruta[\"be\"] <= 40 , \"Maxima producción de la mina b\"\n",
    "prob3 += ruta[\"cd\"]+ruta[\"ce\"] <= 20 , \"Maxima producción de la mina c\"\n",
    "prob3 += ruta[\"ad\"]+ruta[\"bd\"] +ruta[\"cd\"]>= 40 , \"Consumo de la fabrica d\"\n",
    "prob3 += ruta[\"ae\"]+ruta[\"be\"] +ruta[\"ce\"]>= 60 , \"Consumo de la fabrica e\""
   ]
  },
  {
   "cell_type": "code",
   "execution_count": 27,
   "metadata": {
    "collapsed": false
   },
   "outputs": [
    {
     "name": "stdout",
     "output_type": "stream",
     "text": [
      "Status: Optimal\n"
     ]
    }
   ],
   "source": [
    "prob3.solve()\n",
    "print(\"Status:\", LpStatus[prob3.status])"
   ]
  },
  {
   "cell_type": "code",
   "execution_count": 28,
   "metadata": {
    "collapsed": false
   },
   "outputs": [
    {
     "name": "stdout",
     "output_type": "stream",
     "text": [
      "ruta_ad = 0.0\n",
      "ruta_ae = 40.0\n",
      "ruta_bd = 40.0\n",
      "ruta_be = 0.0\n",
      "ruta_cd = 0.0\n",
      "ruta_ce = 20.0\n"
     ]
    }
   ],
   "source": [
    "for x in prob3.variables():\n",
    "    print(x.name,\"=\",x.varValue)"
   ]
  },
  {
   "cell_type": "code",
   "execution_count": null,
   "metadata": {
    "collapsed": true
   },
   "outputs": [],
   "source": []
  }
 ],
 "metadata": {
  "anaconda-cloud": {},
  "kernelspec": {
   "display_name": "Python [default]",
   "language": "python",
   "name": "python3"
  },
  "language_info": {
   "codemirror_mode": {
    "name": "ipython",
    "version": 3
   },
   "file_extension": ".py",
   "mimetype": "text/x-python",
   "name": "python",
   "nbconvert_exporter": "python",
   "pygments_lexer": "ipython3",
   "version": "3.5.2"
  }
 },
 "nbformat": 4,
 "nbformat_minor": 2
}
